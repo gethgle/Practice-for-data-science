{
  "nbformat": 4,
  "nbformat_minor": 0,
  "metadata": {
    "colab": {
      "name": "Quora Question Pairs.ipynb",
      "provenance": [],
      "collapsed_sections": [],
      "machine_shape": "hm"
    },
    "kernelspec": {
      "name": "python3",
      "display_name": "Python 3"
    },
    "accelerator": "GPU"
  },
  "cells": [
    {
      "cell_type": "code",
      "metadata": {
        "id": "05o4THlx-hZy",
        "colab_type": "code",
        "outputId": "caa0255e-c926-4eb2-c2a3-1eb6f3b4ec8f",
        "colab": {
          "base_uri": "https://localhost:8080/",
          "height": 34
        }
      },
      "source": [
        "import os, sys\n",
        "from google.colab import drive\n",
        "drive.mount('/content/mnt')"
      ],
      "execution_count": 3,
      "outputs": [
        {
          "output_type": "stream",
          "text": [
            "Drive already mounted at /content/mnt; to attempt to forcibly remount, call drive.mount(\"/content/mnt\", force_remount=True).\n"
          ],
          "name": "stdout"
        }
      ]
    },
    {
      "cell_type": "code",
      "metadata": {
        "id": "iw9xhU0I0gNv",
        "colab_type": "code",
        "outputId": "20bbd857-9e54-4530-a14f-9db88190e7cf",
        "colab": {
          "base_uri": "https://localhost:8080/",
          "height": 136
        }
      },
      "source": [
        "import numpy as np\n",
        "import pandas as pd\n",
        "import seaborn as sns\n",
        "import matplotlib.pyplot as plt\n",
        "import warnings\n",
        "warnings.filterwarnings(\"ignore\") \n",
        "import re\n",
        "from nltk.corpus import stopwords\n",
        "from nltk.stem import PorterStemmer\n",
        "from bs4 import BeautifulSoup\n",
        "!pip install fuzzywuzzy\n",
        "from fuzzywuzzy import fuzz\n",
        "import string\n",
        "import nltk\n",
        "from scipy.sparse import hstack\n",
        "nltk.download('stopwords')\n",
        "!pip install Distance\n",
        "import distance\n",
        "from sklearn.feature_extraction.text import TfidfVectorizer\n",
        "from collections import Counter\n",
        "from sklearn.metrics.classification import accuracy_score, log_loss\n",
        "from sklearn.metrics import confusion_matrix\n",
        "from sklearn.model_selection import GridSearchCV\n",
        "from sklearn.metrics import log_loss\n",
        "from sklearn.calibration import CalibratedClassifierCV\n",
        "from sklearn.linear_model import SGDClassifier\n",
        "from gensim.models import Word2Vec\n",
        "import spacy\n",
        "from tqdm import tqdm\n",
        "nltk.download('punkt')"
      ],
      "execution_count": 4,
      "outputs": [
        {
          "output_type": "stream",
          "text": [
            "Requirement already satisfied: fuzzywuzzy in /usr/local/lib/python3.6/dist-packages (0.17.0)\n",
            "[nltk_data] Downloading package stopwords to /root/nltk_data...\n",
            "[nltk_data]   Package stopwords is already up-to-date!\n",
            "Requirement already satisfied: Distance in /usr/local/lib/python3.6/dist-packages (0.1.3)\n",
            "[nltk_data] Downloading package punkt to /root/nltk_data...\n",
            "[nltk_data]   Package punkt is already up-to-date!\n"
          ],
          "name": "stdout"
        },
        {
          "output_type": "execute_result",
          "data": {
            "text/plain": [
              "True"
            ]
          },
          "metadata": {
            "tags": []
          },
          "execution_count": 4
        }
      ]
    },
    {
      "cell_type": "code",
      "metadata": {
        "colab_type": "code",
        "id": "_qs-rqXAOOTP",
        "colab": {}
      },
      "source": [
        "df_train= pd.read_csv('/content/mnt/My Drive/Quora/train.csv') # reading CSV data train  "
      ],
      "execution_count": 0,
      "outputs": []
    },
    {
      "cell_type": "code",
      "metadata": {
        "id": "2WWPW_Utj0hR",
        "colab_type": "code",
        "colab": {}
      },
      "source": [
        "df_train = df_train.sample(n=100000, random_state=42) "
      ],
      "execution_count": 0,
      "outputs": []
    },
    {
      "cell_type": "code",
      "metadata": {
        "id": "T_jAX9tQQKex",
        "colab_type": "code",
        "outputId": "1a497456-96a8-4e5a-a53b-c11dbdc49f23",
        "colab": {
          "base_uri": "https://localhost:8080/",
          "height": 204
        }
      },
      "source": [
        "df_train.head() "
      ],
      "execution_count": 7,
      "outputs": [
        {
          "output_type": "execute_result",
          "data": {
            "text/html": [
              "<div>\n",
              "<style scoped>\n",
              "    .dataframe tbody tr th:only-of-type {\n",
              "        vertical-align: middle;\n",
              "    }\n",
              "\n",
              "    .dataframe tbody tr th {\n",
              "        vertical-align: top;\n",
              "    }\n",
              "\n",
              "    .dataframe thead th {\n",
              "        text-align: right;\n",
              "    }\n",
              "</style>\n",
              "<table border=\"1\" class=\"dataframe\">\n",
              "  <thead>\n",
              "    <tr style=\"text-align: right;\">\n",
              "      <th></th>\n",
              "      <th>id</th>\n",
              "      <th>qid1</th>\n",
              "      <th>qid2</th>\n",
              "      <th>question1</th>\n",
              "      <th>question2</th>\n",
              "      <th>is_duplicate</th>\n",
              "    </tr>\n",
              "  </thead>\n",
              "  <tbody>\n",
              "    <tr>\n",
              "      <th>8067</th>\n",
              "      <td>8067</td>\n",
              "      <td>15738</td>\n",
              "      <td>15739</td>\n",
              "      <td>How do I play Pokémon GO in Korea?</td>\n",
              "      <td>How do I play Pokémon GO in China?</td>\n",
              "      <td>0</td>\n",
              "    </tr>\n",
              "    <tr>\n",
              "      <th>368101</th>\n",
              "      <td>368101</td>\n",
              "      <td>12736</td>\n",
              "      <td>104117</td>\n",
              "      <td>What are some of the best side dishes for crab...</td>\n",
              "      <td>What are some good side dishes for buffalo chi...</td>\n",
              "      <td>0</td>\n",
              "    </tr>\n",
              "    <tr>\n",
              "      <th>70497</th>\n",
              "      <td>70497</td>\n",
              "      <td>121486</td>\n",
              "      <td>121487</td>\n",
              "      <td>Which is more advisable and better material fo...</td>\n",
              "      <td>What is the best server setup for buddypress?</td>\n",
              "      <td>0</td>\n",
              "    </tr>\n",
              "    <tr>\n",
              "      <th>226567</th>\n",
              "      <td>226567</td>\n",
              "      <td>254474</td>\n",
              "      <td>258192</td>\n",
              "      <td>How do I improve logical programming skills?</td>\n",
              "      <td>How can I improve my logical skills for progra...</td>\n",
              "      <td>1</td>\n",
              "    </tr>\n",
              "    <tr>\n",
              "      <th>73186</th>\n",
              "      <td>73186</td>\n",
              "      <td>48103</td>\n",
              "      <td>3062</td>\n",
              "      <td>How close we are to see 3rd world war?</td>\n",
              "      <td>How close is a World War III?</td>\n",
              "      <td>1</td>\n",
              "    </tr>\n",
              "  </tbody>\n",
              "</table>\n",
              "</div>"
            ],
            "text/plain": [
              "            id  ...  is_duplicate\n",
              "8067      8067  ...             0\n",
              "368101  368101  ...             0\n",
              "70497    70497  ...             0\n",
              "226567  226567  ...             1\n",
              "73186    73186  ...             1\n",
              "\n",
              "[5 rows x 6 columns]"
            ]
          },
          "metadata": {
            "tags": []
          },
          "execution_count": 7
        }
      ]
    },
    {
      "cell_type": "code",
      "metadata": {
        "id": "Q1lgle_tYSv3",
        "colab_type": "code",
        "outputId": "374746d5-3bbd-4c03-acf1-a98c4eea33a8",
        "colab": {
          "base_uri": "https://localhost:8080/",
          "height": 34
        }
      },
      "source": [
        "print('~> Total number of question pairs for training:   {}'.format(len(df_train))) "
      ],
      "execution_count": 8,
      "outputs": [
        {
          "output_type": "stream",
          "text": [
            "~> Total number of question pairs for training:   100000\n"
          ],
          "name": "stdout"
        }
      ]
    },
    {
      "cell_type": "code",
      "metadata": {
        "id": "BmtkcgWzCK9f",
        "colab_type": "code",
        "outputId": "90126abe-cab1-4979-dabd-c6c5ab4bad13",
        "colab": {
          "base_uri": "https://localhost:8080/",
          "height": 204
        }
      },
      "source": [
        "df_train.info() "
      ],
      "execution_count": 9,
      "outputs": [
        {
          "output_type": "stream",
          "text": [
            "<class 'pandas.core.frame.DataFrame'>\n",
            "Int64Index: 100000 entries, 8067 to 225896\n",
            "Data columns (total 6 columns):\n",
            "id              100000 non-null int64\n",
            "qid1            100000 non-null int64\n",
            "qid2            100000 non-null int64\n",
            "question1       100000 non-null object\n",
            "question2       100000 non-null object\n",
            "is_duplicate    100000 non-null int64\n",
            "dtypes: int64(4), object(2)\n",
            "memory usage: 5.3+ MB\n"
          ],
          "name": "stdout"
        }
      ]
    },
    {
      "cell_type": "code",
      "metadata": {
        "id": "78jBy7kS4Eqw",
        "colab_type": "code",
        "outputId": "e1cc1e6b-5494-4e8c-8eb4-aca078289996",
        "colab": {
          "base_uri": "https://localhost:8080/",
          "height": 364
        }
      },
      "source": [
        "#How many data points for each class are present#\n",
        "## balanced-dataset vs imbalanced datasets#\n",
        "print(df_train.is_duplicate.value_counts()) # Question pairs are not Similar (is_duplicate = 0)\n",
        "print(df_train.is_duplicate.value_counts(normalize=True)) # Question pairs are Similar (is_duplicate = 1)\n",
        "plt.show(df_train.is_duplicate.value_counts(normalize=True).plot.bar()) #D istribution of data points among output classes "
      ],
      "execution_count": 11,
      "outputs": [
        {
          "output_type": "stream",
          "text": [
            "0    62879\n",
            "1    37121\n",
            "Name: is_duplicate, dtype: int64\n",
            "0    0.62879\n",
            "1    0.37121\n",
            "Name: is_duplicate, dtype: float64\n"
          ],
          "name": "stdout"
        },
        {
          "output_type": "display_data",
          "data": {
            "image/png": "[encoded data removed]",
            "text/plain": [
              "<Figure size 432x288 with 1 Axes>"
            ]
          },
          "metadata": {
            "tags": []
          }
        }
      ]
    },
    {
      "cell_type": "code",
      "metadata": {
        "id": "KUxaX_j6VXiL",
        "colab_type": "code",
        "outputId": "15c125ff-f18c-463f-d378-519ca650d1f9",
        "colab": {
          "base_uri": "https://localhost:8080/",
          "height": 68
        }
      },
      "source": [
        "#Checking whether there are any rows with null values\n",
        "nan_rows = df_train[df_train.isnull().any(1)]\n",
        "print (nan_rows) "
      ],
      "execution_count": 12,
      "outputs": [
        {
          "output_type": "stream",
          "text": [
            "Empty DataFrame\n",
            "Columns: [id, qid1, qid2, question1, question2, is_duplicate]\n",
            "Index: []\n"
          ],
          "name": "stdout"
        }
      ]
    },
    {
      "cell_type": "code",
      "metadata": {
        "id": "7bNptEUAVgBL",
        "colab_type": "code",
        "outputId": "9d95a206-3222-4b11-b721-3404bbff837a",
        "colab": {
          "base_uri": "https://localhost:8080/",
          "height": 68
        }
      },
      "source": [
        "# Filling the null values with ' '\n",
        "df_train = df_train.fillna('')\n",
        "nan_rows = df_train[df_train.isnull().any(1)]\n",
        "print (nan_rows) "
      ],
      "execution_count": 13,
      "outputs": [
        {
          "output_type": "stream",
          "text": [
            "Empty DataFrame\n",
            "Columns: [id, qid1, qid2, question1, question2, is_duplicate]\n",
            "Index: []\n"
          ],
          "name": "stdout"
        }
      ]
    },
    {
      "cell_type": "code",
      "metadata": {
        "id": "XAm0CassOoQK",
        "colab_type": "code",
        "colab": {}
      },
      "source": [
        "def Basic_Feature_Extraction(df):\n",
        "  df['len_q1'] = df.question1.apply(lambda x: len(str(x))) # Length of question1 \n",
        "  df['len_q2'] = df.question2.apply(lambda x: len(str(x))) # Length of question2\n",
        "  df['diff len'] = abs(df.len_q1- df.len_q2)       # Difference in the two lengths\n",
        "  df['len_char_ql'] = df.question1.apply(lambda x: len(''.join(set(str(x).replace('', ''))))) #Character length of question1 without spaces\n",
        "  df['len_char_q2'] = df.question2.apply(lambda x: len(''.join(set(str(x).replace('', ''))))) #Character length of question2 without spaces\n",
        "  df['len_word_q1'] = df.question1.apply(lambda x: len(str(x).split())) # Number of words in question1\n",
        "  df['len_word_q2'] = df.question2.apply(lambda x: len(str(x).split())) # Number of words in question2\n",
        "  df['common_words'] =df.apply(lambda x: len(set(str(x['question1']).lower().split()).intersection(set(str(x['question2']).lower().split()))),axis=1)# Number of common words in question1 and question2\n",
        "  df['word_share']  = df.common_words/(df.len_word_q1+df.len_word_q2) #(word_common)/(total number of words) \n",
        "  return df"
      ],
      "execution_count": 0,
      "outputs": []
    },
    {
      "cell_type": "code",
      "metadata": {
        "id": "Igwvi7BIPFok",
        "colab_type": "code",
        "colab": {}
      },
      "source": [
        "df_train= Basic_Feature_Extraction(df_train) # Basic Feature Extraction (before cleaning) on train data set."
      ],
      "execution_count": 0,
      "outputs": []
    },
    {
      "cell_type": "code",
      "metadata": {
        "id": "yigVyYh2hQn_",
        "colab_type": "code",
        "colab": {}
      },
      "source": [
        "def decontracted(text):\n",
        "    # general\n",
        "    text = re.sub(r\"won't\", \"will not\", text)\n",
        "    text = re.sub(r\"can\\'t\", \"can not\", text)\n",
        "    text = re.sub(r\"what's\", \"\", text)\n",
        "    text = re.sub(r\"What's\", \"\", text)\n",
        "    text = re.sub(r\"\\'s\", \" \", text)\n",
        "    text = re.sub(r\"\\'ve\", \" have \", text)\n",
        "    text = re.sub(r\"can't\", \"cannot \", text)\n",
        "    text = re.sub(r\"n't\", \" not \", text)\n",
        "    text = re.sub(r\"I'm\", \"I am\", text)\n",
        "    text = re.sub(r\" m \", \" am \", text)\n",
        "    text = re.sub(r\"\\'re\", \" are \", text)\n",
        "    text = re.sub(r\"\\'d\", \" would \", text)\n",
        "    text = re.sub(r\"\\'ll\", \" will \", text)\n",
        "    text = re.sub(r\"60k\", \" 60000 \", text)\n",
        "    text = re.sub(r\" e g \", \" eg \", text)\n",
        "    text = re.sub(r\" b g \", \" bg \", text)\n",
        "    text = re.sub(r\"\\0s\", \"0\", text)\n",
        "    text = re.sub(r\" 9 11 \", \"911\", text)\n",
        "    text = re.sub(r\"e-mail\", \"email\", text)\n",
        "    text = re.sub(r\"\\s{2,}\", \" \", text)\n",
        "    text = re.sub(r\"quikly\", \"quickly\", text)\n",
        "    text = re.sub(r\" usa \", \" America \", text)\n",
        "    text = re.sub(r\" USA \", \" America \", text)\n",
        "    text = re.sub(r\" u s \", \" America \", text)\n",
        "    text = re.sub(r\" uk \", \" England \", text)\n",
        "    text = re.sub(r\" UK \", \" England \", text)\n",
        "    text = re.sub(r\"india\", \"India\", text)\n",
        "    text = re.sub(r\"switzerland\", \"Switzerland\", text)\n",
        "    text = re.sub(r\"china\", \"China\", text)\n",
        "    text = re.sub(r\"chinese\", \"Chinese\", text) \n",
        "    text = re.sub(r\"imrovement\", \"improvement\", text)\n",
        "    text = re.sub(r\"intially\", \"initially\", text)\n",
        "    text = re.sub(r\"quora\", \"Quora\", text)\n",
        "    text = re.sub(r\" dms \", \"direct messages \", text)  \n",
        "    text = re.sub(r\"demonitization\", \"demonetization\", text) \n",
        "    text = re.sub(r\"actived\", \"active\", text)\n",
        "    text = re.sub(r\"kms\", \" kilometers \", text)\n",
        "    text = re.sub(r\"KMs\", \" kilometers \", text)\n",
        "    text = re.sub(r\" cs \", \" computer science \", text) \n",
        "    text = re.sub(r\" upvotes \", \" up votes \", text)\n",
        "    text = re.sub(r\" iPhone \", \" phone \", text)\n",
        "    text = re.sub(r\"\\0rs \", \" rs \", text) \n",
        "    text = re.sub(r\"calender\", \"calendar\", text)\n",
        "    text = re.sub(r\"ios\", \"operating system\", text)\n",
        "    text = re.sub(r\"gps\", \"GPS\", text)\n",
        "    text = re.sub(r\"gst\", \"GST\", text)\n",
        "    text = re.sub(r\"programing\", \"programming\", text)\n",
        "    text = re.sub(r\"bestfriend\", \"best friend\", text)\n",
        "    text = re.sub(r\"dna\", \"DNA\", text)\n",
        "    text = re.sub(r\"III\", \"3\", text) \n",
        "    text = re.sub(r\"the US\", \"America\", text)\n",
        "    text = re.sub(r\"Astrology\", \"astrology\", text)\n",
        "    text = re.sub(r\"Method\", \"method\", text)\n",
        "    text = re.sub(r\"Find\", \"find\", text) \n",
        "    text = re.sub(r\"banglore\", \"Banglore\", text)\n",
        "    text = re.sub(r\" J K \", \" JK \", text)\n",
        "    return text \n",
        "def clean_text(text):\n",
        "  text = text.replace(\",000,000\", \"m\").replace(\",000\", \"k\").replace(\"′\", \"'\").replace(\"’\", \"'\")\\\n",
        "  .replace(\"won't\", \"will not\").replace(\"cannot\", \"can not\").replace(\"can't\", \"can not\")\\\n",
        "  .replace(\"n't\", \" not\").replace(\"what's\", \"what is\").replace(\"it's\", \"it is\")\\\n",
        "  .replace(\"'ve\", \" have\").replace(\"i'm\", \"i am\").replace(\"'re\", \" are\")\\\n",
        "  .replace(\"he's\", \"he is\").replace(\"she's\", \"she is\").replace(\"'s\", \" own\")\\\n",
        "  .replace(\"%\", \" percent \").replace(\"₹\", \" rupee \").replace(\"$\", \" dollar \")\\\n",
        "  .replace(\"€\", \" euro \").replace(\"'ll\", \" will\")\n",
        "  text=  decontracted(text)\n",
        "  text = re.sub(\"\\S*\\d\\S*\", \"\", text).strip()\n",
        "  text = re.sub('[^A-Za-z]+', ' ', text)\n",
        "  text= re.sub(r\"http\\S+\", \"\", text)\n",
        "  return text"
      ],
      "execution_count": 0,
      "outputs": []
    },
    {
      "cell_type": "code",
      "metadata": {
        "id": "QWmoWG7lSDXJ",
        "colab_type": "code",
        "colab": {}
      },
      "source": [
        "def preprocess(x):\n",
        "    porter = PorterStemmer() \n",
        "    pattern = re.compile('\\W') \n",
        "    \n",
        "    if type(x) == type(''):\n",
        "        x = re.sub(pattern, ' ', x)\n",
        "\n",
        "    if type(x) == type(''):\n",
        "        x = porter.stem(x)\n",
        "        example1 = BeautifulSoup(x)\n",
        "        x = example1.get_text()\n",
        "    return x \n",
        "\n",
        "STOP_WORDS = stopwords.words(\"english\")\n",
        "SAFE_DIV = 0.0001 "
      ],
      "execution_count": 0,
      "outputs": []
    },
    {
      "cell_type": "code",
      "metadata": {
        "id": "1CXbeVSNn7Hy",
        "colab_type": "code",
        "colab": {}
      },
      "source": [
        "df_train['clean_q1']= df_train['question1'].apply(lambda x: clean_text(x)) \n",
        "df_train['clean_q2']= df_train['question2'].apply(lambda x: clean_text(x)) "
      ],
      "execution_count": 0,
      "outputs": []
    },
    {
      "cell_type": "code",
      "metadata": {
        "id": "mAuEPHVJXH8l",
        "colab_type": "code",
        "colab": {}
      },
      "source": [
        "def get_token_features(q1, q2):\n",
        "    token_features = [0.0]*10\n",
        "    \n",
        "    # Converting the Sentence into Tokens: \n",
        "    q1_tokens = q1.split()\n",
        "    q2_tokens = q2.split()\n",
        "\n",
        "    if len(q1_tokens) == 0 or len(q2_tokens) == 0:\n",
        "        return token_features\n",
        "    # Get the non-stopwords in Questions\n",
        "    q1_words = set([word for word in q1_tokens if word not in STOP_WORDS])\n",
        "    q2_words = set([word for word in q2_tokens if word not in STOP_WORDS])\n",
        "    \n",
        "    #Get the stopwords in Questions\n",
        "    q1_stops = set([word for word in q1_tokens if word in STOP_WORDS])\n",
        "    q2_stops = set([word for word in q2_tokens if word in STOP_WORDS])\n",
        "    \n",
        "    # Get the common non-stopwords from Question pair\n",
        "    common_word_count = len(q1_words.intersection(q2_words))\n",
        "    \n",
        "    # Get the common stopwords from Question pair\n",
        "    common_stop_count = len(q1_stops.intersection(q2_stops))\n",
        "    \n",
        "    # Get the common Tokens from Question pair\n",
        "    common_token_count = len(set(q1_tokens).intersection(set(q2_tokens)))\n",
        "    \n",
        "    \n",
        "    token_features[0] = common_word_count / (min(len(q1_words), len(q2_words)) + SAFE_DIV)\n",
        "    token_features[1] = common_word_count / (max(len(q1_words), len(q2_words)) + SAFE_DIV)\n",
        "    token_features[2] = common_stop_count / (min(len(q1_stops), len(q2_stops)) + SAFE_DIV)\n",
        "    token_features[3] = common_stop_count / (max(len(q1_stops), len(q2_stops)) + SAFE_DIV)\n",
        "    token_features[4] = common_token_count / (min(len(q1_tokens), len(q2_tokens)) + SAFE_DIV)\n",
        "    token_features[5] = common_token_count / (max(len(q1_tokens), len(q2_tokens)) + SAFE_DIV)\n",
        "    \n",
        "    # Last word of both question is same or not\n",
        "    token_features[6] = int(q1_tokens[-1] == q2_tokens[-1])\n",
        "    \n",
        "    # First word of both question is same or not\n",
        "    token_features[7] = int(q1_tokens[0] == q2_tokens[0])\n",
        "    \n",
        "    token_features[8] = abs(len(q1_tokens) - len(q2_tokens))\n",
        "    \n",
        "    #Average Token Length of both Questions\n",
        "    token_features[9] = (len(q1_tokens) + len(q2_tokens))/2\n",
        "    return token_features\n",
        "\n",
        "# get the Longest Common sub string\n",
        "\n",
        "def get_longest_substr_ratio(a, b):\n",
        "    strs = list(distance.lcsubstrings(a, b))\n",
        "    if len(strs) == 0:\n",
        "        return 0\n",
        "    else:\n",
        "        return len(strs[0]) / (min(len(a), len(b)) + 1)\n",
        "\n",
        "def extract_features(df):\n",
        "    # preprocessing each question\n",
        "    df[\"question1\"] = df[\"question1\"].fillna(\"\").apply(preprocess)\n",
        "    df[\"question2\"] = df[\"question2\"].fillna(\"\").apply(preprocess)\n",
        "\n",
        "    print(\"token features...\")\n",
        "    \n",
        "    # Merging Features with dataset\n",
        "    \n",
        "    token_features = df.apply(lambda x: get_token_features(x[\"question1\"], x[\"question2\"]), axis=1)\n",
        "    \n",
        "    df[\"cwc_min\"]       = list(map(lambda x: x[0], token_features))\n",
        "    df[\"cwc_max\"]       = list(map(lambda x: x[1], token_features))\n",
        "    df[\"csc_min\"]       = list(map(lambda x: x[2], token_features))\n",
        "    df[\"csc_max\"]       = list(map(lambda x: x[3], token_features))\n",
        "    df[\"ctc_min\"]       = list(map(lambda x: x[4], token_features))\n",
        "    df[\"ctc_max\"]       = list(map(lambda x: x[5], token_features))\n",
        "    df[\"last_word_eq\"]  = list(map(lambda x: x[6], token_features))\n",
        "    df[\"first_word_eq\"] = list(map(lambda x: x[7], token_features))\n",
        "    df[\"abs_len_diff\"]  = list(map(lambda x: x[8], token_features))\n",
        "    df[\"mean_len\"]      = list(map(lambda x: x[9], token_features))\n",
        "   \n",
        "    #Computing Fuzzy Features and Merging with Dataset\n",
        "    \n",
        "    # do read this blog: http://chairnerd.seatgeek.com/fuzzywuzzy-fuzzy-string-matching-in-python/\n",
        "    # https://stackoverflow.com/questions/31806695/when-to-use-which-fuzz-function-to-compare-2-strings\n",
        "    # https://github.com/seatgeek/fuzzywuzzy\n",
        "    print(\"fuzzy features..\")\n",
        "\n",
        "    df[\"token_set_ratio\"]       = df.apply(lambda x: fuzz.token_set_ratio(x[\"question1\"], x[\"question2\"]), axis=1)\n",
        "    # The token sort approach involves tokenizing the string in question, sorting the tokens alphabetically, and \n",
        "    # then joining them back into a string We then compare the transformed strings with a simple ratio().\n",
        "    df[\"token_sort_ratio\"]      = df.apply(lambda x: fuzz.token_sort_ratio(x[\"question1\"], x[\"question2\"]), axis=1)\n",
        "    df[\"fuzz_ratio\"]            = df.apply(lambda x: fuzz.QRatio(x[\"question1\"], x[\"question2\"]), axis=1)\n",
        "    df[\"fuzz_partial_ratio\"]    = df.apply(lambda x: fuzz.partial_ratio(x[\"question1\"], x[\"question2\"]), axis=1)\n",
        "    df[\"longest_substr_ratio\"]  = df.apply(lambda x: get_longest_substr_ratio(x[\"question1\"], x[\"question2\"]), axis=1)\n",
        "    return df\n"
      ],
      "execution_count": 0,
      "outputs": []
    },
    {
      "cell_type": "code",
      "metadata": {
        "id": "EpkgbTfCdD-F",
        "colab_type": "code",
        "outputId": "feb414bf-f3ad-49ba-ba38-5ea1bb4c4ea5",
        "colab": {
          "base_uri": "https://localhost:8080/",
          "height": 51
        }
      },
      "source": [
        "df_train= extract_features(df_train)"
      ],
      "execution_count": 21,
      "outputs": [
        {
          "output_type": "stream",
          "text": [
            "token features...\n",
            "fuzzy features..\n"
          ],
          "name": "stdout"
        }
      ]
    },
    {
      "cell_type": "code",
      "metadata": {
        "id": "i__0Qel8_svF",
        "colab_type": "code",
        "outputId": "c52b76f8-20e4-45ba-aadf-1dd4cbe6e490",
        "colab": {
          "base_uri": "https://localhost:8080/",
          "height": 547
        }
      },
      "source": [
        "df_train.head() "
      ],
      "execution_count": 22,
      "outputs": [
        {
          "output_type": "execute_result",
          "data": {
            "text/html": [
              "<div>\n",
              "<style scoped>\n",
              "    .dataframe tbody tr th:only-of-type {\n",
              "        vertical-align: middle;\n",
              "    }\n",
              "\n",
              "    .dataframe tbody tr th {\n",
              "        vertical-align: top;\n",
              "    }\n",
              "\n",
              "    .dataframe thead th {\n",
              "        text-align: right;\n",
              "    }\n",
              "</style>\n",
              "<table border=\"1\" class=\"dataframe\">\n",
              "  <thead>\n",
              "    <tr style=\"text-align: right;\">\n",
              "      <th></th>\n",
              "      <th>id</th>\n",
              "      <th>qid1</th>\n",
              "      <th>qid2</th>\n",
              "      <th>question1</th>\n",
              "      <th>question2</th>\n",
              "      <th>is_duplicate</th>\n",
              "      <th>len_q1</th>\n",
              "      <th>len_q2</th>\n",
              "      <th>diff len</th>\n",
              "      <th>len_char_ql</th>\n",
              "      <th>len_char_q2</th>\n",
              "      <th>len_word_q1</th>\n",
              "      <th>len_word_q2</th>\n",
              "      <th>common_words</th>\n",
              "      <th>word_share</th>\n",
              "      <th>clean_q1</th>\n",
              "      <th>clean_q2</th>\n",
              "      <th>cwc_min</th>\n",
              "      <th>cwc_max</th>\n",
              "      <th>csc_min</th>\n",
              "      <th>csc_max</th>\n",
              "      <th>ctc_min</th>\n",
              "      <th>ctc_max</th>\n",
              "      <th>last_word_eq</th>\n",
              "      <th>first_word_eq</th>\n",
              "      <th>abs_len_diff</th>\n",
              "      <th>mean_len</th>\n",
              "      <th>token_set_ratio</th>\n",
              "      <th>token_sort_ratio</th>\n",
              "      <th>fuzz_ratio</th>\n",
              "      <th>fuzz_partial_ratio</th>\n",
              "      <th>longest_substr_ratio</th>\n",
              "    </tr>\n",
              "  </thead>\n",
              "  <tbody>\n",
              "    <tr>\n",
              "      <th>8067</th>\n",
              "      <td>8067</td>\n",
              "      <td>15738</td>\n",
              "      <td>15739</td>\n",
              "      <td>how do i play pokémon go in korea</td>\n",
              "      <td>how do i play pokémon go in china</td>\n",
              "      <td>0</td>\n",
              "      <td>34</td>\n",
              "      <td>34</td>\n",
              "      <td>0</td>\n",
              "      <td>22</td>\n",
              "      <td>21</td>\n",
              "      <td>8</td>\n",
              "      <td>8</td>\n",
              "      <td>7</td>\n",
              "      <td>0.437500</td>\n",
              "      <td>How do I play Pok mon GO in Korea</td>\n",
              "      <td>How do I play Pok mon GO in China</td>\n",
              "      <td>0.749981</td>\n",
              "      <td>0.749981</td>\n",
              "      <td>0.999975</td>\n",
              "      <td>0.999975</td>\n",
              "      <td>0.874989</td>\n",
              "      <td>0.874989</td>\n",
              "      <td>0.0</td>\n",
              "      <td>1.0</td>\n",
              "      <td>0.0</td>\n",
              "      <td>8.0</td>\n",
              "      <td>90</td>\n",
              "      <td>81</td>\n",
              "      <td>88</td>\n",
              "      <td>88</td>\n",
              "      <td>0.800000</td>\n",
              "    </tr>\n",
              "    <tr>\n",
              "      <th>368101</th>\n",
              "      <td>368101</td>\n",
              "      <td>12736</td>\n",
              "      <td>104117</td>\n",
              "      <td>what are some of the best side dishes for crab...</td>\n",
              "      <td>what are some good side dishes for buffalo chi...</td>\n",
              "      <td>0</td>\n",
              "      <td>53</td>\n",
              "      <td>51</td>\n",
              "      <td>2</td>\n",
              "      <td>17</td>\n",
              "      <td>21</td>\n",
              "      <td>11</td>\n",
              "      <td>9</td>\n",
              "      <td>6</td>\n",
              "      <td>0.300000</td>\n",
              "      <td>What are some of the best side dishes for crab...</td>\n",
              "      <td>What are some good side dishes for buffalo chi...</td>\n",
              "      <td>0.399992</td>\n",
              "      <td>0.399992</td>\n",
              "      <td>0.999975</td>\n",
              "      <td>0.666656</td>\n",
              "      <td>0.666659</td>\n",
              "      <td>0.545450</td>\n",
              "      <td>0.0</td>\n",
              "      <td>1.0</td>\n",
              "      <td>2.0</td>\n",
              "      <td>10.0</td>\n",
              "      <td>73</td>\n",
              "      <td>73</td>\n",
              "      <td>73</td>\n",
              "      <td>73</td>\n",
              "      <td>0.326923</td>\n",
              "    </tr>\n",
              "    <tr>\n",
              "      <th>70497</th>\n",
              "      <td>70497</td>\n",
              "      <td>121486</td>\n",
              "      <td>121487</td>\n",
              "      <td>which is more advisable and better material fo...</td>\n",
              "      <td>what is the best server setup for buddypress</td>\n",
              "      <td>0</td>\n",
              "      <td>96</td>\n",
              "      <td>45</td>\n",
              "      <td>51</td>\n",
              "      <td>21</td>\n",
              "      <td>18</td>\n",
              "      <td>16</td>\n",
              "      <td>8</td>\n",
              "      <td>2</td>\n",
              "      <td>0.083333</td>\n",
              "      <td>Which is more advisable and better material fo...</td>\n",
              "      <td>What is the best server setup for buddypress</td>\n",
              "      <td>0.000000</td>\n",
              "      <td>0.000000</td>\n",
              "      <td>0.499988</td>\n",
              "      <td>0.249997</td>\n",
              "      <td>0.249997</td>\n",
              "      <td>0.124999</td>\n",
              "      <td>0.0</td>\n",
              "      <td>0.0</td>\n",
              "      <td>8.0</td>\n",
              "      <td>12.0</td>\n",
              "      <td>24</td>\n",
              "      <td>36</td>\n",
              "      <td>35</td>\n",
              "      <td>44</td>\n",
              "      <td>0.108696</td>\n",
              "    </tr>\n",
              "    <tr>\n",
              "      <th>226567</th>\n",
              "      <td>226567</td>\n",
              "      <td>254474</td>\n",
              "      <td>258192</td>\n",
              "      <td>how do i improve logical programming skills</td>\n",
              "      <td>how can i improve my logical skills for progra...</td>\n",
              "      <td>1</td>\n",
              "      <td>44</td>\n",
              "      <td>52</td>\n",
              "      <td>8</td>\n",
              "      <td>20</td>\n",
              "      <td>21</td>\n",
              "      <td>7</td>\n",
              "      <td>9</td>\n",
              "      <td>4</td>\n",
              "      <td>0.250000</td>\n",
              "      <td>How do I improve logical programming skills</td>\n",
              "      <td>How can I improve my logical skills for progra...</td>\n",
              "      <td>0.999975</td>\n",
              "      <td>0.999975</td>\n",
              "      <td>0.666644</td>\n",
              "      <td>0.399992</td>\n",
              "      <td>0.857131</td>\n",
              "      <td>0.666659</td>\n",
              "      <td>0.0</td>\n",
              "      <td>1.0</td>\n",
              "      <td>2.0</td>\n",
              "      <td>8.0</td>\n",
              "      <td>96</td>\n",
              "      <td>89</td>\n",
              "      <td>72</td>\n",
              "      <td>68</td>\n",
              "      <td>0.288889</td>\n",
              "    </tr>\n",
              "    <tr>\n",
              "      <th>73186</th>\n",
              "      <td>73186</td>\n",
              "      <td>48103</td>\n",
              "      <td>3062</td>\n",
              "      <td>how close we are to see 3rd world war</td>\n",
              "      <td>how close is a world war iii</td>\n",
              "      <td>1</td>\n",
              "      <td>38</td>\n",
              "      <td>29</td>\n",
              "      <td>9</td>\n",
              "      <td>14</td>\n",
              "      <td>15</td>\n",
              "      <td>9</td>\n",
              "      <td>7</td>\n",
              "      <td>3</td>\n",
              "      <td>0.187500</td>\n",
              "      <td>How close we are to see world war</td>\n",
              "      <td>How close is a World War</td>\n",
              "      <td>0.749981</td>\n",
              "      <td>0.599988</td>\n",
              "      <td>0.333322</td>\n",
              "      <td>0.249994</td>\n",
              "      <td>0.571420</td>\n",
              "      <td>0.444440</td>\n",
              "      <td>0.0</td>\n",
              "      <td>1.0</td>\n",
              "      <td>2.0</td>\n",
              "      <td>8.0</td>\n",
              "      <td>81</td>\n",
              "      <td>71</td>\n",
              "      <td>68</td>\n",
              "      <td>62</td>\n",
              "      <td>0.366667</td>\n",
              "    </tr>\n",
              "  </tbody>\n",
              "</table>\n",
              "</div>"
            ],
            "text/plain": [
              "            id    qid1  ...  fuzz_partial_ratio longest_substr_ratio\n",
              "8067      8067   15738  ...                  88             0.800000\n",
              "368101  368101   12736  ...                  73             0.326923\n",
              "70497    70497  121486  ...                  44             0.108696\n",
              "226567  226567  254474  ...                  68             0.288889\n",
              "73186    73186   48103  ...                  62             0.366667\n",
              "\n",
              "[5 rows x 32 columns]"
            ]
          },
          "metadata": {
            "tags": []
          },
          "execution_count": 22
        }
      ]
    },
    {
      "cell_type": "code",
      "metadata": {
        "id": "rXti_owpiKFu",
        "colab_type": "code",
        "colab": {}
      },
      "source": [
        "# the data we want to predict \n",
        "X= df_train.drop(['is_duplicate'],axis=1)\n",
        "Y= df_train['is_duplicate'] "
      ],
      "execution_count": 0,
      "outputs": []
    },
    {
      "cell_type": "code",
      "metadata": {
        "id": "Ny3Ecs4nsrcZ",
        "colab_type": "code",
        "outputId": "fc04b83f-f6f5-49a8-e060-bd5265b1b108",
        "colab": {
          "base_uri": "https://localhost:8080/",
          "height": 34
        }
      },
      "source": [
        "from sklearn.model_selection import train_test_split \n",
        "# split X and y into training and testing sets \n",
        "X_train,X_test,y_train,y_test = train_test_split(X,Y,shuffle=True,test_size=0.30,random_state=42) \n",
        "print(X_train.shape, y_train.shape,X_test.shape,y_test.shape)"
      ],
      "execution_count": 24,
      "outputs": [
        {
          "output_type": "stream",
          "text": [
            "(70000, 31) (70000,) (30000, 31) (30000,)\n"
          ],
          "name": "stdout"
        }
      ]
    },
    {
      "cell_type": "code",
      "metadata": {
        "id": "Ti48o9cojNdu",
        "colab_type": "code",
        "colab": {}
      },
      "source": [
        "# finding TFIDF for question 1\n",
        "tfidf = TfidfVectorizer(min_df=10, max_features =None, strip_accents='unicode', analyzer = 'word', token_pattern= r'\\w{1,}', ngram_range= (1,2), use_idf= 1, smooth_idf= 1, sublinear_tf= 1, stop_words= 'english',lowercase=True)"
      ],
      "execution_count": 0,
      "outputs": []
    },
    {
      "cell_type": "code",
      "metadata": {
        "id": "EdsyKK4ITjcm",
        "colab_type": "code",
        "colab": {}
      },
      "source": [
        "X_train_q1 = tfidf.fit_transform(list(X_train.clean_q1))\n",
        "X_test_q1 =  tfidf.transform(list(X_test.clean_q1))\n",
        "\n",
        "from sklearn.preprocessing import StandardScaler\n",
        "sc= StandardScaler(with_mean=False) \n",
        "X_train_q1 = sc.fit_transform(X_train_q1)\n",
        "X_test_q1 =  sc.transform(X_test_q1) "
      ],
      "execution_count": 0,
      "outputs": []
    },
    {
      "cell_type": "code",
      "metadata": {
        "id": "YFw-13E1dj-m",
        "colab_type": "code",
        "colab": {}
      },
      "source": [
        "X_train_q2 = tfidf.fit_transform(list(X_train.clean_q2)) \n",
        "X_train_q2 = sc.fit_transform(X_train_q2) \n",
        "X_test_q2 =  tfidf.transform(list(X_test.clean_q2))\n",
        "X_test_q2 =  sc.transform(X_test_q2) "
      ],
      "execution_count": 0,
      "outputs": []
    },
    {
      "cell_type": "code",
      "metadata": {
        "id": "UHbdLPLvU16p",
        "colab_type": "code",
        "colab": {}
      },
      "source": [
        "# Train your own Word2Vec model using your own text corpus\n",
        "import nltk\n",
        "T_list_q1=X_train['clean_q1'].values.tolist()\n",
        "T_list_q2=X_train['clean_q2'].values.tolist()\n",
        "train_corpus= T_list_q1+ T_list_q2\n",
        "words_train = [nltk.word_tokenize(q) for q in train_corpus] "
      ],
      "execution_count": 0,
      "outputs": []
    },
    {
      "cell_type": "code",
      "metadata": {
        "id": "lcNI3vr3ZIa2",
        "colab_type": "code",
        "colab": {}
      },
      "source": [
        "# Train your own Word2Vec model using your own text corpus\n",
        "\n",
        "T_list_q1=X_test['clean_q1'].values.tolist()\n",
        "T_list_q2=X_test['clean_q2'].values.tolist()\n",
        "test_corpus= T_list_q1+ T_list_q2\n",
        "words_test = [nltk.word_tokenize(q) for q in test_corpus] "
      ],
      "execution_count": 0,
      "outputs": []
    },
    {
      "cell_type": "code",
      "metadata": {
        "id": "nxQ9wWE2VgUV",
        "colab_type": "code",
        "colab": {}
      },
      "source": [
        "# this line of code trains your w2v model on the give list of sentances\n",
        "w2v_model_train=Word2Vec(words_train,min_count=5,size=50, workers=4) \n",
        "w2v_model_test= Word2Vec(words_test,min_count=5,size=50, workers=4) "
      ],
      "execution_count": 0,
      "outputs": []
    },
    {
      "cell_type": "code",
      "metadata": {
        "id": "vHZjMbUitTPJ",
        "colab_type": "code",
        "colab": {}
      },
      "source": [
        "def tfidf_w2v (a,b,c):\n",
        "  tfidf_feat = tfidf.get_feature_names() # tfidf words/col-names\n",
        "  tfidf_sent_vectors = []; # the tfidf-w2v for each sentence/review is stored in this list\n",
        "  row=0;\n",
        "  for sent in tqdm(list(a)): # for each review/sentence\n",
        "    sent_vec = np.zeros(100) # as word vectors are of zero length\n",
        "    weight_sum =0; # num of words with a valid vector in the sentence/review\n",
        "    for word in sent: # for each word in a review/sentence\n",
        "        try:\n",
        "            vec = c.wv[word]\n",
        "            # obtain the tf_idfidf of a word in a sentence/review\n",
        "            tf_idf = b[row, tfidf_feat.index(word)]\n",
        "            sent_vec += (vec * tf_idf) \n",
        "            weight_sum += tf_idf \n",
        "        except:\n",
        "            pass\n",
        "    sent_vec /= weight_sum\n",
        "    tfidf_sent_vectors.append(sent_vec)\n",
        "    row += 1\n",
        "  tfidfw2v = np.nan_to_num(tfidf_sent_vectors) \n",
        "  return tfidfw2v"
      ],
      "execution_count": 0,
      "outputs": []
    },
    {
      "cell_type": "code",
      "metadata": {
        "colab_type": "code",
        "outputId": "aea8275e-a6c5-48a4-eb69-4a765a4da571",
        "id": "xxMlT9NrxT9T",
        "colab": {
          "base_uri": "https://localhost:8080/",
          "height": 85
        }
      },
      "source": [
        "tfidfw2v_train_q1= tfidf_w2v(X_train['clean_q1'],X_train_q1,w2v_model_train) \n",
        "tfidfw2v_train_q2= tfidf_w2v(X_train['clean_q2'],X_train_q2,w2v_model_train)\n",
        "tfidfw2v_test_q1= tfidf_w2v(X_test['clean_q1'],X_test_q1,w2v_model_test) \n",
        "tfidfw2v_test_q2= tfidf_w2v(X_test['clean_q2'],X_test_q2,w2v_model_test)   "
      ],
      "execution_count": 32,
      "outputs": [
        {
          "output_type": "stream",
          "text": [
            "100%|██████████| 70000/70000 [08:38<00:00, 135.13it/s]\n",
            "100%|██████████| 70000/70000 [08:43<00:00, 133.60it/s]\n",
            "100%|██████████| 30000/30000 [03:32<00:00, 132.34it/s]\n",
            "100%|██████████| 30000/30000 [03:33<00:00, 140.43it/s]\n"
          ],
          "name": "stderr"
        }
      ]
    },
    {
      "cell_type": "code",
      "metadata": {
        "id": "RZvmD00GIi4X",
        "colab_type": "code",
        "colab": {}
      },
      "source": [
        "tfidfw2v_train_q1_sc= sc.fit_transform(tfidfw2v_train_q1) \n",
        "tfidfw2v_train_q2_sc= sc.fit_transform(tfidfw2v_train_q2) \n",
        "tfidfw2v_test_q1_sc= sc.transform(tfidfw2v_test_q1)\n",
        "tfidfw2v_test_q2_sc= sc.transform(tfidfw2v_test_q2) "
      ],
      "execution_count": 0,
      "outputs": []
    },
    {
      "cell_type": "code",
      "metadata": {
        "id": "7G6wsLeO8nqr",
        "colab_type": "code",
        "colab": {}
      },
      "source": [
        "X_train = X_train.drop(['id','qid1','qid2','question1','question2','clean_q1','clean_q2'], axis= 1)\n",
        "X_test =  X_test.drop(['id','qid1','qid2','question1','question2','clean_q1','clean_q2'], axis= 1) "
      ],
      "execution_count": 0,
      "outputs": []
    },
    {
      "cell_type": "code",
      "metadata": {
        "id": "kT8K4tjdxGbD",
        "colab_type": "code",
        "colab": {}
      },
      "source": [
        "from sklearn.preprocessing import StandardScaler\n",
        "sc= StandardScaler(with_mean=False) \n",
        "X_train = sc.fit_transform(X_train) \n",
        "X_test =  sc.transform(X_test) "
      ],
      "execution_count": 0,
      "outputs": []
    },
    {
      "cell_type": "code",
      "metadata": {
        "id": "mTTLMCWgiM-Y",
        "colab_type": "code",
        "colab": {}
      },
      "source": [
        "X_train_tfidf_w2v = np.hstack((X_train,tfidfw2v_train_q1_sc,tfidfw2v_train_q2_sc)) \n",
        "X_test_tfidf_w2v  = np.hstack((X_test,tfidfw2v_test_q1_sc,tfidfw2v_test_q2_sc)) "
      ],
      "execution_count": 0,
      "outputs": []
    },
    {
      "cell_type": "code",
      "metadata": {
        "id": "QB8rBgghsC6g",
        "colab_type": "code",
        "colab": {}
      },
      "source": [
        "X_train = hstack((X_train,X_train_q1,X_train_q2)) \n",
        "X_test =  hstack((X_test, X_test_q1,X_test_q2)) "
      ],
      "execution_count": 0,
      "outputs": []
    },
    {
      "cell_type": "code",
      "metadata": {
        "id": "HDjbSUdAUk3-",
        "colab_type": "code",
        "outputId": "3141ee76-19ff-421b-be7c-1662781c619b",
        "colab": {
          "base_uri": "https://localhost:8080/",
          "height": 85
        }
      },
      "source": [
        "print(\"-\"*10, \"Distribution of output variable in train data\", \"-\"*10)\n",
        "train_distr = Counter(y_train) \n",
        "train_len = len(y_train) \n",
        "print(\"Class 0: \",int(train_distr[0])/train_len,\"Class 1: \", int(train_distr[1])/train_len)\n",
        "print(\"-\"*10, \"Distribution of output variable in train data\", \"-\"*10)\n",
        "test_distr = Counter(y_test)\n",
        "test_len = len(y_test)\n",
        "print(\"Class 0: \",int(test_distr[1])/test_len, \"Class 1: \",int(test_distr[1])/test_len)"
      ],
      "execution_count": 38,
      "outputs": [
        {
          "output_type": "stream",
          "text": [
            "---------- Distribution of output variable in train data ----------\n",
            "Class 0:  0.6290285714285714 Class 1:  0.37097142857142856\n",
            "---------- Distribution of output variable in train data ----------\n",
            "Class 0:  0.3717666666666667 Class 1:  0.3717666666666667\n"
          ],
          "name": "stdout"
        }
      ]
    },
    {
      "cell_type": "code",
      "metadata": {
        "id": "Qblm3PNuX1mP",
        "colab_type": "code",
        "colab": {}
      },
      "source": [
        "# This function plots the confusion matrices given y_i, y_i_hat.\n",
        "def plot_confusion_matrix(test_y, predict_y):\n",
        "    C = confusion_matrix(test_y, predict_y)\n",
        "    # C = 9,9 matrix, each cell (i,j) represents number of points of class i are predicted class j\n",
        "    \n",
        "    A =(((C.T)/(C.sum(axis=1))).T)\n",
        "    #divid each element of the confusion matrix with the sum of elements in that column\n",
        "    \n",
        "    # C = [[1, 2],\n",
        "    #     [3, 4]]\n",
        "    # C.T = [[1, 3],\n",
        "    #        [2, 4]]\n",
        "    # C.sum(axis = 1)  axis=0 corresonds to columns and axis=1 corresponds to rows in two diamensional array\n",
        "    # C.sum(axix =1) = [[3, 7]]\n",
        "    # ((C.T)/(C.sum(axis=1))) = [[1/3, 3/7]\n",
        "    #                           [2/3, 4/7]]\n",
        "\n",
        "    # ((C.T)/(C.sum(axis=1))).T = [[1/3, 2/3]\n",
        "    #                           [3/7, 4/7]]\n",
        "    # sum of row elements = 1\n",
        "    \n",
        "    B =(C/C.sum(axis=0))\n",
        "    #divid each element of the confusion matrix with the sum of elements in that row\n",
        "    # C = [[1, 2],\n",
        "    #     [3, 4]]\n",
        "    # C.sum(axis = 0)  axis=0 corresonds to columns and axis=1 corresponds to rows in two diamensional array\n",
        "    # C.sum(axix =0) = [[4, 6]]\n",
        "    # (C/C.sum(axis=0)) = [[1/4, 2/6],\n",
        "    #                      [3/4, 4/6]] \n",
        "    plt.figure(figsize=(20,4))\n",
        "    \n",
        "    labels = [1,2]\n",
        "    # representing A in heatmap format\n",
        "    cmap=sns.light_palette(\"blue\")\n",
        "    plt.subplot(1, 3, 1)\n",
        "    sns.heatmap(C, annot=True, cmap=cmap, xticklabels=labels, yticklabels=labels)\n",
        "    plt.xlabel('Predicted Class')\n",
        "    plt.ylabel('Original Class')\n",
        "    plt.title(\"Confusion matrix\")\n",
        "    \n",
        "    plt.subplot(1, 3, 2)\n",
        "    sns.heatmap(B, annot=True, cmap=cmap, fmt=\".3f\", xticklabels=labels, yticklabels=labels)\n",
        "    plt.xlabel('Predicted Class')\n",
        "    plt.ylabel('Original Class')\n",
        "    plt.title(\"Precision matrix\")\n",
        "    plt.subplot(1, 3, 3)\n",
        "    # representing B in heatmap format\n",
        "    sns.heatmap(A, annot=True, cmap=cmap, fmt=\".3f\", xticklabels=labels, yticklabels=labels)\n",
        "    plt.xlabel('Predicted Class')\n",
        "    plt.ylabel('Original Class')\n",
        "    plt.title(\"Recall matrix\")\n",
        "    \n",
        "    plt.show()"
      ],
      "execution_count": 0,
      "outputs": []
    },
    {
      "cell_type": "markdown",
      "metadata": {
        "id": "iW7_Fx5EYIwG",
        "colab_type": "text"
      },
      "source": [
        "**Building a random model (Finding worst-case log-loss)**"
      ]
    },
    {
      "cell_type": "code",
      "metadata": {
        "id": "4LzcpHA1YEYm",
        "colab_type": "code",
        "outputId": "b393fd7a-cccf-462d-80ba-ef4f765993e8",
        "colab": {
          "base_uri": "https://localhost:8080/",
          "height": 312
        }
      },
      "source": [
        "# we need to generate 9 numbers and the sum of numbers should be 1\n",
        "# one solution is to genarate 9 numbers and divide each of the numbers by their sum\n",
        "# ref: https://stackoverflow.com/a/18662466/4084039\n",
        "# we create a output array that has exactly same size as the CV data\n",
        "predicted_y = np.zeros((test_len,2))\n",
        "for i in range(test_len):\n",
        "    rand_probs = np.random.rand(1,2)\n",
        "    predicted_y[i] = ((rand_probs/sum(sum(rand_probs)))[0])\n",
        "print(\"Log loss on Test Data using Random Model\",log_loss(y_test, predicted_y, eps=1e-15))\n",
        "\n",
        "predicted_y =np.argmax(predicted_y, axis=1)\n",
        "plot_confusion_matrix(y_test, predicted_y)"
      ],
      "execution_count": 40,
      "outputs": [
        {
          "output_type": "stream",
          "text": [
            "Log loss on Test Data using Random Model 0.8857578623028591\n"
          ],
          "name": "stdout"
        },
        {
          "output_type": "display_data",
          "data": {
            "image/png": "[encoded data removed]",
            "text/plain": [
              "<Figure size 1440x288 with 6 Axes>"
            ]
          },
          "metadata": {
            "tags": []
          }
        }
      ]
    },
    {
      "cell_type": "markdown",
      "metadata": {
        "id": "AskGC-0fk-1Z",
        "colab_type": "text"
      },
      "source": [
        "**Logistic Regression with hyperparameter tuning**"
      ]
    },
    {
      "cell_type": "code",
      "metadata": {
        "id": "flmucq7DMfAX",
        "colab_type": "code",
        "outputId": "19451bc4-fc0f-4cfb-a68f-c651bf52b8d6",
        "colab": {
          "base_uri": "https://localhost:8080/",
          "height": 743
        }
      },
      "source": [
        "from sklearn.linear_model import SGDClassifier\n",
        "alpha = [10 ** x for x in range(-5, 2)] # hyperparam for SGD classifier.\n",
        "\n",
        "# read more about SGDClassifier() at http://scikit-learn.org/stable/modules/generated/sklearn.linear_model.SGDClassifier.html\n",
        "# ------------------------------\n",
        "# default parameters\n",
        "# SGDClassifier(loss=’hinge’, penalty=’l2’, alpha=0.0001, l1_ratio=0.15, fit_intercept=True, max_iter=None, tol=None, \n",
        "# shuffle=True, verbose=0, epsilon=0.1, n_jobs=1, random_state=None, learning_rate=’optimal’, eta0=0.0, power_t=0.5, \n",
        "# class_weight=None, warm_start=False, average=False, n_iter=None)\n",
        "\n",
        "# some of methods\n",
        "# fit(X, y[, coef_init, intercept_init, …])\tFit linear model with Stochastic Gradient Descent.\n",
        "# predict(X)\tPredict class labels for samples in X.\n",
        "\n",
        "#-------------------------------\n",
        "# video link: \n",
        "#-----------------------------\n",
        "log_error_array=[]\n",
        "for i in alpha:\n",
        "    clf = SGDClassifier(alpha=i, penalty='l2', loss='log', class_weight='balanced',random_state=42)\n",
        "    clf.fit(X_train, y_train)\n",
        "    sig_clf = CalibratedClassifierCV(clf, method=\"sigmoid\",cv=5)\n",
        "    sig_clf.fit(X_train, y_train)\n",
        "    predict_y = sig_clf.predict_proba(X_test)\n",
        "    log_error_array.append(log_loss(y_test, predict_y, labels=clf.classes_, eps=1e-15))\n",
        "    print('For values of alpha = ', i, \"The log loss is:\",log_loss(y_test, predict_y, labels=clf.classes_, eps=1e-15))\n",
        "\n",
        "fig, ax = plt.subplots()\n",
        "ax.plot(alpha, log_error_array,c='g')\n",
        "for i, txt in enumerate(np.round(log_error_array,3)):\n",
        "    ax.annotate((alpha[i],np.round(txt,3)), (alpha[i],log_error_array[i]))\n",
        "plt.grid()\n",
        "plt.title(\"Cross Validation Error for each alpha\")\n",
        "plt.xlabel(\"Alpha i's\")\n",
        "plt.ylabel(\"Error measure\")\n",
        "plt.show()\n",
        "\n",
        "\n",
        "best_alpha = np.argmin(log_error_array)\n",
        "clf = SGDClassifier(alpha=alpha[best_alpha], penalty='l2', loss='log', random_state=42)\n",
        "clf.fit(X_train, y_train)\n",
        "sig_clf = CalibratedClassifierCV(clf, method=\"sigmoid\")\n",
        "sig_clf.fit(X_train, y_train)\n",
        "\n",
        "predict_y = sig_clf.predict_proba(X_train)\n",
        "print('For values of best alpha = ', alpha[best_alpha], \"The train log loss is:\",log_loss(y_train, predict_y, labels=clf.classes_, eps=1e-15))\n",
        "predict_y = sig_clf.predict_proba(X_test)\n",
        "print('For values of best alpha = ', alpha[best_alpha], \"The test log loss is:\",log_loss(y_test, predict_y, labels=clf.classes_, eps=1e-15))\n",
        "predicted_y =np.argmax(predict_y,axis=1)\n",
        "print(\"Total number of data points :\", len(predicted_y))\n",
        "plot_confusion_matrix(y_test, predicted_y)"
      ],
      "execution_count": 41,
      "outputs": [
        {
          "output_type": "stream",
          "text": [
            "For values of alpha =  1e-05 The log loss is: 0.5138774071362696\n",
            "For values of alpha =  0.0001 The log loss is: 0.5082448029462147\n",
            "For values of alpha =  0.001 The log loss is: 0.4869488918271431\n",
            "For values of alpha =  0.01 The log loss is: 0.4649352872738495\n",
            "For values of alpha =  0.1 The log loss is: 0.4476597384429026\n",
            "For values of alpha =  1 The log loss is: 0.4563850271193639\n",
            "For values of alpha =  10 The log loss is: 0.47412233856321273\n"
          ],
          "name": "stdout"
        },
        {
          "output_type": "display_data",
          "data": {
            "image/png": "[encoded data removed]",
            "text/plain": [
              "<Figure size 432x288 with 1 Axes>"
            ]
          },
          "metadata": {
            "tags": []
          }
        },
        {
          "output_type": "stream",
          "text": [
            "For values of best alpha =  0.1 The train log loss is: 0.3661226605933786\n",
            "For values of best alpha =  0.1 The test log loss is: 0.4503588567363775\n",
            "Total number of data points : 30000\n"
          ],
          "name": "stdout"
        },
        {
          "output_type": "display_data",
          "data": {
            "image/png": "[encoded data removed]",
            "text/plain": [
              "<Figure size 1440x288 with 6 Axes>"
            ]
          },
          "metadata": {
            "tags": []
          }
        }
      ]
    },
    {
      "cell_type": "markdown",
      "metadata": {
        "id": "ziLqvLyUt-0k",
        "colab_type": "text"
      },
      "source": [
        "**Linear SVM with hyperparameter tuning**"
      ]
    },
    {
      "cell_type": "code",
      "metadata": {
        "id": "TPEXL77Ft92t",
        "colab_type": "code",
        "outputId": "2c660cc4-ce1c-4f06-ac08-83be6b8054fa",
        "colab": {
          "base_uri": "https://localhost:8080/",
          "height": 743
        }
      },
      "source": [
        "alpha = [10 ** x for x in range(-5, 2)] # hyperparam for SGD classifier.\n",
        "\n",
        "# read more about SGDClassifier() at http://scikit-learn.org/stable/modules/generated/sklearn.linear_model.SGDClassifier.html\n",
        "# ------------------------------\n",
        "# default parameters\n",
        "# SGDClassifier(loss=’hinge’, penalty=’l2’, alpha=0.0001, l1_ratio=0.15, fit_intercept=True, max_iter=None, tol=None, \n",
        "# shuffle=True, verbose=0, epsilon=0.1, n_jobs=1, random_state=None, learning_rate=’optimal’, eta0=0.0, power_t=0.5, \n",
        "# class_weight=None, warm_start=False, average=False, n_iter=None)\n",
        "\n",
        "# some of methods\n",
        "# fit(X, y[, coef_init, intercept_init, …])\tFit linear model with Stochastic Gradient Descent.\n",
        "# predict(X)\tPredict class labels for samples in X.\n",
        "\n",
        "#-------------------------------\n",
        "# video link: \n",
        "#------------------------------\n",
        "log_error_array=[]\n",
        "for i in alpha:\n",
        "    clf = SGDClassifier(alpha=i, penalty='l1', loss='hinge',class_weight='balanced', random_state=42)\n",
        "    clf.fit(X_train, y_train)\n",
        "    sig_clf = CalibratedClassifierCV(clf,method=\"sigmoid\")  \n",
        "    sig_clf.fit(X_train, y_train)\n",
        "    predict_y = sig_clf.predict_proba(X_test)\n",
        "    log_error_array.append(log_loss(y_test, predict_y, labels=clf.classes_, eps=1e-15))\n",
        "    print('For values of alpha = ', i, \"The log loss is:\",log_loss(y_test, predict_y, labels=clf.classes_, eps=1e-15))\n",
        "\n",
        "fig, ax = plt.subplots()\n",
        "ax.plot(alpha, log_error_array,c='g')\n",
        "for i, txt in enumerate(np.round(log_error_array,3)):\n",
        "    ax.annotate((alpha[i],np.round(txt,3)), (alpha[i],log_error_array[i]))\n",
        "plt.grid()\n",
        "plt.title(\"Cross Validation Error for each alpha\")\n",
        "plt.xlabel(\"Alpha i's\")\n",
        "plt.ylabel(\"Error measure\")\n",
        "plt.show()\n",
        "\n",
        "best_alpha = np.argmin(log_error_array)\n",
        "clf = SGDClassifier(alpha=alpha[best_alpha], penalty='l1', loss='hinge', random_state=42)\n",
        "clf.fit(X_train, y_train)\n",
        "sig_clf = CalibratedClassifierCV(clf, method=\"sigmoid\")\n",
        "sig_clf.fit(X_train, y_train)\n",
        "\n",
        "predict_y = sig_clf.predict_proba(X_train)\n",
        "print('For values of best alpha = ', alpha[best_alpha], \"The train log loss is:\",log_loss(y_train, predict_y, labels=clf.classes_, eps=1e-15))\n",
        "predict_y = sig_clf.predict_proba(X_test)\n",
        "print('For values of best alpha = ', alpha[best_alpha], \"The test log loss is:\",log_loss(y_test, predict_y, labels=clf.classes_, eps=1e-15))\n",
        "predicted_y =np.argmax(predict_y,axis=1)\n",
        "print(\"Total number of data points :\", len(predicted_y))\n",
        "plot_confusion_matrix(y_test, predicted_y)"
      ],
      "execution_count": 0,
      "outputs": [
        {
          "output_type": "stream",
          "text": [
            "For values of alpha =  1e-05 The log loss is: 0.6598905325443313\n",
            "For values of alpha =  0.0001 The log loss is: 0.6598905325443313\n",
            "For values of alpha =  0.001 The log loss is: 0.6598905325443313\n",
            "For values of alpha =  0.01 The log loss is: 0.6598905325443313\n",
            "For values of alpha =  0.1 The log loss is: 0.6598499750361805\n",
            "For values of alpha =  1 The log loss is: 0.6598636495176057\n",
            "For values of alpha =  10 The log loss is: 0.6598771510927542\n"
          ],
          "name": "stdout"
        },
        {
          "output_type": "display_data",
          "data": {
            "image/png": "[encoded data removed]",
            "text/plain": [
              "<Figure size 432x288 with 1 Axes>"
            ]
          },
          "metadata": {
            "tags": []
          }
        },
        {
          "output_type": "stream",
          "text": [
            "For values of best alpha =  0.1 The train log loss is: 0.6594706685776326\n",
            "For values of best alpha =  0.1 The test log loss is: 0.6598905325443313\n",
            "Total number of data points : 30000\n"
          ],
          "name": "stdout"
        },
        {
          "output_type": "display_data",
          "data": {
            "image/png": "[encoded data removed]",
            "text/plain": [
              "<Figure size 1440x288 with 6 Axes>"
            ]
          },
          "metadata": {
            "tags": []
          }
        }
      ]
    },
    {
      "cell_type": "markdown",
      "metadata": {
        "id": "f2ZiTppgUK1p",
        "colab_type": "text"
      },
      "source": [
        "**XGBoost with hyperparameter tuning**"
      ]
    },
    {
      "cell_type": "code",
      "metadata": {
        "id": "T3pROCzSVKEg",
        "colab_type": "code",
        "outputId": "773d363b-c93e-42b3-c81b-19669752153c",
        "colab": {
          "base_uri": "https://localhost:8080/",
          "height": 289
        }
      },
      "source": [
        "import xgboost as xgb\n",
        "estimators = [55, 89, 144, 233, 377, 610,987]\n",
        "tree_depth = [1, 2, 3, 5, 8, 13, 21] \n",
        "clf_xgb = xgb.XGBClassifier() \n",
        "param_grid = {'n_estimators': estimators,'max_depth': tree_depth} \n",
        "grid = GridSearchCV(clf_xgb, param_grid, cv=3 , scoring ='neg_log_loss', n_jobs=-1,return_train_score=True)\n",
        "grid.fit(X_train,y_train) "
      ],
      "execution_count": 0,
      "outputs": [
        {
          "output_type": "execute_result",
          "data": {
            "text/plain": [
              "GridSearchCV(cv=3, error_score=nan,\n",
              "             estimator=XGBClassifier(base_score=0.5, booster='gbtree',\n",
              "                                     colsample_bylevel=1, colsample_bynode=1,\n",
              "                                     colsample_bytree=1, gamma=0,\n",
              "                                     learning_rate=0.1, max_delta_step=0,\n",
              "                                     max_depth=3, min_child_weight=1,\n",
              "                                     missing=None, n_estimators=100, n_jobs=1,\n",
              "                                     nthread=None, objective='binary:logistic',\n",
              "                                     random_state=0, reg_alpha=0, reg_lambda=1,\n",
              "                                     scale_pos_weight=1, seed=None, silent=None,\n",
              "                                     subsample=1, verbosity=1),\n",
              "             iid='deprecated', n_jobs=-1,\n",
              "             param_grid={'max_depth': [1, 2, 3, 5, 8, 13, 21],\n",
              "                         'n_estimators': [55, 89, 144, 233, 377, 610, 987]},\n",
              "             pre_dispatch='2*n_jobs', refit=True, return_train_score=True,\n",
              "             scoring='neg_log_loss', verbose=0)"
            ]
          },
          "metadata": {
            "tags": []
          },
          "execution_count": 30
        }
      ]
    },
    {
      "cell_type": "code",
      "metadata": {
        "id": "i7bbgITVY-Ax",
        "colab_type": "code",
        "outputId": "a55a6955-781d-4332-a38a-2b3f2955c5b4",
        "colab": {
          "base_uri": "https://localhost:8080/",
          "height": 549
        }
      },
      "source": [
        "print(\"Best HyperParameter: \",grid.best_params_)\n",
        "print(grid.best_score_) \n",
        "cv_auc = grid.cv_results_['mean_test_score'].reshape(len(estimators),len(tree_depth))\n",
        "plt.figure(figsize=(8, 8)) \n",
        "sns.heatmap(cv_auc, annot=True, cmap=plt.cm.hot, fmt=\".3f\", xticklabels=estimators, yticklabels=tree_depth)\n",
        "plt.xlabel('n_estimators')\n",
        "plt.ylabel('max_depth')"
      ],
      "execution_count": 0,
      "outputs": [
        {
          "output_type": "stream",
          "text": [
            "Best HyperParameter:  {'max_depth': 8, 'n_estimators': 144}\n",
            "-0.42960331221484527\n"
          ],
          "name": "stdout"
        },
        {
          "output_type": "execute_result",
          "data": {
            "text/plain": [
              "Text(51.0, 0.5, 'max_depth')"
            ]
          },
          "metadata": {
            "tags": []
          },
          "execution_count": 31
        },
        {
          "output_type": "display_data",
          "data": {
            "image/png": "[encoded data removed]",
            "text/plain": [
              "<Figure size 576x576 with 2 Axes>"
            ]
          },
          "metadata": {
            "tags": []
          }
        }
      ]
    },
    {
      "cell_type": "code",
      "metadata": {
        "id": "E6d3OKkYZRJP",
        "colab_type": "code",
        "outputId": "48ebe79a-94db-4b58-8138-0dfc9f0c76fc",
        "colab": {
          "base_uri": "https://localhost:8080/",
          "height": 329
        }
      },
      "source": [
        "clf=xgb.XGBClassifier(n_jobs=-1,random_state=25,max_depth=13,n_estimators=987)\n",
        "clf.fit(X_train,y_train) \n",
        "y_pred_test=clf.predict_proba(X_test) \n",
        "y_pred_train=clf.predict_proba(X_train)\n",
        "log_loss_train = log_loss(y_train, y_pred_train, eps=1e-15)\n",
        "log_loss_test=log_loss(y_test,y_pred_test,eps=1e-15)\n",
        "print('Train log loss = ',log_loss_train)\n",
        "print('Test log loss = ',log_loss_test) \n",
        "predicted_y=np.argmax(y_pred_test,axis=1)\n",
        "plot_confusion_matrix(y_test,predicted_y)\n",
        " "
      ],
      "execution_count": 0,
      "outputs": [
        {
          "output_type": "stream",
          "text": [
            "Train log loss =  0.022732658011138027\n",
            "Test log loss =  0.5093022041754344\n"
          ],
          "name": "stdout"
        },
        {
          "output_type": "display_data",
          "data": {
            "image/png": "[encoded data removed]",
            "text/plain": [
              "<Figure size 1440x288 with 6 Axes>"
            ]
          },
          "metadata": {
            "tags": []
          }
        }
      ]
    },
    {
      "cell_type": "markdown",
      "metadata": {
        "id": "l4p0jeVKe0jH",
        "colab_type": "text"
      },
      "source": [
        "**XGBoost with hyperparameter tuning on TFIDF_W2V**"
      ]
    },
    {
      "cell_type": "code",
      "metadata": {
        "id": "KsHisx30hfdg",
        "colab_type": "code",
        "outputId": "97e14e0b-bb36-4f7f-a949-ae70c726e5a8",
        "colab": {
          "base_uri": "https://localhost:8080/",
          "height": 289
        }
      },
      "source": [
        "import xgboost as xgb\n",
        "estimators = [5, 10, 50, 100, 200,300,400]\n",
        "tree_depth = [2, 3, 4, 5, 6, 7, 8]\n",
        "clf_xgb = xgb.XGBClassifier() \n",
        "param_grid = {'n_estimators': estimators,'max_depth': tree_depth} \n",
        "grid = GridSearchCV(clf_xgb, param_grid, cv=3 , scoring ='neg_log_loss', n_jobs=-1,return_train_score=True)\n",
        "grid.fit(X_train_tfidf_w2v,y_train) "
      ],
      "execution_count": 46,
      "outputs": [
        {
          "output_type": "execute_result",
          "data": {
            "text/plain": [
              "GridSearchCV(cv=3, error_score=nan,\n",
              "             estimator=XGBClassifier(base_score=0.5, booster='gbtree',\n",
              "                                     colsample_bylevel=1, colsample_bynode=1,\n",
              "                                     colsample_bytree=1, gamma=0,\n",
              "                                     learning_rate=0.1, max_delta_step=0,\n",
              "                                     max_depth=3, min_child_weight=1,\n",
              "                                     missing=None, n_estimators=100, n_jobs=1,\n",
              "                                     nthread=None, objective='binary:logistic',\n",
              "                                     random_state=0, reg_alpha=0, reg_lambda=1,\n",
              "                                     scale_pos_weight=1, seed=None, silent=None,\n",
              "                                     subsample=1, verbosity=1),\n",
              "             iid='deprecated', n_jobs=-1,\n",
              "             param_grid={'max_depth': [2, 3, 4, 5, 6, 7, 8],\n",
              "                         'n_estimators': [5, 10, 50, 100, 200, 300, 400]},\n",
              "             pre_dispatch='2*n_jobs', refit=True, return_train_score=True,\n",
              "             scoring='neg_log_loss', verbose=0)"
            ]
          },
          "metadata": {
            "tags": []
          },
          "execution_count": 46
        }
      ]
    },
    {
      "cell_type": "code",
      "metadata": {
        "id": "CnKlSmI5iw3P",
        "colab_type": "code",
        "colab": {
          "base_uri": "https://localhost:8080/",
          "height": 549
        },
        "outputId": "969d8feb-10b7-4975-bfd2-bb25f7553b88"
      },
      "source": [
        "print(\"Best HyperParameter: \",grid.best_params_)\n",
        "print(grid.best_score_) \n",
        "cv_auc = grid.cv_results_['mean_test_score'].reshape(len(estimators),len(tree_depth))\n",
        "plt.figure(figsize=(8, 8)) \n",
        "sns.heatmap(cv_auc, annot=True, cmap=plt.cm.hot, fmt=\".3f\", xticklabels=estimators, yticklabels=tree_depth)\n",
        "plt.xlabel('n_estimators')\n",
        "plt.ylabel('max_depth')"
      ],
      "execution_count": 47,
      "outputs": [
        {
          "output_type": "stream",
          "text": [
            "Best HyperParameter:  {'max_depth': 7, 'n_estimators': 200}\n",
            "-0.4296016093670254\n"
          ],
          "name": "stdout"
        },
        {
          "output_type": "execute_result",
          "data": {
            "text/plain": [
              "Text(51.0, 0.5, 'max_depth')"
            ]
          },
          "metadata": {
            "tags": []
          },
          "execution_count": 47
        },
        {
          "output_type": "display_data",
          "data": {
            "image/png": "[encoded data removed]",
            "text/plain": [
              "<Figure size 576x576 with 2 Axes>"
            ]
          },
          "metadata": {
            "tags": []
          }
        }
      ]
    },
    {
      "cell_type": "code",
      "metadata": {
        "id": "fwcHLZ7Ti-55",
        "colab_type": "code",
        "colab": {
          "base_uri": "https://localhost:8080/",
          "height": 329
        },
        "outputId": "bfb2c6a2-2339-4fa0-9618-beab230f65ae"
      },
      "source": [
        "clf=xgb.XGBClassifier(n_jobs=-1,random_state=25,max_depth=13,n_estimators=987)\n",
        "clf.fit(X_train_tfidf_w2v,y_train) \n",
        "y_pred_test=clf.predict_proba(X_test_tfidf_w2v) \n",
        "y_pred_train=clf.predict_proba(X_train_tfidf_w2v)\n",
        "log_loss_train = log_loss(y_train, y_pred_train, eps=1e-15)\n",
        "log_loss_test=log_loss(y_test,y_pred_test,eps=1e-15)\n",
        "print('Train log loss = ',log_loss_train)\n",
        "print('Test log loss = ',log_loss_test) \n",
        "predicted_y=np.argmax(y_pred_test,axis=1)\n",
        "plot_confusion_matrix(y_test,predicted_y)"
      ],
      "execution_count": 48,
      "outputs": [
        {
          "output_type": "stream",
          "text": [
            "Train log loss =  0.022732657914710984\n",
            "Test log loss =  0.5093022027168765\n"
          ],
          "name": "stdout"
        },
        {
          "output_type": "display_data",
          "data": {
            "image/png": "[encoded data removed]",
            "text/plain": [
              "<Figure size 1440x288 with 6 Axes>"
            ]
          },
          "metadata": {
            "tags": []
          }
        }
      ]
    },
    {
      "cell_type": "code",
      "metadata": {
        "id": "pub-BNC2youN",
        "colab_type": "code",
        "colab": {
          "base_uri": "https://localhost:8080/",
          "height": 153
        },
        "outputId": "c489bac2-bc16-44f0-e688-89fae7be2ba0"
      },
      "source": [
        "# Please compare all your models using Prettytable library\n",
        "from prettytable import PrettyTable    \n",
        "x = PrettyTable() \n",
        "x.field_names = [\"Model\",\"Vectorizer\",\"optimal max_depth/alpha\", \"optimal n_estimators\", \"train_logloss\",'test_logloss'] \n",
        "x.add_row(['Logistic Regression','BF+AF+TFIDF','0.1', '-', '0.366463', '0.45035'])\n",
        "x.add_row(['Linear SVM','BF+AF+TFIDF','0.1', '-', '0.6594', '0.6598905'])  \n",
        "x.add_row(['XGBOOST GBDT','BF+AF+TFIDF','8','144','0.0227','0.50930']) \n",
        "x.add_row(['XGBOOST GBDT','BF+AF+TFIDF_w2w','7','200','0.0227326','0.50930']) \n",
        "print(x) "
      ],
      "execution_count": 50,
      "outputs": [
        {
          "output_type": "stream",
          "text": [
            "+---------------------+-----------------+-------------------------+----------------------+---------------+--------------+\n",
            "|        Model        |    Vectorizer   | optimal max_depth/alpha | optimal n_estimators | train_logloss | test_logloss |\n",
            "+---------------------+-----------------+-------------------------+----------------------+---------------+--------------+\n",
            "| Logistic Regression |   BF+AF+TFIDF   |           0.1           |          -           |    0.366463   |   0.45035    |\n",
            "|      Linear SVM     |   BF+AF+TFIDF   |           0.1           |          -           |     0.6594    |  0.6598905   |\n",
            "|     XGBOOST GBDT    |   BF+AF+TFIDF   |            8            |         144          |     0.0227    |   0.50930    |\n",
            "|     XGBOOST GBDT    | BF+AF+TFIDF_w2w |            7            |         200          |   0.0227326   |   0.50930    |\n",
            "+---------------------+-----------------+-------------------------+----------------------+---------------+--------------+\n"
          ],
          "name": "stdout"
        }
      ]
    }
  ]
}