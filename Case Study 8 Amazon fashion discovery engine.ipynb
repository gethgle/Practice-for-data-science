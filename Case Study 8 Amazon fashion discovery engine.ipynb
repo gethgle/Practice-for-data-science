{
  "nbformat": 4,
  "nbformat_minor": 0,
  "metadata": {
    "colab": {
      "name": "Amazon fashion discovery engine.ipynb",
      "provenance": [],
      "collapsed_sections": []
    },
    "kernelspec": {
      "name": "python3",
      "display_name": "Python 3"
    }
  },
  "cells": [
    {
      "cell_type": "code",
      "metadata": {
        "id": "KKiCHU5GOxx8",
        "colab_type": "code",
        "outputId": "8369b1b7-9d07-4538-e896-dd41e54be3ff",
        "colab": {
          "base_uri": "https://localhost:8080/",
          "height": 34
        }
      },
      "source": [
        "from google.colab import drive \n",
        "drive.mount('/content/drive')"
      ],
      "execution_count": 413,
      "outputs": [
        {
          "output_type": "stream",
          "text": [
            "Drive already mounted at /content/drive; to attempt to forcibly remount, call drive.mount(\"/content/drive\", force_remount=True).\n"
          ],
          "name": "stdout"
        }
      ]
    },
    {
      "cell_type": "code",
      "metadata": {
        "id": "R25YbYvWPAnC",
        "colab_type": "code",
        "outputId": "434095d1-ec9a-48ea-c350-aeb5dd8090f0",
        "colab": {
          "base_uri": "https://localhost:8080/",
          "height": 17
        }
      },
      "source": [
        "#import all the necessary packages.\n",
        "\n",
        "from PIL import Image\n",
        "import requests\n",
        "from io import BytesIO\n",
        "import matplotlib.pyplot as plt\n",
        "import numpy as np\n",
        "import pandas as pd\n",
        "import warnings\n",
        "from bs4 import BeautifulSoup\n",
        "from nltk.corpus import stopwords\n",
        "from nltk.tokenize import word_tokenize\n",
        "import nltk\n",
        "import math\n",
        "import time\n",
        "import re\n",
        "import os\n",
        "import seaborn as sns\n",
        "from collections import Counter\n",
        "from sklearn.feature_extraction.text import CountVectorizer\n",
        "from sklearn.feature_extraction.text import TfidfVectorizer\n",
        "from sklearn.metrics.pairwise import cosine_similarity  \n",
        "from sklearn.metrics import pairwise_distances\n",
        "from matplotlib import gridspec\n",
        "from scipy.sparse import hstack\n",
        "import plotly\n",
        "import plotly.figure_factory as ff\n",
        "from plotly.graph_objs import Scatter, Layout\n",
        "\n",
        "plotly.offline.init_notebook_mode(connected=True)\n",
        "warnings.filterwarnings(\"ignore\")\n",
        "import string\n",
        "from collections import OrderedDict\n",
        "from sklearn.feature_extraction import FeatureHasher\n",
        "from IPython.display import display, Image, SVG, Math, YouTubeVideo"
      ],
      "execution_count": 432,
      "outputs": [
        {
          "output_type": "display_data",
          "data": {
            "text/html": [
              "        <script type=\"text/javascript\">\n",
              "        window.PlotlyConfig = {MathJaxConfig: 'local'};\n",
              "        if (window.MathJax) {MathJax.Hub.Config({SVG: {font: \"STIX-Web\"}});}\n",
              "        if (typeof require !== 'undefined') {\n",
              "        require.undef(\"plotly\");\n",
              "        requirejs.config({\n",
              "            paths: {\n",
              "                'plotly': ['https://cdn.plot.ly/plotly-latest.min']\n",
              "            }\n",
              "        });\n",
              "        require(['plotly'], function(Plotly) {\n",
              "            window._Plotly = Plotly;\n",
              "        });\n",
              "        }\n",
              "        </script>\n",
              "        "
            ]
          },
          "metadata": {
            "tags": []
          }
        }
      ]
    },
    {
      "cell_type": "code",
      "metadata": {
        "id": "OMt2mRx9q8Tk",
        "colab_type": "code",
        "outputId": "e3497466-fbb7-4ca0-d9a3-37422b516dcd",
        "colab": {
          "base_uri": "https://localhost:8080/",
          "height": 289
        }
      },
      "source": [
        "data = pd.read_pickle('/content/drive/My Drive/Applied_AI_Workshop_Code_Data/pickels/16k_apperal_data_preprocessed')\n",
        "data.head()"
      ],
      "execution_count": 415,
      "outputs": [
        {
          "output_type": "execute_result",
          "data": {
            "text/html": [
              "<div>\n",
              "<style scoped>\n",
              "    .dataframe tbody tr th:only-of-type {\n",
              "        vertical-align: middle;\n",
              "    }\n",
              "\n",
              "    .dataframe tbody tr th {\n",
              "        vertical-align: top;\n",
              "    }\n",
              "\n",
              "    .dataframe thead th {\n",
              "        text-align: right;\n",
              "    }\n",
              "</style>\n",
              "<table border=\"1\" class=\"dataframe\">\n",
              "  <thead>\n",
              "    <tr style=\"text-align: right;\">\n",
              "      <th></th>\n",
              "      <th>asin</th>\n",
              "      <th>brand</th>\n",
              "      <th>color</th>\n",
              "      <th>medium_image_url</th>\n",
              "      <th>product_type_name</th>\n",
              "      <th>title</th>\n",
              "      <th>formatted_price</th>\n",
              "    </tr>\n",
              "  </thead>\n",
              "  <tbody>\n",
              "    <tr>\n",
              "      <th>4</th>\n",
              "      <td>B004GSI2OS</td>\n",
              "      <td>FeatherLite</td>\n",
              "      <td>Onyx Black/ Stone</td>\n",
              "      <td>https://images-na.ssl-images-amazon.com/images...</td>\n",
              "      <td>SHIRT</td>\n",
              "      <td>featherlite ladies long sleeve stain resistant...</td>\n",
              "      <td>$26.26</td>\n",
              "    </tr>\n",
              "    <tr>\n",
              "      <th>6</th>\n",
              "      <td>B012YX2ZPI</td>\n",
              "      <td>HX-Kingdom Fashion T-shirts</td>\n",
              "      <td>White</td>\n",
              "      <td>https://images-na.ssl-images-amazon.com/images...</td>\n",
              "      <td>SHIRT</td>\n",
              "      <td>womens unique 100 cotton  special olympics wor...</td>\n",
              "      <td>$9.99</td>\n",
              "    </tr>\n",
              "    <tr>\n",
              "      <th>15</th>\n",
              "      <td>B003BSRPB0</td>\n",
              "      <td>FeatherLite</td>\n",
              "      <td>White</td>\n",
              "      <td>https://images-na.ssl-images-amazon.com/images...</td>\n",
              "      <td>SHIRT</td>\n",
              "      <td>featherlite ladies moisture free mesh sport sh...</td>\n",
              "      <td>$20.54</td>\n",
              "    </tr>\n",
              "    <tr>\n",
              "      <th>27</th>\n",
              "      <td>B014ICEJ1Q</td>\n",
              "      <td>FNC7C</td>\n",
              "      <td>Purple</td>\n",
              "      <td>https://images-na.ssl-images-amazon.com/images...</td>\n",
              "      <td>SHIRT</td>\n",
              "      <td>supernatural chibis sam dean castiel neck tshi...</td>\n",
              "      <td>$7.39</td>\n",
              "    </tr>\n",
              "    <tr>\n",
              "      <th>46</th>\n",
              "      <td>B01NACPBG2</td>\n",
              "      <td>Fifth Degree</td>\n",
              "      <td>Black</td>\n",
              "      <td>https://images-na.ssl-images-amazon.com/images...</td>\n",
              "      <td>SHIRT</td>\n",
              "      <td>fifth degree womens gold foil graphic tees jun...</td>\n",
              "      <td>$6.95</td>\n",
              "    </tr>\n",
              "  </tbody>\n",
              "</table>\n",
              "</div>"
            ],
            "text/plain": [
              "          asin  ... formatted_price\n",
              "4   B004GSI2OS  ...          $26.26\n",
              "6   B012YX2ZPI  ...           $9.99\n",
              "15  B003BSRPB0  ...          $20.54\n",
              "27  B014ICEJ1Q  ...           $7.39\n",
              "46  B01NACPBG2  ...           $6.95\n",
              "\n",
              "[5 rows x 7 columns]"
            ]
          },
          "metadata": {
            "tags": []
          },
          "execution_count": 415
        }
      ]
    },
    {
      "cell_type": "markdown",
      "metadata": {
        "id": "8QRzNH0JtGEN",
        "colab_type": "text"
      },
      "source": [
        "**IDF based product similarity**"
      ]
    },
    {
      "cell_type": "code",
      "metadata": {
        "id": "AYRvZzsAyqWd",
        "colab_type": "code",
        "colab": {}
      },
      "source": [
        "from gensim.models import Word2Vec\n",
        "from gensim.models import KeyedVectors\n",
        "import pickle\n",
        "#if you do NOT have RAM >= 12GB, use the code below.\n",
        "with open('/content/drive/My Drive/Applied_AI_Workshop_Code_Data/word2vec_model', 'rb') as handle:\n",
        "    model = pickle.load(handle)"
      ],
      "execution_count": 0,
      "outputs": []
    },
    {
      "cell_type": "code",
      "metadata": {
        "id": "fik938Fyy6Gd",
        "colab_type": "code",
        "colab": {}
      },
      "source": [
        "def get_word_vec(sentence, doc_id, m_name):\n",
        "    # sentence : title of the apparel\n",
        "    # doc_id: document id in our corpus\n",
        "    # m_name: model information it will take two values\n",
        "        # if  m_name == 'avg', we will append the model[i], w2v representation of word i\n",
        "        # if m_name == 'weighted', we will multiply each w2v[word] with the idf(word)\n",
        "    vec = []\n",
        "    for i in sentence.split():\n",
        "        if i in vocab:\n",
        "            if m_name == 'weighted' and i in  idf_title_vectorizer.vocabulary_:\n",
        "                vec.append(idf_title_features[doc_id, idf_title_vectorizer.vocabulary_[i]] * model[i])\n",
        "            elif m_name == 'avg':\n",
        "                vec.append(model[i])\n",
        "        else:\n",
        "            # if the word in our courpus is not there in the google word2vec corpus, we are just ignoring it\n",
        "            vec.append(np.zeros(shape=(300,)))\n",
        "    # we will return a numpy array of shape (#number of words in title * 300 ) 300 = len(w2v_model[word])\n",
        "    # each row represents the word2vec representation of each word (weighted/avg) in given sentance \n",
        "    return  np.array(vec)\n"
      ],
      "execution_count": 0,
      "outputs": []
    },
    {
      "cell_type": "code",
      "metadata": {
        "id": "7LmRHuaEz0GJ",
        "colab_type": "code",
        "colab": {}
      },
      "source": [
        "# vocab = stores all the words that are there in google w2v model\n",
        "# vocab = model.wv.vocab.keys() # if you are using Google word2Vec\n",
        "\n",
        "vocab = model.keys()\n",
        "# this function will add the vectors of each word and returns the avg vector of given sentance\n",
        "def build_avg_vec(sentence, num_features, doc_id, m_name):\n",
        "    # sentace: its title of the apparel\n",
        "    # num_features: the lenght of word2vec vector, its values = 300\n",
        "    # m_name: model information it will take two values\n",
        "        # if  m_name == 'avg', we will append the model[i], w2v representation of word i\n",
        "        # if m_name == 'weighted', we will multiply each w2v[word] with the idf(word)\n",
        "\n",
        "    featureVec = np.zeros((num_features,), dtype=\"float32\")\n",
        "    # we will intialize a vector of size 300 with all zeros\n",
        "    # we add each word2vec(wordi) to this fetureVec\n",
        "    nwords = 0\n",
        "    \n",
        "    for word in sentence.split():\n",
        "        nwords += 1\n",
        "        if word in vocab:\n",
        "            if m_name == 'weighted' and word in  idf_title_vectorizer.vocabulary_:\n",
        "                featureVec = np.add(featureVec, idf_title_features[doc_id, idf_title_vectorizer.vocabulary_[word]] * model[word])\n",
        "            elif m_name == 'avg':\n",
        "                featureVec = np.add(featureVec, model[word])\n",
        "    if(nwords>0):\n",
        "        featureVec = np.divide(featureVec, nwords)\n",
        "    # returns the avg vector of given sentance, its of shape (1, 300)\n",
        "    return featureVec"
      ],
      "execution_count": 0,
      "outputs": []
    },
    {
      "cell_type": "code",
      "metadata": {
        "id": "PW2DxHxpt16M",
        "colab_type": "code",
        "colab": {}
      },
      "source": [
        "idf_title_vectorizer = CountVectorizer()\n",
        "idf_title_features = idf_title_vectorizer.fit_transform(data['title'])\n",
        "# idf_title_features.shape = #data_points * #words_in_corpus\n",
        "# CountVectorizer().fit_transform(courpus) returns the a sparase matrix of dimensions #data_points * #words_in_corpus\n",
        "# idf_title_features[doc_id, index_of_word_in_corpus] = number of times the word occured in that doc"
      ],
      "execution_count": 0,
      "outputs": []
    },
    {
      "cell_type": "code",
      "metadata": {
        "id": "W-FKrQv3tEca",
        "colab_type": "code",
        "colab": {}
      },
      "source": [
        "def n_containing(word):\n",
        "    # return the number of documents which had the given word\n",
        "    return sum(1 for blob in data['title'] if word in blob.split())\n",
        "\n",
        "def idf(word):\n",
        "    # idf = log(#number of docs / #number of docs which had the given word)\n",
        "    return math.log(data.shape[0] / (n_containing(word)))"
      ],
      "execution_count": 0,
      "outputs": []
    },
    {
      "cell_type": "code",
      "metadata": {
        "id": "vejmy3gmtkJM",
        "colab_type": "code",
        "colab": {}
      },
      "source": [
        "# we need to convert the values into float\n",
        "idf_title_features  = idf_title_features.astype(np.float)\n",
        "for i in idf_title_vectorizer.vocabulary_.keys():\n",
        "    # for every word in whole corpus we will find its idf value\n",
        "    idf_val = idf(i)\n",
        "    \n",
        "    # to calculate idf_title_features we need to replace the count values with the idf values of the word\n",
        "    # idf_title_features[:, idf_title_vectorizer.vocabulary_[i]].nonzero()[0] will return all documents in which the word i present\n",
        "    for j in idf_title_features[:, idf_title_vectorizer.vocabulary_[i]].nonzero()[0]:\n",
        "        \n",
        "        # we replace the count values of word i in document j with  idf_value of word i \n",
        "        # idf_title_features[doc_id, index_of_word_in_courpus] = idf value of word\n",
        "        idf_title_features[j,idf_title_vectorizer.vocabulary_[i]] = idf_val"
      ],
      "execution_count": 0,
      "outputs": []
    },
    {
      "cell_type": "code",
      "metadata": {
        "id": "4Mkuq5mfvIxa",
        "colab_type": "code",
        "colab": {}
      },
      "source": [
        "doc_id = 0\n",
        "w2v_title_weight = []\n",
        "# for every title we build a weighted vector representation\n",
        "for i in data['title']:\n",
        "    w2v_title_weight.append(build_avg_vec(i, 300, doc_id,'weighted'))\n",
        "    doc_id += 1\n",
        "# w2v_title = np.array(# number of doc in courpus * 300), each row corresponds to a doc \n",
        "w2v_title_weight = np.array(w2v_title_weight)"
      ],
      "execution_count": 0,
      "outputs": []
    },
    {
      "cell_type": "code",
      "metadata": {
        "id": "RKeHVP0d6rZr",
        "colab_type": "code",
        "colab": {}
      },
      "source": [
        "# some of the brand values are empty. \n",
        "# Need to replace Null with string \"NULL\"\n",
        "data['brand'].fillna(value=\"Not given\", inplace=True )\n",
        "\n",
        "# replace spaces with hypen\n",
        "brands = [x.replace(\" \", \"-\") for x in data['brand'].values]\n",
        "colors = [x.replace(\" \", \"-\") for x in data['color'].values]\n",
        "\n",
        "brand_vectorizer = CountVectorizer()\n",
        "brand_features = brand_vectorizer.fit_transform(brands).tocsr()\n",
        "\n",
        "color_vectorizer = CountVectorizer()\n",
        "color_features = color_vectorizer.fit_transform(colors).tocsr()\n"
      ],
      "execution_count": 0,
      "outputs": []
    },
    {
      "cell_type": "code",
      "metadata": {
        "id": "hwUldlGeB6ft",
        "colab_type": "code",
        "colab": {}
      },
      "source": [
        "#load the features and corresponding ASINS info.\n",
        "bottleneck_features_train = np.load('/content/drive/My Drive/Applied_AI_Workshop_Code_Data/16k_data_cnn_features.npy') "
      ],
      "execution_count": 0,
      "outputs": []
    },
    {
      "cell_type": "code",
      "metadata": {
        "id": "mdrTktWUDdC7",
        "colab_type": "code",
        "colab": {}
      },
      "source": [
        "# Final model\n",
        "def idf_w2v_one_hot_encoding_cnn_model(doc_id, result_count, wT, wB, wC, wI):\n",
        "    # doc_id: apparel's id in given corpus\n",
        "    # result_count: Number of results to show\n",
        "    # wT: weight for  title features\n",
        "    # wB: weight for brand\n",
        "    # wC: weight for color features\n",
        "    # wI: weight for image features\n",
        "    \n",
        "    # pairwise_dist will store the distance from given input apparel to all remaining apparels for title feature    \n",
        "    title_distance = pairwise_distances(w2v_title_weight,w2v_title_weight[doc_id].reshape(1,-1))\n",
        "    \n",
        "    # pairwise_dist will store the distance from given input apparel to all remaining apparels for brand feature\n",
        "    brand_distance = pairwise_distances(brand_features,brand_features[doc_id])\n",
        "    \n",
        "    # pairwise_dist will store the distance from given input apparel to all remaining apparels for color feature\n",
        "    color_distance = pairwise_distances(color_features,color_features[doc_id])\n",
        "    \n",
        "    # pairwise_dist will store the distance from given input apparel to all remaining apparels for image feature\n",
        "    image_distance = pairwise_distances(bottleneck_features_train,bottleneck_features_train[doc_id].reshape(1,-1))\n",
        "    \n",
        "    # Weighted pairwise distance for all feature.\n",
        "    weighted_pairwise_dist = (wT * title_distance + wB * brand_distance + wC * color_distance + wI * image_distance)/float(wT + wB + wC + wI)\n",
        "    \n",
        "    # Nearest indices of datapoints with respective to input doc_id\n",
        "    nearest_indices = np.argsort(weighted_pairwise_dist.flatten())[0:result_count]\n",
        "    \n",
        "    # Nearest distance values of datapoints with respective to input doc_id\n",
        "    nearest_distances = np.sort(weighted_pairwise_dist.flatten())[0:result_count]\n",
        "        \n",
        "    # List of nearest data points\n",
        "    list_nearest_data_points = list(data.index[nearest_indices])    \n",
        "    \n",
        "        \n",
        "    # Just to print the output\n",
        "    for i in range(0,len(nearest_indices)):\n",
        "        display(Image(url=data['medium_image_url'].loc[list_nearest_data_points[i]], embed=True))\n",
        "        print('ASIN : ',data['asin'].loc[list_nearest_data_points[i]])\n",
        "        print('TITLE : ',data['title'].loc[list_nearest_data_points[i]])\n",
        "        print('BRAND : ',data['brand'].loc[list_nearest_data_points[i]])\n",
        "        print('COLOR : ',data['color'].loc[list_nearest_data_points[i]])\n",
        "        print('Euclidean Distance from input is  :',nearest_distances[i])\n",
        "        print('='*125)"
      ],
      "execution_count": 0,
      "outputs": []
    },
    {
      "cell_type": "code",
      "metadata": {
        "id": "_i-BqVbjJf3Q",
        "colab_type": "code",
        "colab": {
          "base_uri": "https://localhost:8080/",
          "height": 1000
        },
        "outputId": "aa6286e8-3e71-4b9b-ac91-32750afa1ee4"
      },
      "source": [
        "idf_w2v_one_hot_encoding_cnn_model(500,20,50,50,1,1)"
      ],
      "execution_count": 445,
      "outputs": [
        {
          "output_type": "display_data",
          "data": {
            "image/jpeg": "[encoded data removed]",
            "text/plain": [
              "<IPython.core.display.Image object>"
            ]
          },
          "metadata": {
            "tags": []
          }
        },
        {
          "output_type": "stream",
          "text": [
            "ASIN :  B0023UNW7I\n",
            "TITLE :  alo sport ladies bamboo racerback tank w2006leafslatexl \n",
            "BRAND :  ALO\n",
            "COLOR :  Leaf/Slate\n",
            "Euclidean Distance from input is  : 7.822560363303066e-08\n",
            "=============================================================================================================================\n"
          ],
          "name": "stdout"
        },
        {
          "output_type": "display_data",
          "data": {
            "image/jpeg": "[encoded data removed]",
            "text/plain": [
              "<IPython.core.display.Image object>"
            ]
          },
          "metadata": {
            "tags": []
          }
        },
        {
          "output_type": "stream",
          "text": [
            "ASIN :  B003IWQKB0\n",
            "TITLE :  alo sport ladies bamboo racerback tank aquawhite \n",
            "BRAND :  ALO\n",
            "COLOR :  Aqua/White\n",
            "Euclidean Distance from input is  : 0.6119416928758808\n",
            "=============================================================================================================================\n"
          ],
          "name": "stdout"
        },
        {
          "output_type": "display_data",
          "data": {
            "image/jpeg": "[encoded data removed]",
            "text/plain": [
              "<IPython.core.display.Image object>"
            ]
          },
          "metadata": {
            "tags": []
          }
        },
        {
          "output_type": "stream",
          "text": [
            "ASIN :  B004J8LKP8\n",
            "TITLE :  alo sport ladies bamboo racerback tank  pinkwhite  xs \n",
            "BRAND :  ALO\n",
            "COLOR :  Pink/White\n",
            "Euclidean Distance from input is  : 0.9303522296980316\n",
            "=============================================================================================================================\n"
          ],
          "name": "stdout"
        },
        {
          "output_type": "display_data",
          "data": {
            "image/jpeg": "[encoded data removed]",
            "text/plain": [
              "<IPython.core.display.Image object>"
            ]
          },
          "metadata": {
            "tags": []
          }
        },
        {
          "output_type": "stream",
          "text": [
            "ASIN :  B003IWOLYS\n",
            "TITLE :  alo sport  ladies racerback bamboo tank \n",
            "BRAND :  ALO\n",
            "COLOR :  Berry/White\n",
            "Euclidean Distance from input is  : 1.1302008161357804\n",
            "=============================================================================================================================\n"
          ],
          "name": "stdout"
        },
        {
          "output_type": "display_data",
          "data": {
            "image/jpeg": "[encoded data removed]",
            "text/plain": [
              "<IPython.core.display.Image object>"
            ]
          },
          "metadata": {
            "tags": []
          }
        },
        {
          "output_type": "stream",
          "text": [
            "ASIN :  B0745GGJSB\n",
            "TITLE :  alo sport ladies bamboo racerback tank small pinkwhite \n",
            "BRAND :  ALO Sport\n",
            "COLOR :  Pink/White\n",
            "Euclidean Distance from input is  : 1.4805968415503408\n",
            "=============================================================================================================================\n"
          ],
          "name": "stdout"
        },
        {
          "output_type": "display_data",
          "data": {
            "image/jpeg": "[encoded data removed]",
            "text/plain": [
              "<IPython.core.display.Image object>"
            ]
          },
          "metadata": {
            "tags": []
          }
        },
        {
          "output_type": "stream",
          "text": [
            "ASIN :  B004J8K1J4\n",
            "TITLE :  alo sport ladies bamboo racerback tank xl dk navypacific \n",
            "BRAND :  ALO\n",
            "COLOR :  Blue\n",
            "Euclidean Distance from input is  : 1.793949079584583\n",
            "=============================================================================================================================\n"
          ],
          "name": "stdout"
        },
        {
          "output_type": "display_data",
          "data": {
            "image/jpeg": "[encoded data removed]",
            "text/plain": [
              "<IPython.core.display.Image object>"
            ]
          },
          "metadata": {
            "tags": []
          }
        },
        {
          "output_type": "stream",
          "text": [
            "ASIN :  B003IWNDII\n",
            "TITLE :  alo ladies racerback bamboo tank \n",
            "BRAND :  ALO\n",
            "COLOR :  Berry/White\n",
            "Euclidean Distance from input is  : 1.9153391520182292\n",
            "=============================================================================================================================\n"
          ],
          "name": "stdout"
        },
        {
          "output_type": "display_data",
          "data": {
            "image/jpeg": "[encoded data removed]",
            "text/plain": [
              "<IPython.core.display.Image object>"
            ]
          },
          "metadata": {
            "tags": []
          }
        },
        {
          "output_type": "stream",
          "text": [
            "ASIN :  B003IWUMO6\n",
            "TITLE :  alo lad racerback bamboo tank royaldark navy xs \n",
            "BRAND :  ALO\n",
            "COLOR :  Royal/Navy\n",
            "Euclidean Distance from input is  : 2.3152949389289406\n",
            "=============================================================================================================================\n"
          ],
          "name": "stdout"
        },
        {
          "output_type": "display_data",
          "data": {
            "image/jpeg": "[encoded data removed]",
            "text/plain": [
              "<IPython.core.display.Image object>"
            ]
          },
          "metadata": {
            "tags": []
          }
        },
        {
          "output_type": "stream",
          "text": [
            "ASIN :  B004J8K0E0\n",
            "TITLE :  alo  ladies short sleeve bamboo tshirt  w1004  berrywhite  large \n",
            "BRAND :  ALO Sport\n",
            "COLOR :  BERRY/WHITE\n",
            "Euclidean Distance from input is  : 2.551086986766142\n",
            "=============================================================================================================================\n"
          ],
          "name": "stdout"
        },
        {
          "output_type": "display_data",
          "data": {
            "image/jpeg": "[encoded data removed]",
            "text/plain": [
              "<IPython.core.display.Image object>"
            ]
          },
          "metadata": {
            "tags": []
          }
        },
        {
          "output_type": "stream",
          "text": [
            "ASIN :  B00L8ASCKQ\n",
            "TITLE :  alo sport womens performance racerback tank white \n",
            "BRAND :  ALO Sport\n",
            "COLOR :  White\n",
            "Euclidean Distance from input is  : 2.794161879853616\n",
            "=============================================================================================================================\n"
          ],
          "name": "stdout"
        },
        {
          "output_type": "display_data",
          "data": {
            "image/jpeg": "[encoded data removed]",
            "text/plain": [
              "<IPython.core.display.Image object>"
            ]
          },
          "metadata": {
            "tags": []
          }
        },
        {
          "output_type": "stream",
          "text": [
            "ASIN :  B00IM7XQ40\n",
            "TITLE :  alo sport womens 3button mesh polo shirt sport crlna blue medium \n",
            "BRAND :  ALO Sport\n",
            "COLOR :  Blue\n",
            "Euclidean Distance from input is  : 2.9513992132635427\n",
            "=============================================================================================================================\n"
          ],
          "name": "stdout"
        },
        {
          "output_type": "display_data",
          "data": {
            "image/jpeg": "[encoded data removed]",
            "text/plain": [
              "<IPython.core.display.Image object>"
            ]
          },
          "metadata": {
            "tags": []
          }
        },
        {
          "output_type": "stream",
          "text": [
            "ASIN :  B01GESYBOM\n",
            "TITLE :  alo ladies performance threebutton polo shirt  sport royal medium \n",
            "BRAND :  ALO Sport\n",
            "COLOR :  Sport Royal\n",
            "Euclidean Distance from input is  : 3.122586867388557\n",
            "=============================================================================================================================\n"
          ],
          "name": "stdout"
        },
        {
          "output_type": "display_data",
          "data": {
            "image/jpeg": "[encoded data removed]",
            "text/plain": [
              "<IPython.core.display.Image object>"
            ]
          },
          "metadata": {
            "tags": []
          }
        },
        {
          "output_type": "stream",
          "text": [
            "ASIN :  B01GESX27O\n",
            "TITLE :  alo ladies performance threebutton polo shirt sport silver xlarge \n",
            "BRAND :  ALO Sport\n",
            "COLOR :  Sport Silver\n",
            "Euclidean Distance from input is  : 3.1281215069340726\n",
            "=============================================================================================================================\n"
          ],
          "name": "stdout"
        },
        {
          "output_type": "display_data",
          "data": {
            "image/jpeg": "[encoded data removed]",
            "text/plain": [
              "<IPython.core.display.Image object>"
            ]
          },
          "metadata": {
            "tags": []
          }
        },
        {
          "output_type": "stream",
          "text": [
            "ASIN :  B00CQH2AT4\n",
            "TITLE :  alo sport ladies performance triblend shortsleeve tshirt  chrcl hthr trblnd  \n",
            "BRAND :  ALO Sport\n",
            "COLOR :  Charcoal Heather Triblend\n",
            "Euclidean Distance from input is  : 3.140701847596026\n",
            "=============================================================================================================================\n"
          ],
          "name": "stdout"
        },
        {
          "output_type": "display_data",
          "data": {
            "image/jpeg": "[encoded data removed]",
            "text/plain": [
              "<IPython.core.display.Image object>"
            ]
          },
          "metadata": {
            "tags": []
          }
        },
        {
          "output_type": "stream",
          "text": [
            "ASIN :  B00WL1CWWU\n",
            "TITLE :  piko womens famous long sleeve bamboo top loose fit dolman style \n",
            "BRAND :  Piko\n",
            "COLOR :  White\n",
            "Euclidean Distance from input is  : 3.2319584914426605\n",
            "=============================================================================================================================\n"
          ],
          "name": "stdout"
        },
        {
          "output_type": "display_data",
          "data": {
            "image/jpeg": "[encoded data removed]",
            "text/plain": [
              "<IPython.core.display.Image object>"
            ]
          },
          "metadata": {
            "tags": []
          }
        },
        {
          "output_type": "stream",
          "text": [
            "ASIN :  B019L076OW\n",
            "TITLE :  piko womens famous long sleeve bamboo top loose fit large mocha \n",
            "BRAND :  Piko\n",
            "COLOR :  Mocha\n",
            "Euclidean Distance from input is  : 3.2644339068407535\n",
            "=============================================================================================================================\n"
          ],
          "name": "stdout"
        },
        {
          "output_type": "display_data",
          "data": {
            "image/jpeg": "[encoded data removed]",
            "text/plain": [
              "<IPython.core.display.Image object>"
            ]
          },
          "metadata": {
            "tags": []
          }
        },
        {
          "output_type": "stream",
          "text": [
            "ASIN :  B00KY54BQK\n",
            "TITLE :  armani collezioni bamboo jersey tank top blouse 8 green \n",
            "BRAND :  Armani Collezioni\n",
            "COLOR :  Green\n",
            "Euclidean Distance from input is  : 3.281685626155858\n",
            "=============================================================================================================================\n"
          ],
          "name": "stdout"
        },
        {
          "output_type": "display_data",
          "data": {
            "image/jpeg": "[encoded data removed]",
            "text/plain": [
              "<IPython.core.display.Image object>"
            ]
          },
          "metadata": {
            "tags": []
          }
        },
        {
          "output_type": "stream",
          "text": [
            "ASIN :  B011JA2FGG\n",
            "TITLE :  piko womens famous long sleeve bamboo top loose fit dolman style large army \n",
            "BRAND :  Piko\n",
            "COLOR :  Army Green\n",
            "Euclidean Distance from input is  : 3.298038856833089\n",
            "=============================================================================================================================\n"
          ],
          "name": "stdout"
        },
        {
          "output_type": "display_data",
          "data": {
            "image/jpeg": "[encoded data removed]",
            "text/plain": [
              "<IPython.core.display.Image object>"
            ]
          },
          "metadata": {
            "tags": []
          }
        },
        {
          "output_type": "stream",
          "text": [
            "ASIN :  B00JV4OXJU\n",
            "TITLE :  marrikas viscose bamboo scoop neck tank top black medium 1012 \n",
            "BRAND :  Marrikas\n",
            "COLOR :  Black\n",
            "Euclidean Distance from input is  : 3.300382716296176\n",
            "=============================================================================================================================\n"
          ],
          "name": "stdout"
        },
        {
          "output_type": "display_data",
          "data": {
            "image/jpeg": "[encoded data removed]",
            "text/plain": [
              "<IPython.core.display.Image object>"
            ]
          },
          "metadata": {
            "tags": []
          }
        },
        {
          "output_type": "stream",
          "text": [
            "ASIN :  B0711KH9DX\n",
            "TITLE :  hn long sleeve shirts women casual blouse top floral xl red \n",
            "BRAND :  H&N\n",
            "COLOR :  Red\n",
            "Euclidean Distance from input is  : 3.3015184861313815\n",
            "=============================================================================================================================\n"
          ],
          "name": "stdout"
        }
      ]
    }
  ]
}