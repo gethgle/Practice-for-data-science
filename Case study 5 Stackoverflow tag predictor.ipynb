{
  "nbformat": 4,
  "nbformat_minor": 0,
  "metadata": {
    "colab": {
      "name": "Stack overflow tagging.ipynb",
      "provenance": [],
      "collapsed_sections": []
    },
    "kernelspec": {
      "name": "python3",
      "display_name": "Python 3"
    },
    "accelerator": "GPU"
  },
  "cells": [
    {
      "cell_type": "code",
      "metadata": {
        "id": "Ihs1Hb3RU93S",
        "colab_type": "code",
        "colab": {}
      },
      "source": [
        "import warnings\n",
        "warnings.filterwarnings(\"ignore\")\n",
        "import pandas as pd\n",
        "import sqlite3\n",
        "import csv\n",
        "import matplotlib.pyplot as plt\n",
        "import seaborn as sns\n",
        "import numpy as np\n",
        "from wordcloud import WordCloud\n",
        "import re\n",
        "import os\n",
        "from sqlalchemy import create_engine # database connection\n",
        "import datetime as dt\n",
        "from nltk.corpus import stopwords\n",
        "from nltk.tokenize import word_tokenize\n",
        "from nltk.stem.snowball import SnowballStemmer\n",
        "from sklearn.feature_extraction.text import CountVectorizer\n",
        "from sklearn.feature_extraction.text import TfidfVectorizer\n",
        "from sklearn.multiclass import OneVsRestClassifier\n",
        "from sklearn.linear_model import SGDClassifier\n",
        "from sklearn import metrics\n",
        "from sklearn.metrics import f1_score,precision_score,recall_score\n",
        "from sklearn import svm\n",
        "from sklearn.linear_model import LogisticRegression\n",
        "from datetime import datetime"
      ],
      "execution_count": 0,
      "outputs": []
    },
    {
      "cell_type": "code",
      "metadata": {
        "id": "vimdNFxDB10c",
        "colab_type": "code",
        "outputId": "4b444637-58a2-416e-df76-77d0f817e8d7",
        "colab": {
          "base_uri": "https://localhost:8080/",
          "height": 122
        }
      },
      "source": [
        "from google.colab import drive\n",
        "drive.mount('/content/drive')"
      ],
      "execution_count": 0,
      "outputs": [
        {
          "output_type": "stream",
          "text": [
            "Go to this URL in a browser: https://accounts.google.com/o/oauth2/auth?client_id=947318989803-6bn6qk8qdgf4n4g3pfee6491hc0brc4i.apps.googleusercontent.com&redirect_uri=urn%3aietf%3awg%3aoauth%3a2.0%3aoob&response_type=code&scope=email%20https%3a%2f%2fwww.googleapis.com%2fauth%2fdocs.test%20https%3a%2f%2fwww.googleapis.com%2fauth%2fdrive%20https%3a%2f%2fwww.googleapis.com%2fauth%2fdrive.photos.readonly%20https%3a%2f%2fwww.googleapis.com%2fauth%2fpeopleapi.readonly\n",
            "\n",
            "Enter your authorization code:\n",
            "··········\n",
            "Mounted at /content/drive\n"
          ],
          "name": "stdout"
        }
      ]
    },
    {
      "cell_type": "markdown",
      "metadata": {
        "id": "EA8QfhQHBBB-",
        "colab_type": "text"
      },
      "source": [
        "**Load the Processed Data**"
      ]
    },
    {
      "cell_type": "code",
      "metadata": {
        "id": "s7m1vt5ZChja",
        "colab_type": "code",
        "colab": {}
      },
      "source": [
        "def create_connection(db_file):\n",
        "    \"\"\" create a database connection to the SQLite database\n",
        "        specified by db_file\n",
        "    :param db_file: database file\n",
        "    :return: Connection object or None\n",
        "    \"\"\"\n",
        "    try:\n",
        "        conn = sqlite3.connect(db_file)\n",
        "        return conn\n",
        "    except Error as e:\n",
        "        print(e)\n",
        " \n",
        "    return None"
      ],
      "execution_count": 0,
      "outputs": []
    },
    {
      "cell_type": "code",
      "metadata": {
        "colab_type": "code",
        "id": "ETIjUAQMAyyk",
        "colab": {}
      },
      "source": [
        "#Taking 0.5 Million entries to a dataframe.\n",
        "write_db = '/content/drive/My Drive/data (1)/Processed.db'\n",
        "if os.path.isfile(write_db):\n",
        "    conn_r = create_connection(write_db)\n",
        "    if conn_r is not None:\n",
        "        preprocessed_data = pd.read_sql_query(\"\"\"SELECT * FROM QuestionsProcessed LIMIT 100000\"\"\", conn_r)\n",
        "conn_r.commit()\n",
        "conn_r.close() "
      ],
      "execution_count": 0,
      "outputs": []
    },
    {
      "cell_type": "code",
      "metadata": {
        "id": "ANsenX1EU97l",
        "colab_type": "code",
        "outputId": "86803ce5-2b3f-49b7-e2a0-0f91817c72e9",
        "colab": {
          "base_uri": "https://localhost:8080/",
          "height": 255
        }
      },
      "source": [
        "preprocessed_data.head()"
      ],
      "execution_count": 0,
      "outputs": [
        {
          "output_type": "execute_result",
          "data": {
            "text/html": [
              "<div>\n",
              "<style scoped>\n",
              "    .dataframe tbody tr th:only-of-type {\n",
              "        vertical-align: middle;\n",
              "    }\n",
              "\n",
              "    .dataframe tbody tr th {\n",
              "        vertical-align: top;\n",
              "    }\n",
              "\n",
              "    .dataframe thead th {\n",
              "        text-align: right;\n",
              "    }\n",
              "</style>\n",
              "<table border=\"1\" class=\"dataframe\">\n",
              "  <thead>\n",
              "    <tr style=\"text-align: right;\">\n",
              "      <th></th>\n",
              "      <th>question</th>\n",
              "      <th>code</th>\n",
              "      <th>tags</th>\n",
              "      <th>words_pre</th>\n",
              "      <th>words_post</th>\n",
              "      <th>is_code</th>\n",
              "    </tr>\n",
              "  </thead>\n",
              "  <tbody>\n",
              "    <tr>\n",
              "      <th>0</th>\n",
              "      <td>chang cpu soni vaio pcg grx tri everywher find...</td>\n",
              "      <td>[]</td>\n",
              "      <td>cpu motherboard sony-vaio replacement disassembly</td>\n",
              "      <td>535</td>\n",
              "      <td>284</td>\n",
              "      <td>0</td>\n",
              "    </tr>\n",
              "    <tr>\n",
              "      <th>1</th>\n",
              "      <td>display size grayscal qimag qt abl display ima...</td>\n",
              "      <td>['transformPixels(0,0,1,imheight,imwidth,1);//...</td>\n",
              "      <td>c++ qt qt4</td>\n",
              "      <td>535</td>\n",
              "      <td>563</td>\n",
              "      <td>1</td>\n",
              "    </tr>\n",
              "    <tr>\n",
              "      <th>2</th>\n",
              "      <td>datagrid selecteditem set back null eventtocom...</td>\n",
              "      <td>['&amp;lt;sdk:DataGrid Name=\"MyGrid\"  AutoGenerate...</td>\n",
              "      <td>mvvm silverlight-4.0</td>\n",
              "      <td>535</td>\n",
              "      <td>420</td>\n",
              "      <td>1</td>\n",
              "    </tr>\n",
              "    <tr>\n",
              "      <th>3</th>\n",
              "      <td>filter string collect base listview item resol...</td>\n",
              "      <td>['string[]', 'nicks.Count !=0', 'string[]', 'f...</td>\n",
              "      <td>c# winforms string listview collections</td>\n",
              "      <td>535</td>\n",
              "      <td>597</td>\n",
              "      <td>1</td>\n",
              "    </tr>\n",
              "    <tr>\n",
              "      <th>4</th>\n",
              "      <td>disabl home button without use type keyguard c...</td>\n",
              "      <td>['    @Override\\n    public void onCreate(Bund...</td>\n",
              "      <td>android android-layout android-manifest androi...</td>\n",
              "      <td>535</td>\n",
              "      <td>487</td>\n",
              "      <td>1</td>\n",
              "    </tr>\n",
              "  </tbody>\n",
              "</table>\n",
              "</div>"
            ],
            "text/plain": [
              "                                            question  ... is_code\n",
              "0  chang cpu soni vaio pcg grx tri everywher find...  ...       0\n",
              "1  display size grayscal qimag qt abl display ima...  ...       1\n",
              "2  datagrid selecteditem set back null eventtocom...  ...       1\n",
              "3  filter string collect base listview item resol...  ...       1\n",
              "4  disabl home button without use type keyguard c...  ...       1\n",
              "\n",
              "[5 rows x 6 columns]"
            ]
          },
          "metadata": {
            "tags": []
          },
          "execution_count": 5
        }
      ]
    },
    {
      "cell_type": "code",
      "metadata": {
        "id": "I6vsCoLOU97r",
        "colab_type": "code",
        "outputId": "775163bb-b0eb-4ef4-d7f6-291f03a1762e",
        "colab": {
          "base_uri": "https://localhost:8080/",
          "height": 51
        }
      },
      "source": [
        "print(\"number of data points in sample :\", preprocessed_data.shape[0])\n",
        "print(\"number of dimensions :\", preprocessed_data.shape[1])"
      ],
      "execution_count": 0,
      "outputs": [
        {
          "output_type": "stream",
          "text": [
            "number of data points in sample : 100000\n",
            "number of dimensions : 6\n"
          ],
          "name": "stdout"
        }
      ]
    },
    {
      "cell_type": "markdown",
      "metadata": {
        "colab_type": "text",
        "id": "VOv7lOXIEg0b"
      },
      "source": [
        "**Machine Learning Models**"
      ]
    },
    {
      "cell_type": "code",
      "metadata": {
        "id": "ttr2m-qiU97z",
        "colab_type": "code",
        "colab": {}
      },
      "source": [
        "# Converting tags for multilabel problems\n",
        "# binary='true' will give a binary vectorizer\n",
        "vectorizer = CountVectorizer(tokenizer = lambda x: x.split())\n",
        "multilabel_y = vectorizer.fit_transform(preprocessed_data['tags']) "
      ],
      "execution_count": 0,
      "outputs": []
    },
    {
      "cell_type": "markdown",
      "metadata": {
        "id": "_VCwyfHxU972",
        "colab_type": "text"
      },
      "source": [
        "__ We will sample the number of tags instead considering all of them (due to limitation of computing power) __"
      ]
    },
    {
      "cell_type": "code",
      "metadata": {
        "id": "-FtgktWvU973",
        "colab_type": "code",
        "colab": {}
      },
      "source": [
        "def tags_to_choose(n):\n",
        "    t = multilabel_y.sum(axis=0).tolist()[0]\n",
        "    sorted_tags_i = sorted(range(len(t)), key=lambda i: t[i], reverse=True)\n",
        "    multilabel_yn=multilabel_y[:,sorted_tags_i[:n]]\n",
        "    return multilabel_yn\n",
        "\n",
        "def questions_explained_fn(n):\n",
        "    multilabel_yn = tags_to_choose(n)\n",
        "    x= multilabel_yn.sum(axis=1)\n",
        "    return (np.count_nonzero(x==0))"
      ],
      "execution_count": 0,
      "outputs": []
    },
    {
      "cell_type": "code",
      "metadata": {
        "id": "XxbL2OyqU978",
        "colab_type": "code",
        "colab": {}
      },
      "source": [
        "questions_explained = []\n",
        "total_tags=multilabel_y.shape[1]\n",
        "total_qs=preprocessed_data.shape[0]\n",
        "for i in range(500, total_tags, 100):\n",
        "    questions_explained.append(np.round(((total_qs-questions_explained_fn(i))/total_qs)*100,3))"
      ],
      "execution_count": 0,
      "outputs": []
    },
    {
      "cell_type": "code",
      "metadata": {
        "id": "IgJKNRG0U98F",
        "colab_type": "code",
        "outputId": "89f8114a-9d3f-4ece-8e80-dd538ba74dd6",
        "colab": {
          "base_uri": "https://localhost:8080/",
          "height": 34
        }
      },
      "source": [
        "multilabel_yx = tags_to_choose(500)\n",
        "print(\"number of questions that are not covered :\", questions_explained_fn(500),\"out of \", total_qs)"
      ],
      "execution_count": 0,
      "outputs": [
        {
          "output_type": "stream",
          "text": [
            "number of questions that are not covered : 9960 out of  100000\n"
          ],
          "name": "stdout"
        }
      ]
    },
    {
      "cell_type": "code",
      "metadata": {
        "id": "BTuhd5XMU98L",
        "colab_type": "code",
        "outputId": "b521416a-8f0b-4b65-949b-1f3f92ef77d5",
        "colab": {
          "base_uri": "https://localhost:8080/",
          "height": 51
        }
      },
      "source": [
        "print(\"Number of tags in sample :\", multilabel_y.shape[1])\n",
        "print(\"number of tags taken :\", multilabel_yx.shape[1],\"(\",(multilabel_yx.shape[1]/multilabel_y.shape[1])*100,\"%)\")"
      ],
      "execution_count": 0,
      "outputs": [
        {
          "output_type": "stream",
          "text": [
            "Number of tags in sample : 18688\n",
            "number of tags taken : 500 ( 2.675513698630137 %)\n"
          ],
          "name": "stdout"
        }
      ]
    },
    {
      "cell_type": "markdown",
      "metadata": {
        "id": "stMfn7tMU98U",
        "colab_type": "text"
      },
      "source": [
        "**Split the data into test and train (80:20)**"
      ]
    },
    {
      "cell_type": "code",
      "metadata": {
        "id": "YqeDZrwWU98U",
        "colab_type": "code",
        "colab": {}
      },
      "source": [
        "total_size=preprocessed_data.shape[0]\n",
        "train_size=int(0.80*total_size)\n",
        "\n",
        "x_train=preprocessed_data.head(train_size)\n",
        "x_test=preprocessed_data.tail(total_size - train_size)\n",
        "\n",
        "y_train = multilabel_yx[0:train_size,:]\n",
        "y_test = multilabel_yx[train_size:total_size,:]"
      ],
      "execution_count": 0,
      "outputs": []
    },
    {
      "cell_type": "code",
      "metadata": {
        "id": "TgNXo4eJU98X",
        "colab_type": "code",
        "outputId": "f7b8a00b-3a99-4435-b2d6-637331855023",
        "colab": {
          "base_uri": "https://localhost:8080/",
          "height": 51
        }
      },
      "source": [
        "print(\"Number of data points in train data :\", y_train.shape)\n",
        "print(\"Number of data points in test data :\", y_test.shape)"
      ],
      "execution_count": 0,
      "outputs": [
        {
          "output_type": "stream",
          "text": [
            "Number of data points in train data : (80000, 500)\n",
            "Number of data points in test data : (20000, 500)\n"
          ],
          "name": "stdout"
        }
      ]
    },
    {
      "cell_type": "markdown",
      "metadata": {
        "id": "664323eyU98a",
        "colab_type": "text"
      },
      "source": [
        "**Featurizing data**"
      ]
    },
    {
      "cell_type": "code",
      "metadata": {
        "id": "EnV3O0WFU98b",
        "colab_type": "code",
        "outputId": "07345727-e93a-4fd7-ea66-4b93e83ec95d",
        "colab": {
          "base_uri": "https://localhost:8080/",
          "height": 34
        }
      },
      "source": [
        "start = datetime.now()\n",
        "vectorizer = CountVectorizer(min_df=0.00009, max_features=20000,  \\\n",
        "                             tokenizer = lambda x: x.split(), ngram_range=(1,4))\n",
        "x_train_multilabel = vectorizer.fit_transform(x_train['question'])\n",
        "x_test_multilabel = vectorizer.transform(x_test['question'])\n",
        "print(\"Time taken to run this cell :\", datetime.now() - start) "
      ],
      "execution_count": 0,
      "outputs": [
        {
          "output_type": "stream",
          "text": [
            "Time taken to run this cell : 0:01:00.144274\n"
          ],
          "name": "stdout"
        }
      ]
    },
    {
      "cell_type": "code",
      "metadata": {
        "id": "CB01RkDzU98f",
        "colab_type": "code",
        "outputId": "1d4d3375-83ba-4162-e66a-ffe974e0dcb2",
        "colab": {
          "base_uri": "https://localhost:8080/",
          "height": 51
        }
      },
      "source": [
        "print(\"Dimensions of train data X:\",x_train_multilabel.shape, \"Y :\",y_train.shape)\n",
        "print(\"Dimensions of test data X:\",x_test_multilabel.shape,\"Y:\",y_test.shape)"
      ],
      "execution_count": 0,
      "outputs": [
        {
          "output_type": "stream",
          "text": [
            "Dimensions of train data X: (80000, 20000) Y : (80000, 500)\n",
            "Dimensions of test data X: (20000, 20000) Y: (20000, 500)\n"
          ],
          "name": "stdout"
        }
      ]
    },
    {
      "cell_type": "markdown",
      "metadata": {
        "id": "qh-EUIsAU98l",
        "colab_type": "text"
      },
      "source": [
        "**Applying Logistic Regression with OneVsRest Classifier on Bag of Words**"
      ]
    },
    {
      "cell_type": "code",
      "metadata": {
        "id": "hCR2BtdxU98s",
        "colab_type": "code",
        "outputId": "c39e7757-1c96-4893-9bf8-973d4b4b65ca",
        "colab": {
          "base_uri": "https://localhost:8080/",
          "height": 51
        }
      },
      "source": [
        "# Applying Logistic Regression with OneVsRest Classifier \n",
        "from sklearn.model_selection import GridSearchCV\n",
        "param={'estimator__alpha': [10**-4, 10**-3, 10**-2, 10**-1, 10**0, 10**1]}\n",
        "classifier = OneVsRestClassifier(SGDClassifier(loss='log', penalty='l1'))\n",
        "gsv = GridSearchCV(estimator = classifier, param_grid=param, cv=3, verbose=0, scoring='f1_micro',n_jobs=-1)\n",
        "gsv.fit(x_train_multilabel, y_train)\n",
        "best_alpha = gsv.best_estimator_.get_params()['estimator__alpha']\n",
        "print('value of alpha after hyperparameter tuning : ',best_alpha)\n",
        "print('-------------------------------------------------------------') "
      ],
      "execution_count": 0,
      "outputs": [
        {
          "output_type": "stream",
          "text": [
            "value of alpha after hyperparameter tuning :  0.0001\n",
            "-------------------------------------------------------------\n"
          ],
          "name": "stdout"
        }
      ]
    },
    {
      "cell_type": "code",
      "metadata": {
        "id": "kZpfyvPfdwZO",
        "colab_type": "code",
        "outputId": "074236ee-b939-41e6-adc8-86ff49da8b56",
        "colab": {
          "base_uri": "https://localhost:8080/",
          "height": 136
        }
      },
      "source": [
        "start = datetime.now()\n",
        "#best_alpha = gsv.best_estimator_.get_params()['estimator__alpha']\n",
        "classifier = OneVsRestClassifier(SGDClassifier(loss='log', alpha=best_alpha, penalty='l1'), n_jobs=-1)\n",
        "classifier.fit(x_train_multilabel, y_train)\n",
        "predictions = classifier.predict (x_test_multilabel)\n",
        "\n",
        "print(\"Accuracy :\",metrics.accuracy_score(y_test, predictions))\n",
        "print(\"Hamming loss \",metrics.hamming_loss(y_test,predictions))\n",
        "\n",
        "precision = precision_score(y_test, predictions, average='micro')\n",
        "recall = recall_score(y_test, predictions, average='micro')\n",
        "f1 = f1_score(y_test, predictions, average='micro')\n",
        " \n",
        "print(\"Micro-average quality numbers\")\n",
        "print(\"Precision: {:.4f}, Recall: {:.4f}, F1-measure: {:.4f}\".format(precision, recall, f1))\n",
        "\n",
        "precision = precision_score(y_test, predictions, average='macro')\n",
        "recall = recall_score(y_test, predictions, average='macro')\n",
        "f1 = f1_score(y_test, predictions, average='macro')\n",
        " \n",
        "print(\"Macro-average quality numbers\")\n",
        "print(\"Precision: {:.4f}, Recall: {:.4f}, F1-measure: {:.4f}\".format(precision, recall, f1))\n",
        "\n",
        "#print (metrics.classification_report(y_test, predictions))\n",
        "print(\"Time taken to run this cell :\", datetime.now() - start)"
      ],
      "execution_count": 0,
      "outputs": [
        {
          "output_type": "stream",
          "text": [
            "Accuracy : 0.1433\n",
            "Hamming loss  0.0038797\n",
            "Micro-average quality numbers\n",
            "Precision: 0.4593, Recall: 0.4123, F1-measure: 0.4345\n",
            "Macro-average quality numbers\n",
            "Precision: 0.3478, Recall: 0.3329, F1-measure: 0.3265\n",
            "Time taken to run this cell : 0:07:46.844164\n"
          ],
          "name": "stdout"
        }
      ]
    },
    {
      "cell_type": "markdown",
      "metadata": {
        "id": "6k5mICVjiLBD",
        "colab_type": "text"
      },
      "source": [
        "**Applying Linear SVM with OneVsRest Classifier on Bag of Words**"
      ]
    },
    {
      "cell_type": "code",
      "metadata": {
        "id": "FtB0zEXhiXLq",
        "colab_type": "code",
        "outputId": "9067dd5e-d132-49ea-a9a7-0a2fc911dc93",
        "colab": {
          "base_uri": "https://localhost:8080/",
          "height": 51
        }
      },
      "source": [
        "param={'estimator__alpha': [10**-4, 10**-3, 10**-2, 10**-1, 10**0, 10**1]}\n",
        "classifier = OneVsRestClassifier(SGDClassifier(loss='hinge', penalty='l1'))\n",
        "gsv = GridSearchCV(estimator = classifier, param_grid=param, cv=3, verbose=0, scoring='f1_micro',n_jobs=-1)\n",
        "gsv.fit(x_train_multilabel, y_train)\n",
        "\n",
        "best_alpha = gsv.best_estimator_.get_params()['estimator__alpha']\n",
        "print('value of alpha after hyperparameter tuning : ',best_alpha)\n",
        "print('-------------------------------------------------------------') "
      ],
      "execution_count": 0,
      "outputs": [
        {
          "output_type": "stream",
          "text": [
            "value of alpha after hyperparameter tuning :  0.0001\n",
            "-------------------------------------------------------------\n"
          ],
          "name": "stdout"
        }
      ]
    },
    {
      "cell_type": "code",
      "metadata": {
        "id": "SLkItsvmib6E",
        "colab_type": "code",
        "outputId": "50d67831-5a47-4b4f-bc2d-a658ff86d9fb",
        "colab": {
          "base_uri": "https://localhost:8080/",
          "height": 136
        }
      },
      "source": [
        "start = datetime.now()\n",
        "#best_alpha = gsv.best_estimator_.get_params()['estimator__alpha']\n",
        "classifier = OneVsRestClassifier(SGDClassifier(loss='hinge', alpha=best_alpha, penalty='l1'), n_jobs=-1)\n",
        "classifier.fit(x_train_multilabel, y_train)\n",
        "predictions = classifier.predict (x_test_multilabel)\n",
        "\n",
        "\n",
        "print(\"Accuracy :\",metrics.accuracy_score(y_test, predictions))\n",
        "print(\"Hamming loss \",metrics.hamming_loss(y_test,predictions))\n",
        "\n",
        "\n",
        "precision = precision_score(y_test, predictions, average='micro')\n",
        "recall = recall_score(y_test, predictions, average='micro')\n",
        "f1 = f1_score(y_test, predictions, average='micro')\n",
        " \n",
        "print(\"Micro-average quality numbers\")\n",
        "print(\"Precision: {:.4f}, Recall: {:.4f}, F1-measure: {:.4f}\".format(precision, recall, f1))\n",
        "\n",
        "precision = precision_score(y_test, predictions, average='macro')\n",
        "recall = recall_score(y_test, predictions, average='macro')\n",
        "f1 = f1_score(y_test, predictions, average='macro')\n",
        " \n",
        "print(\"Macro-average quality numbers\")\n",
        "print(\"Precision: {:.4f}, Recall: {:.4f}, F1-measure: {:.4f}\".format(precision, recall, f1))\n",
        "\n",
        "#print (metrics.classification_report(y_test, predictions))\n",
        "print(\"Time taken to run this cell :\", datetime.now() - start)"
      ],
      "execution_count": 0,
      "outputs": [
        {
          "output_type": "stream",
          "text": [
            "Accuracy : 0.1365\n",
            "Hamming loss  0.0040282\n",
            "Micro-average quality numbers\n",
            "Precision: 0.4381, Recall: 0.4043, F1-measure: 0.4205\n",
            "Macro-average quality numbers\n",
            "Precision: 0.3162, Recall: 0.3260, F1-measure: 0.3112\n",
            "Time taken to run this cell : 0:06:28.549833\n"
          ],
          "name": "stdout"
        }
      ]
    },
    {
      "cell_type": "code",
      "metadata": {
        "id": "H2eFQPUrMBxo",
        "colab_type": "code",
        "outputId": "7e152b9e-db9a-4897-f607-e640b7b85102",
        "colab": {
          "base_uri": "https://localhost:8080/",
          "height": 119
        }
      },
      "source": [
        "from prettytable import PrettyTable\n",
        "x = PrettyTable()\n",
        "x.field_names = [\"Sr.No\",\"MODEL\",\"FEATURIZATION\",\"ALPHA\",'MICRO_F1_SCORE']\n",
        "x.add_row([\"1\", 'OneVsRest+SGD=Logistic Regression', \"Bag-of-words\",0.0001,0.4345]) \n",
        "x.add_row([\"2\", 'OneVsRest+SGD=Linear SVM', \"Bag-of-words\",0.0001,0.4205]) \n",
        "print(x) "
      ],
      "execution_count": 0,
      "outputs": [
        {
          "output_type": "stream",
          "text": [
            "+-------+-----------------------------------+---------------+--------+----------------+\n",
            "| Sr.No |               MODEL               | FEATURIZATION | ALPHA  | MICRO_F1_SCORE |\n",
            "+-------+-----------------------------------+---------------+--------+----------------+\n",
            "|   1   | OneVsRest+SGD=Logistic Regression |  Bag-of-words | 0.0001 |     0.4345     |\n",
            "|   2   |      OneVsRest+SGD=Linear SVM     |  Bag-of-words | 0.0001 |     0.4205     |\n",
            "+-------+-----------------------------------+---------------+--------+----------------+\n"
          ],
          "name": "stdout"
        }
      ]
    }
  ]
}