{
  "nbformat": 4,
  "nbformat_minor": 0,
  "metadata": {
    "colab": {
      "name": "Human Activity Recognition.ipynb",
      "provenance": [],
      "collapsed_sections": []
    },
    "kernelspec": {
      "name": "python3",
      "display_name": "Python 3"
    },
    "accelerator": "GPU"
  },
  "cells": [
    {
      "cell_type": "code",
      "metadata": {
        "id": "LYmcJ3nRXbL4",
        "colab_type": "code",
        "colab": {
          "base_uri": "https://localhost:8080/",
          "height": 530
        },
        "outputId": "5fb972ee-db41-4b68-8cb8-5652f70408aa"
      },
      "source": [
        "pip install -U keras-tuner"
      ],
      "execution_count": 1,
      "outputs": [
        {
          "output_type": "stream",
          "text": [
            "Collecting keras-tuner\n",
            "\u001b[?25l  Downloading https://files.pythonhosted.org/packages/a7/f7/4b41b6832abf4c9bef71a664dc563adb25afc5812831667c6db572b1a261/keras-tuner-1.0.1.tar.gz (54kB)\n",
            "\r\u001b[K     |██████                          | 10kB 23.4MB/s eta 0:00:01\r\u001b[K     |████████████                    | 20kB 4.1MB/s eta 0:00:01\r\u001b[K     |██████████████████              | 30kB 5.3MB/s eta 0:00:01\r\u001b[K     |████████████████████████        | 40kB 5.5MB/s eta 0:00:01\r\u001b[K     |██████████████████████████████  | 51kB 4.7MB/s eta 0:00:01\r\u001b[K     |████████████████████████████████| 61kB 3.5MB/s \n",
            "\u001b[?25hRequirement already satisfied, skipping upgrade: future in /usr/local/lib/python3.6/dist-packages (from keras-tuner) (0.16.0)\n",
            "Requirement already satisfied, skipping upgrade: numpy in /usr/local/lib/python3.6/dist-packages (from keras-tuner) (1.18.2)\n",
            "Requirement already satisfied, skipping upgrade: tabulate in /usr/local/lib/python3.6/dist-packages (from keras-tuner) (0.8.7)\n",
            "Collecting terminaltables\n",
            "  Downloading https://files.pythonhosted.org/packages/9b/c4/4a21174f32f8a7e1104798c445dacdc1d4df86f2f26722767034e4de4bff/terminaltables-3.1.0.tar.gz\n",
            "Collecting colorama\n",
            "  Downloading https://files.pythonhosted.org/packages/c9/dc/45cdef1b4d119eb96316b3117e6d5708a08029992b2fee2c143c7a0a5cc5/colorama-0.4.3-py2.py3-none-any.whl\n",
            "Requirement already satisfied, skipping upgrade: tqdm in /usr/local/lib/python3.6/dist-packages (from keras-tuner) (4.38.0)\n",
            "Requirement already satisfied, skipping upgrade: requests in /usr/local/lib/python3.6/dist-packages (from keras-tuner) (2.21.0)\n",
            "Requirement already satisfied, skipping upgrade: scipy in /usr/local/lib/python3.6/dist-packages (from keras-tuner) (1.4.1)\n",
            "Requirement already satisfied, skipping upgrade: scikit-learn in /usr/local/lib/python3.6/dist-packages (from keras-tuner) (0.22.2.post1)\n",
            "Requirement already satisfied, skipping upgrade: chardet<3.1.0,>=3.0.2 in /usr/local/lib/python3.6/dist-packages (from requests->keras-tuner) (3.0.4)\n",
            "Requirement already satisfied, skipping upgrade: certifi>=2017.4.17 in /usr/local/lib/python3.6/dist-packages (from requests->keras-tuner) (2020.4.5.1)\n",
            "Requirement already satisfied, skipping upgrade: idna<2.9,>=2.5 in /usr/local/lib/python3.6/dist-packages (from requests->keras-tuner) (2.8)\n",
            "Requirement already satisfied, skipping upgrade: urllib3<1.25,>=1.21.1 in /usr/local/lib/python3.6/dist-packages (from requests->keras-tuner) (1.24.3)\n",
            "Requirement already satisfied, skipping upgrade: joblib>=0.11 in /usr/local/lib/python3.6/dist-packages (from scikit-learn->keras-tuner) (0.14.1)\n",
            "Building wheels for collected packages: keras-tuner, terminaltables\n",
            "  Building wheel for keras-tuner (setup.py) ... \u001b[?25l\u001b[?25hdone\n",
            "  Created wheel for keras-tuner: filename=keras_tuner-1.0.1-cp36-none-any.whl size=73200 sha256=395d213972c517ee2516f9480d3d03344b8543957dc8e941afb8d63854c3f4e3\n",
            "  Stored in directory: /root/.cache/pip/wheels/b9/cc/62/52716b70dd90f3db12519233c3a93a5360bc672da1a10ded43\n",
            "  Building wheel for terminaltables (setup.py) ... \u001b[?25l\u001b[?25hdone\n",
            "  Created wheel for terminaltables: filename=terminaltables-3.1.0-cp36-none-any.whl size=15356 sha256=450c5e3d9d2a0caef46beea52a689c89a4e79b10e2a5526f511ecae2d38b5490\n",
            "  Stored in directory: /root/.cache/pip/wheels/30/6b/50/6c75775b681fb36cdfac7f19799888ef9d8813aff9e379663e\n",
            "Successfully built keras-tuner terminaltables\n",
            "Installing collected packages: terminaltables, colorama, keras-tuner\n",
            "Successfully installed colorama-0.4.3 keras-tuner-1.0.1 terminaltables-3.1.0\n"
          ],
          "name": "stdout"
        }
      ]
    },
    {
      "cell_type": "code",
      "metadata": {
        "id": "Mtg3GdDP48QO",
        "colab_type": "code",
        "outputId": "f841c802-fed9-41d2-8142-c5e93923bc98",
        "colab": {
          "base_uri": "https://localhost:8080/",
          "height": 88
        }
      },
      "source": [
        "import tensorflow as tf\n",
        "from tensorflow import keras\n",
        "import numpy as np\n",
        "import pandas as pd\n",
        "from tensorflow.keras import Sequential\n",
        "from tensorflow.keras.layers import Flatten, Dense, Dropout,BatchNormalization,LSTM,Conv1D,MaxPooling1D\n",
        "from kerastuner import RandomSearch \n",
        "from kerastuner.engine.hyperparameters import HyperParameters\n",
        "import time\n",
        "from tensorflow.keras.layers import Flatten\n",
        "import matplotlib.pyplot as plt\n",
        "import seaborn as sns\n",
        "import pickle\n",
        "from sklearn.preprocessing import StandardScaler\n",
        "from keras import regularizers, optimizers"
      ],
      "execution_count": 2,
      "outputs": [
        {
          "output_type": "stream",
          "text": [
            "/usr/local/lib/python3.6/dist-packages/statsmodels/tools/_testing.py:19: FutureWarning: pandas.util.testing is deprecated. Use the functions in the public API at pandas.testing instead.\n",
            "  import pandas.util.testing as tm\n",
            "Using TensorFlow backend.\n"
          ],
          "name": "stderr"
        }
      ]
    },
    {
      "cell_type": "code",
      "metadata": {
        "id": "2IP2SCgjAC10",
        "colab_type": "code",
        "colab": {}
      },
      "source": [
        "# Importing tensorflow\n",
        "np.random.seed(42)\n",
        "import tensorflow as tf\n",
        "tf.random.set_seed(42)"
      ],
      "execution_count": 0,
      "outputs": []
    },
    {
      "cell_type": "code",
      "metadata": {
        "id": "DnwGWlE-Hi8E",
        "colab_type": "code",
        "outputId": "a55abfa7-aed6-44a7-8709-3ec4b9b1e0a4",
        "colab": {
          "base_uri": "https://localhost:8080/",
          "height": 34
        }
      },
      "source": [
        "print(tf.__version__)"
      ],
      "execution_count": 4,
      "outputs": [
        {
          "output_type": "stream",
          "text": [
            "2.2.0-rc3\n"
          ],
          "name": "stdout"
        }
      ]
    },
    {
      "cell_type": "markdown",
      "metadata": {
        "id": "Bn0686DyKciL",
        "colab_type": "text"
      },
      "source": [
        "**Load Data**"
      ]
    },
    {
      "cell_type": "code",
      "metadata": {
        "id": "ZqjZ6iDsOTMM",
        "colab_type": "code",
        "outputId": "4b1b5d11-a386-4a41-d0d2-7e802cb4904c",
        "colab": {
          "base_uri": "https://localhost:8080/",
          "height": 34
        }
      },
      "source": [
        "cd /content/drive/My Drive/HumanActivityRecognition.zip (Unzipped Files)"
      ],
      "execution_count": 5,
      "outputs": [
        {
          "output_type": "stream",
          "text": [
            "/content/drive/My Drive/HumanActivityRecognition.zip (Unzipped Files)\n"
          ],
          "name": "stdout"
        }
      ]
    },
    {
      "cell_type": "code",
      "metadata": {
        "id": "z-TC6Z0CKfGw",
        "colab_type": "code",
        "colab": {}
      },
      "source": [
        "# Data directory\n",
        "DATADIR = 'UCI_HAR_Dataset'"
      ],
      "execution_count": 0,
      "outputs": []
    },
    {
      "cell_type": "code",
      "metadata": {
        "id": "qh17eTDrVm3b",
        "colab_type": "code",
        "colab": {}
      },
      "source": [
        "def data():\n",
        "    ''' This function is to load the data'''\n",
        "    SIGNALS = [\"body_acc_x\",\"body_acc_y\",\"body_acc_z\",\"body_gyro_x\",\"body_gyro_y\",\"body_gyro_z\",\"total_acc_x\",\"total_acc_y\",\"total_acc_z\"]\n",
        "    signals_data = []\n",
        "    for signal in SIGNALS:\n",
        "        filename = f'/content/drive/My Drive/HumanActivityRecognition.zip (Unzipped Files)/HAR/UCI_HAR_Dataset/train/Inertial Signals/{signal}_train.txt'\n",
        "        signals_data.append(pd.read_csv(filename, delim_whitespace=True, header=None).values) \n",
        "    X_train = np.transpose(signals_data, (1, 2, 0)) \n",
        "    \n",
        "    signals_data = []\n",
        "    for signal in SIGNALS:\n",
        "        filename = f'/content/drive/My Drive/HumanActivityRecognition.zip (Unzipped Files)/HAR/UCI_HAR_Dataset/test/Inertial Signals/{signal}_test.txt'\n",
        "        signals_data.append(\n",
        "            pd.read_csv(filename, delim_whitespace=True, header=None).values ) \n",
        "    X_test = np.transpose(signals_data, (1, 2, 0))\n",
        "    \n",
        "    filename = f'/content/drive/My Drive/HumanActivityRecognition.zip (Unzipped Files)/HAR/UCI_HAR_Dataset/train/y_train.txt'\n",
        "    y = pd.read_csv(filename, delim_whitespace=True, header=None)[0]\n",
        "    Y_train = pd.get_dummies(y).values\n",
        "    \n",
        "    filename = f'/content/drive/My Drive/HumanActivityRecognition.zip (Unzipped Files)/HAR/UCI_HAR_Dataset/test/y_test.txt'\n",
        "    y = pd.read_csv(filename, delim_whitespace=True, header=None)[0]\n",
        "    Y_test = pd.get_dummies(y).values \n",
        "    \n",
        "    return X_train , Y_train , X_test , Y_test"
      ],
      "execution_count": 0,
      "outputs": []
    },
    {
      "cell_type": "code",
      "metadata": {
        "id": "Ze3PUYhIWU52",
        "colab_type": "code",
        "colab": {}
      },
      "source": [
        "# Loading the train and test data\n",
        "X_train_full, Y_train_full,X_test_full, Y_test_full = data()"
      ],
      "execution_count": 0,
      "outputs": []
    },
    {
      "cell_type": "code",
      "metadata": {
        "id": "PSosvUThX50s",
        "colab_type": "code",
        "outputId": "e6205408-0900-4ad1-f6af-b0d069fa7597",
        "colab": {
          "base_uri": "https://localhost:8080/",
          "height": 68
        }
      },
      "source": [
        "timesteps = len(X_train_full[0])\n",
        "input_dim = len(X_train_full[0][0])\n",
        "n_classes = 6\n",
        "\n",
        "print(timesteps)\n",
        "print(input_dim)\n",
        "print(len(X_train_full))"
      ],
      "execution_count": 9,
      "outputs": [
        {
          "output_type": "stream",
          "text": [
            "128\n",
            "9\n",
            "7352\n"
          ],
          "name": "stdout"
        }
      ]
    },
    {
      "cell_type": "code",
      "metadata": {
        "id": "_6iZsPmMYXJC",
        "colab_type": "code",
        "outputId": "6d4b1170-acf5-46a4-ead7-f83371cf7614",
        "colab": {
          "base_uri": "https://localhost:8080/",
          "height": 54
        }
      },
      "source": [
        "'''def best_hyperparameters(hp):\n",
        "  model = Sequential()\n",
        "\n",
        "  model.add(LSTM(units=hp.Int('units',min_value=95,max_value=130,step=5),input_shape=(timesteps, input_dim),return_sequences=True)) \n",
        "  \n",
        "  model.add(BatchNormalization()) \n",
        "\n",
        "  model.add(Dropout(0.7)) \n",
        "\n",
        "  model.add(LSTM(50))\n",
        "  \n",
        "  model.add(Dropout(0.70))\n",
        "  #model.add(BatchNormalization()) \n",
        "\n",
        "  # model.add(Dropout(hp.Float('dropout',min_value=0.1,max_value=0.9,step=0.1))) \n",
        "\n",
        "  model.add(Flatten())\n",
        "  \n",
        "  model.add(Dense(n_classes, activation='sigmoid'))\n",
        "\n",
        "  model.compile(optimizer=keras.optimizers.Adam(hp.Choice('learning_rate', values=[1e-1,1e-2,1e-3,1e-4,1e-5])),loss='categorical_crossentropy',metrics=['accuracy']) \n",
        "\n",
        "  return model'''"
      ],
      "execution_count": 0,
      "outputs": [
        {
          "output_type": "execute_result",
          "data": {
            "text/plain": [
              "\"def best_hyperparameters(hp):\\n  model = Sequential()\\n\\n  model.add(LSTM(units=hp.Int('units',min_value=95,max_value=130,step=5),input_shape=(timesteps, input_dim),return_sequences=True)) \\n  \\n  model.add(BatchNormalization()) \\n\\n  model.add(Dropout(0.7)) \\n\\n  model.add(LSTM(50))\\n  \\n  model.add(Dropout(0.70))\\n  #model.add(BatchNormalization()) \\n\\n  # model.add(Dropout(hp.Float('dropout',min_value=0.1,max_value=0.9,step=0.1))) \\n\\n  model.add(Flatten())\\n  \\n  model.add(Dense(n_classes, activation='sigmoid'))\\n\\n  model.compile(optimizer=keras.optimizers.Adam(hp.Choice('learning_rate', values=[1e-1,1e-2,1e-3,1e-4,1e-5])),loss='categorical_crossentropy',metrics=['accuracy']) \\n\\n  return model\""
            ]
          },
          "metadata": {
            "tags": []
          },
          "execution_count": 10
        }
      ]
    },
    {
      "cell_type": "code",
      "metadata": {
        "colab_type": "code",
        "id": "aUo0xDRT9XDw",
        "colab": {}
      },
      "source": [
        "# tuner_search=RandomSearch(best_hyperparameters,objective='val_accuracy',max_trials=5,directory='out_put',project_name=\"Human activity\")  "
      ],
      "execution_count": 0,
      "outputs": []
    },
    {
      "cell_type": "code",
      "metadata": {
        "id": "9AMx8mQK9ntP",
        "colab_type": "code",
        "colab": {}
      },
      "source": [
        "# tuner_search.search(X_train,Y_train,epochs=15,batch_size =32,validation_split=0.2)  "
      ],
      "execution_count": 0,
      "outputs": []
    },
    {
      "cell_type": "code",
      "metadata": {
        "id": "OAcSGElDj26s",
        "colab_type": "code",
        "outputId": "318912ea-41cf-43c2-8cf1-b5664e5012bc",
        "colab": {
          "base_uri": "https://localhost:8080/",
          "height": 374
        }
      },
      "source": [
        "from keras.regularizers import L1L2\n",
        "reg = L1L2(0.01, 0.01)\n",
        "model = Sequential()\n",
        "model.add(LSTM(100, input_shape=(timesteps, input_dim), kernel_initializer='glorot_normal' , return_sequences=True, bias_regularizer=reg))\n",
        "model.add(BatchNormalization())\n",
        "model.add(Dropout(0.70))\n",
        "model.add(LSTM(50))\n",
        "model.add(Dropout(0.70))\n",
        "model.add(Dense(n_classes, activation='sigmoid'))\n",
        "print(\"Model Summary: \")\n",
        "model.summary()"
      ],
      "execution_count": 0,
      "outputs": [
        {
          "output_type": "stream",
          "text": [
            "Model Summary: \n",
            "Model: \"sequential\"\n",
            "_________________________________________________________________\n",
            "Layer (type)                 Output Shape              Param #   \n",
            "=================================================================\n",
            "lstm (LSTM)                  (None, 128, 100)          44000     \n",
            "_________________________________________________________________\n",
            "batch_normalization (BatchNo (None, 128, 100)          400       \n",
            "_________________________________________________________________\n",
            "dropout (Dropout)            (None, 128, 100)          0         \n",
            "_________________________________________________________________\n",
            "lstm_1 (LSTM)                (None, 50)                30200     \n",
            "_________________________________________________________________\n",
            "dropout_1 (Dropout)          (None, 50)                0         \n",
            "_________________________________________________________________\n",
            "dense (Dense)                (None, 6)                 306       \n",
            "=================================================================\n",
            "Total params: 74,906\n",
            "Trainable params: 74,706\n",
            "Non-trainable params: 200\n",
            "_________________________________________________________________\n"
          ],
          "name": "stdout"
        }
      ]
    },
    {
      "cell_type": "code",
      "metadata": {
        "id": "kYKIoDPNkoQB",
        "colab_type": "code",
        "colab": {}
      },
      "source": [
        "# Compiling the model\n",
        "model.compile(loss='binary_crossentropy',optimizer='rmsprop',metrics=['accuracy'])"
      ],
      "execution_count": 0,
      "outputs": []
    },
    {
      "cell_type": "code",
      "metadata": {
        "id": "2ck0JjdokxyT",
        "colab_type": "code",
        "outputId": "d8037a37-d336-4ee1-b492-4db6808c9662",
        "colab": {
          "base_uri": "https://localhost:8080/",
          "height": 1000
        }
      },
      "source": [
        "# Training the model\n",
        "model.fit(X_train_full,Y_train_full,batch_size=16,validation_data=(X_test_full, Y_test_full),epochs=50,verbose=1)"
      ],
      "execution_count": 0,
      "outputs": [
        {
          "output_type": "stream",
          "text": [
            "Epoch 1/50\n",
            "460/460 [==============================] - 32s 69ms/step - loss: 1.7053 - accuracy: 0.5660 - val_loss: 1.0362 - val_accuracy: 0.7004\n",
            "Epoch 2/50\n",
            "460/460 [==============================] - 31s 67ms/step - loss: 0.6516 - accuracy: 0.7482 - val_loss: 0.2428 - val_accuracy: 0.8734\n",
            "Epoch 3/50\n",
            "460/460 [==============================] - 31s 67ms/step - loss: 0.1678 - accuracy: 0.8796 - val_loss: 0.0876 - val_accuracy: 0.8989\n",
            "Epoch 4/50\n",
            "460/460 [==============================] - 31s 67ms/step - loss: 0.1177 - accuracy: 0.9189 - val_loss: 0.1405 - val_accuracy: 0.8643\n",
            "Epoch 5/50\n",
            "460/460 [==============================] - 31s 67ms/step - loss: 0.1071 - accuracy: 0.9242 - val_loss: 0.0993 - val_accuracy: 0.8985\n",
            "Epoch 6/50\n",
            "460/460 [==============================] - 31s 67ms/step - loss: 0.0943 - accuracy: 0.9327 - val_loss: 0.0793 - val_accuracy: 0.9155\n",
            "Epoch 7/50\n",
            "460/460 [==============================] - 31s 68ms/step - loss: 0.0914 - accuracy: 0.9312 - val_loss: 0.1342 - val_accuracy: 0.8897\n",
            "Epoch 8/50\n",
            "460/460 [==============================] - 31s 67ms/step - loss: 0.0846 - accuracy: 0.9365 - val_loss: 0.0978 - val_accuracy: 0.9067\n",
            "Epoch 9/50\n",
            "460/460 [==============================] - 31s 67ms/step - loss: 0.0782 - accuracy: 0.9388 - val_loss: 0.1317 - val_accuracy: 0.8955\n",
            "Epoch 10/50\n",
            "460/460 [==============================] - 31s 67ms/step - loss: 0.0808 - accuracy: 0.9377 - val_loss: 0.0812 - val_accuracy: 0.9158\n",
            "Epoch 11/50\n",
            "460/460 [==============================] - 31s 67ms/step - loss: 0.0746 - accuracy: 0.9378 - val_loss: 0.0920 - val_accuracy: 0.9216\n",
            "Epoch 12/50\n",
            "460/460 [==============================] - 31s 67ms/step - loss: 0.0745 - accuracy: 0.9423 - val_loss: 0.1266 - val_accuracy: 0.8999\n",
            "Epoch 13/50\n",
            "460/460 [==============================] - 31s 67ms/step - loss: 0.0721 - accuracy: 0.9400 - val_loss: 0.0892 - val_accuracy: 0.9145\n",
            "Epoch 14/50\n",
            "460/460 [==============================] - 31s 67ms/step - loss: 0.0691 - accuracy: 0.9433 - val_loss: 0.1345 - val_accuracy: 0.9070\n",
            "Epoch 15/50\n",
            "460/460 [==============================] - 31s 67ms/step - loss: 0.0698 - accuracy: 0.9448 - val_loss: 0.1304 - val_accuracy: 0.9114\n",
            "Epoch 16/50\n",
            "460/460 [==============================] - 31s 67ms/step - loss: 0.0714 - accuracy: 0.9430 - val_loss: 0.1673 - val_accuracy: 0.8860\n",
            "Epoch 17/50\n",
            "460/460 [==============================] - 31s 67ms/step - loss: 0.0695 - accuracy: 0.9438 - val_loss: 0.1283 - val_accuracy: 0.9006\n",
            "Epoch 18/50\n",
            "460/460 [==============================] - 31s 67ms/step - loss: 0.0691 - accuracy: 0.9426 - val_loss: 0.1198 - val_accuracy: 0.9101\n",
            "Epoch 19/50\n",
            "460/460 [==============================] - 31s 67ms/step - loss: 0.0677 - accuracy: 0.9412 - val_loss: 0.1241 - val_accuracy: 0.9233\n",
            "Epoch 20/50\n",
            "460/460 [==============================] - 31s 67ms/step - loss: 0.0702 - accuracy: 0.9422 - val_loss: 0.1030 - val_accuracy: 0.9162\n",
            "Epoch 21/50\n",
            "460/460 [==============================] - 31s 67ms/step - loss: 0.0667 - accuracy: 0.9444 - val_loss: 0.0875 - val_accuracy: 0.9240\n",
            "Epoch 22/50\n",
            "460/460 [==============================] - 31s 68ms/step - loss: 0.0694 - accuracy: 0.9479 - val_loss: 0.1100 - val_accuracy: 0.9108\n",
            "Epoch 23/50\n",
            "460/460 [==============================] - 31s 67ms/step - loss: 0.0667 - accuracy: 0.9453 - val_loss: 0.1173 - val_accuracy: 0.9121\n",
            "Epoch 24/50\n",
            "460/460 [==============================] - 31s 67ms/step - loss: 0.0671 - accuracy: 0.9453 - val_loss: 0.1362 - val_accuracy: 0.9192\n",
            "Epoch 25/50\n",
            "460/460 [==============================] - 31s 67ms/step - loss: 0.0644 - accuracy: 0.9449 - val_loss: 0.1236 - val_accuracy: 0.9131\n",
            "Epoch 26/50\n",
            "460/460 [==============================] - 31s 67ms/step - loss: 0.0707 - accuracy: 0.9427 - val_loss: 0.1104 - val_accuracy: 0.9240\n",
            "Epoch 27/50\n",
            "460/460 [==============================] - 31s 67ms/step - loss: 0.0654 - accuracy: 0.9455 - val_loss: 0.1410 - val_accuracy: 0.9084\n",
            "Epoch 28/50\n",
            "460/460 [==============================] - 31s 67ms/step - loss: 0.0671 - accuracy: 0.9450 - val_loss: 0.1181 - val_accuracy: 0.9206\n",
            "Epoch 29/50\n",
            "460/460 [==============================] - 31s 67ms/step - loss: 0.0688 - accuracy: 0.9450 - val_loss: 0.1315 - val_accuracy: 0.9155\n",
            "Epoch 30/50\n",
            "460/460 [==============================] - 31s 67ms/step - loss: 0.0635 - accuracy: 0.9487 - val_loss: 0.0923 - val_accuracy: 0.9223\n",
            "Epoch 31/50\n",
            "460/460 [==============================] - 31s 67ms/step - loss: 0.0627 - accuracy: 0.9495 - val_loss: 0.0994 - val_accuracy: 0.9186\n",
            "Epoch 32/50\n",
            "460/460 [==============================] - 31s 67ms/step - loss: 0.0642 - accuracy: 0.9474 - val_loss: 0.1225 - val_accuracy: 0.9148\n",
            "Epoch 33/50\n",
            "460/460 [==============================] - 31s 67ms/step - loss: 0.0682 - accuracy: 0.9453 - val_loss: 0.0932 - val_accuracy: 0.9209\n",
            "Epoch 34/50\n",
            "460/460 [==============================] - 31s 67ms/step - loss: 0.0638 - accuracy: 0.9475 - val_loss: 0.1241 - val_accuracy: 0.9169\n",
            "Epoch 35/50\n",
            "460/460 [==============================] - 31s 67ms/step - loss: 0.0619 - accuracy: 0.9509 - val_loss: 0.1454 - val_accuracy: 0.9158\n",
            "Epoch 36/50\n",
            "460/460 [==============================] - 31s 67ms/step - loss: 0.0685 - accuracy: 0.9475 - val_loss: 0.1177 - val_accuracy: 0.9182\n",
            "Epoch 37/50\n",
            "460/460 [==============================] - 31s 67ms/step - loss: 0.0655 - accuracy: 0.9470 - val_loss: 0.1473 - val_accuracy: 0.9196\n",
            "Epoch 38/50\n",
            "460/460 [==============================] - 31s 67ms/step - loss: 0.0688 - accuracy: 0.9476 - val_loss: 0.1026 - val_accuracy: 0.9186\n",
            "Epoch 39/50\n",
            "460/460 [==============================] - 31s 67ms/step - loss: 0.0630 - accuracy: 0.9512 - val_loss: 0.1233 - val_accuracy: 0.9284\n",
            "Epoch 40/50\n",
            "460/460 [==============================] - 31s 67ms/step - loss: 0.0599 - accuracy: 0.9524 - val_loss: 0.1423 - val_accuracy: 0.9182\n",
            "Epoch 41/50\n",
            "460/460 [==============================] - 31s 67ms/step - loss: 0.0639 - accuracy: 0.9455 - val_loss: 0.1243 - val_accuracy: 0.9175\n",
            "Epoch 42/50\n",
            "460/460 [==============================] - 31s 67ms/step - loss: 0.0646 - accuracy: 0.9494 - val_loss: 0.1305 - val_accuracy: 0.9138\n",
            "Epoch 43/50\n",
            "460/460 [==============================] - 31s 67ms/step - loss: 0.0654 - accuracy: 0.9509 - val_loss: 0.1227 - val_accuracy: 0.9298\n",
            "Epoch 44/50\n",
            "460/460 [==============================] - 31s 67ms/step - loss: 0.0625 - accuracy: 0.9460 - val_loss: 0.1305 - val_accuracy: 0.9192\n",
            "Epoch 45/50\n",
            "460/460 [==============================] - 31s 67ms/step - loss: 0.0623 - accuracy: 0.9523 - val_loss: 0.1199 - val_accuracy: 0.9240\n",
            "Epoch 46/50\n",
            "460/460 [==============================] - 31s 67ms/step - loss: 0.0615 - accuracy: 0.9482 - val_loss: 0.1428 - val_accuracy: 0.9104\n",
            "Epoch 47/50\n",
            "460/460 [==============================] - 31s 67ms/step - loss: 0.0644 - accuracy: 0.9510 - val_loss: 0.1200 - val_accuracy: 0.9206\n",
            "Epoch 48/50\n",
            "460/460 [==============================] - 31s 67ms/step - loss: 0.0611 - accuracy: 0.9497 - val_loss: 0.1490 - val_accuracy: 0.9158\n",
            "Epoch 49/50\n",
            "460/460 [==============================] - 31s 67ms/step - loss: 0.0609 - accuracy: 0.9498 - val_loss: 0.1452 - val_accuracy: 0.9148\n",
            "Epoch 50/50\n",
            "460/460 [==============================] - 31s 67ms/step - loss: 0.0615 - accuracy: 0.9489 - val_loss: 0.1342 - val_accuracy: 0.9175\n"
          ],
          "name": "stdout"
        },
        {
          "output_type": "execute_result",
          "data": {
            "text/plain": [
              "<tensorflow.python.keras.callbacks.History at 0x7efc9a5eda20>"
            ]
          },
          "metadata": {
            "tags": []
          },
          "execution_count": 15
        }
      ]
    },
    {
      "cell_type": "code",
      "metadata": {
        "id": "b5NhsgKXnn_R",
        "colab_type": "code",
        "outputId": "579bab50-59c7-4fe3-90eb-e80d560c77a0",
        "colab": {
          "base_uri": "https://localhost:8080/",
          "height": 68
        }
      },
      "source": [
        "print()\n",
        "scores = model.evaluate(X_test_full, Y_test_full, verbose=0)\n",
        "print(\"Test Accuracy: %f%%\" % (scores[1]*100))\n",
        "print()"
      ],
      "execution_count": 0,
      "outputs": [
        {
          "output_type": "stream",
          "text": [
            "\n",
            "Test Accuracy: 91.754329%\n",
            "\n"
          ],
          "name": "stdout"
        }
      ]
    },
    {
      "cell_type": "code",
      "metadata": {
        "id": "fbE6JqVlmhGA",
        "colab_type": "code",
        "colab": {}
      },
      "source": [
        "def plot_confusion_matrix_lstm(y_test, y_predict):\n",
        "    result = confusion_matrix(y_test, y_predict)\n",
        "\n",
        "    plt.figure(figsize=(12, 10))\n",
        "    sns.heatmap(result, \n",
        "                xticklabels= list(ACTIVITIES.values()), \n",
        "                yticklabels=list(ACTIVITIES.values()), \n",
        "                annot=True, fmt=\"d\");\n",
        "    plt.title(\"Confusion matrix\")\n",
        "    plt.ylabel('True label')\n",
        "    plt.xlabel('Predicted label')\n",
        "    plt.show() "
      ],
      "execution_count": 0,
      "outputs": []
    },
    {
      "cell_type": "code",
      "metadata": {
        "colab_type": "code",
        "outputId": "131c25e1-5ea2-4cc3-b648-92ae3379c819",
        "id": "JPyqT4CVlkPG",
        "colab": {
          "base_uri": "https://localhost:8080/",
          "height": 266
        }
      },
      "source": [
        "# Activities are the class labels\n",
        "# It is a 6 class classification\n",
        "ACTIVITIES = {0: 'WALKING',1: 'WALKING_UPSTAIRS',2: 'WALKING_DOWNSTAIRS',3: 'SITTING',4: 'STANDING',5: 'LAYING'}\n",
        "\n",
        "# Utility function to print the confusion matrix\n",
        "def confusion_matrix(Y_true, Y_pred):\n",
        "    Y_true = pd.Series([ACTIVITIES[y] for y in np.argmax(Y_true, axis=1)])\n",
        "    Y_pred = pd.Series([ACTIVITIES[y] for y in np.argmax(Y_pred, axis=1)])\n",
        "\n",
        "    return pd.crosstab(Y_true, Y_pred, rownames=['True'], colnames=['Pred'])\n",
        "# Confusion Matrix\n",
        "confusion_matrix(Y_test_full, model.predict(X_test_full)) "
      ],
      "execution_count": 0,
      "outputs": [
        {
          "output_type": "execute_result",
          "data": {
            "text/html": [
              "<div>\n",
              "<style scoped>\n",
              "    .dataframe tbody tr th:only-of-type {\n",
              "        vertical-align: middle;\n",
              "    }\n",
              "\n",
              "    .dataframe tbody tr th {\n",
              "        vertical-align: top;\n",
              "    }\n",
              "\n",
              "    .dataframe thead th {\n",
              "        text-align: right;\n",
              "    }\n",
              "</style>\n",
              "<table border=\"1\" class=\"dataframe\">\n",
              "  <thead>\n",
              "    <tr style=\"text-align: right;\">\n",
              "      <th>Pred</th>\n",
              "      <th>LAYING</th>\n",
              "      <th>SITTING</th>\n",
              "      <th>STANDING</th>\n",
              "      <th>WALKING</th>\n",
              "      <th>WALKING_DOWNSTAIRS</th>\n",
              "      <th>WALKING_UPSTAIRS</th>\n",
              "    </tr>\n",
              "    <tr>\n",
              "      <th>True</th>\n",
              "      <th></th>\n",
              "      <th></th>\n",
              "      <th></th>\n",
              "      <th></th>\n",
              "      <th></th>\n",
              "      <th></th>\n",
              "    </tr>\n",
              "  </thead>\n",
              "  <tbody>\n",
              "    <tr>\n",
              "      <th>LAYING</th>\n",
              "      <td>537</td>\n",
              "      <td>0</td>\n",
              "      <td>0</td>\n",
              "      <td>0</td>\n",
              "      <td>0</td>\n",
              "      <td>0</td>\n",
              "    </tr>\n",
              "    <tr>\n",
              "      <th>SITTING</th>\n",
              "      <td>0</td>\n",
              "      <td>382</td>\n",
              "      <td>107</td>\n",
              "      <td>0</td>\n",
              "      <td>0</td>\n",
              "      <td>2</td>\n",
              "    </tr>\n",
              "    <tr>\n",
              "      <th>STANDING</th>\n",
              "      <td>0</td>\n",
              "      <td>85</td>\n",
              "      <td>447</td>\n",
              "      <td>0</td>\n",
              "      <td>0</td>\n",
              "      <td>0</td>\n",
              "    </tr>\n",
              "    <tr>\n",
              "      <th>WALKING</th>\n",
              "      <td>0</td>\n",
              "      <td>0</td>\n",
              "      <td>1</td>\n",
              "      <td>464</td>\n",
              "      <td>28</td>\n",
              "      <td>3</td>\n",
              "    </tr>\n",
              "    <tr>\n",
              "      <th>WALKING_DOWNSTAIRS</th>\n",
              "      <td>0</td>\n",
              "      <td>0</td>\n",
              "      <td>0</td>\n",
              "      <td>0</td>\n",
              "      <td>415</td>\n",
              "      <td>5</td>\n",
              "    </tr>\n",
              "    <tr>\n",
              "      <th>WALKING_UPSTAIRS</th>\n",
              "      <td>0</td>\n",
              "      <td>3</td>\n",
              "      <td>0</td>\n",
              "      <td>1</td>\n",
              "      <td>8</td>\n",
              "      <td>459</td>\n",
              "    </tr>\n",
              "  </tbody>\n",
              "</table>\n",
              "</div>"
            ],
            "text/plain": [
              "Pred                LAYING  SITTING  ...  WALKING_DOWNSTAIRS  WALKING_UPSTAIRS\n",
              "True                                 ...                                      \n",
              "LAYING                 537        0  ...                   0                 0\n",
              "SITTING                  0      382  ...                   0                 2\n",
              "STANDING                 0       85  ...                   0                 0\n",
              "WALKING                  0        0  ...                  28                 3\n",
              "WALKING_DOWNSTAIRS       0        0  ...                 415                 5\n",
              "WALKING_UPSTAIRS         0        3  ...                   8               459\n",
              "\n",
              "[6 rows x 6 columns]"
            ]
          },
          "metadata": {
            "tags": []
          },
          "execution_count": 18
        }
      ]
    },
    {
      "cell_type": "markdown",
      "metadata": {
        "id": "Cts5HoYlYgGf",
        "colab_type": "text"
      },
      "source": [
        "**Divide and Conquer**"
      ]
    },
    {
      "cell_type": "code",
      "metadata": {
        "id": "6dLMSDyPXiK2",
        "colab_type": "code",
        "colab": {}
      },
      "source": [
        "def data_train():\n",
        "    ''' This function is to load the data'''\n",
        "    SIGNALS = [\"body_acc_x\",\"body_acc_y\",\"body_acc_z\",\"body_gyro_x\",\"body_gyro_y\",\"body_gyro_z\",\"total_acc_x\",\"total_acc_y\",\"total_acc_z\"]\n",
        "    signals_data = []\n",
        "    for signal in SIGNALS:\n",
        "        filename = f'/content/drive/My Drive/HumanActivityRecognition.zip (Unzipped Files)/HAR/UCI_HAR_Dataset/train/Inertial Signals/{signal}_train.txt'\n",
        "        signals_data.append(pd.read_csv(filename, delim_whitespace=True, header=None).values) \n",
        "    X_train = np.transpose(signals_data, (1, 2, 0)) \n",
        "    \n",
        "    return X_train\n",
        "\n",
        "def data_test():\n",
        "    ''' This function is to load the data'''\n",
        "    SIGNALS = [\"body_acc_x\",\"body_acc_y\",\"body_acc_z\",\"body_gyro_x\",\"body_gyro_y\",\"body_gyro_z\",\"total_acc_x\",\"total_acc_y\",\"total_acc_z\"]\n",
        "    signals_data = []\n",
        "    for signal in SIGNALS:\n",
        "        filename = f'/content/drive/My Drive/HumanActivityRecognition.zip (Unzipped Files)/HAR/UCI_HAR_Dataset/test/Inertial Signals/{signal}_test.txt'\n",
        "        signals_data.append(pd.read_csv(filename, delim_whitespace=True, header=None).values) \n",
        "    X_test = np.transpose(signals_data, (1, 2, 0))\n",
        "\n",
        "    return X_test\n",
        "    "
      ],
      "execution_count": 0,
      "outputs": []
    },
    {
      "cell_type": "code",
      "metadata": {
        "id": "r3ulphzJYw7S",
        "colab_type": "code",
        "colab": {}
      },
      "source": [
        "\n",
        "def load_y_static_dynamic(subset):\n",
        "  filename = f'/content/drive/My Drive/HumanActivityRecognition.zip (Unzipped Files)/HAR/UCI_HAR_Dataset/{subset}/y_{subset}.txt'\n",
        "  y = pd.read_csv(filename, delim_whitespace=True, header=None)[0]\n",
        "  Y_train = pd.get_dummies(y).values\n",
        "  y[y<=3] = 0 # Dynamic activities\n",
        "  y[y>3] = 1  # Static activities\n",
        "  return pd.get_dummies(y).values"
      ],
      "execution_count": 0,
      "outputs": []
    },
    {
      "cell_type": "code",
      "metadata": {
        "id": "6MJ9-2KZYhPk",
        "colab_type": "code",
        "colab": {}
      },
      "source": [
        "def load_data():\n",
        "    \"\"\"\n",
        "    Obtain the dataset from multiple files.\n",
        "    Returns: X_train, X_test, y_train, y_test\n",
        "    \"\"\"\n",
        "    X_train, X_test = data_train(), data_test()\n",
        "    y_train, y_test = load_y_static_dynamic('train'), load_y_static_dynamic('test')\n",
        "\n",
        "    return X_train, X_test, y_train, y_test"
      ],
      "execution_count": 0,
      "outputs": []
    },
    {
      "cell_type": "code",
      "metadata": {
        "id": "s6O_UrDgYsCV",
        "colab_type": "code",
        "outputId": "c729f38d-368f-4203-fe92-dc50c4fd1a26",
        "colab": {
          "base_uri": "https://localhost:8080/",
          "height": 34
        }
      },
      "source": [
        "x_train, x_test, y_train, y_test = load_data()\n",
        "x_train.shape, x_test.shape, y_train.shape, y_test.shape "
      ],
      "execution_count": 13,
      "outputs": [
        {
          "output_type": "execute_result",
          "data": {
            "text/plain": [
              "((7352, 128, 9), (2947, 128, 9), (7352, 2), (2947, 2))"
            ]
          },
          "metadata": {
            "tags": []
          },
          "execution_count": 13
        }
      ]
    },
    {
      "cell_type": "code",
      "metadata": {
        "id": "eLc1QltJErP_",
        "colab_type": "code",
        "outputId": "5e584cdc-e80c-42cf-b81d-70112a2d9824",
        "colab": {
          "base_uri": "https://localhost:8080/",
          "height": 68
        }
      },
      "source": [
        "timesteps = len(x_train[0])\n",
        "input_dim = len(x_train[0][0])\n",
        "\n",
        "print(timesteps)\n",
        "print(input_dim)\n",
        "print(len(x_train)) "
      ],
      "execution_count": 14,
      "outputs": [
        {
          "output_type": "stream",
          "text": [
            "128\n",
            "9\n",
            "7352\n"
          ],
          "name": "stdout"
        }
      ]
    },
    {
      "cell_type": "code",
      "metadata": {
        "id": "ndyahWidFLwp",
        "colab_type": "code",
        "outputId": "eec4cfaa-71d3-4f55-d5b0-b3ee14fb922d",
        "colab": {
          "base_uri": "https://localhost:8080/",
          "height": 323
        }
      },
      "source": [
        "model1= Sequential() \n",
        "model1.add(Conv1D(filters= 32, kernel_size= 3, activation= 'relu', kernel_initializer= 'he_normal',kernel_regularizer = regularizers.l2(0.1), input_shape=(timesteps, input_dim)))\n",
        "model1.add(Dropout(0.5))\n",
        "model1.add(MaxPooling1D(pool_size= 2))\n",
        "model1.add(Flatten())\n",
        "model1.add(Dense(units= 2, activation= 'softmax')) \n",
        "model1.summary()"
      ],
      "execution_count": 15,
      "outputs": [
        {
          "output_type": "stream",
          "text": [
            "Model: \"sequential\"\n",
            "_________________________________________________________________\n",
            "Layer (type)                 Output Shape              Param #   \n",
            "=================================================================\n",
            "conv1d (Conv1D)              (None, 126, 32)           896       \n",
            "_________________________________________________________________\n",
            "dropout (Dropout)            (None, 126, 32)           0         \n",
            "_________________________________________________________________\n",
            "max_pooling1d (MaxPooling1D) (None, 63, 32)            0         \n",
            "_________________________________________________________________\n",
            "flatten (Flatten)            (None, 2016)              0         \n",
            "_________________________________________________________________\n",
            "dense (Dense)                (None, 2)                 4034      \n",
            "=================================================================\n",
            "Total params: 4,930\n",
            "Trainable params: 4,930\n",
            "Non-trainable params: 0\n",
            "_________________________________________________________________\n"
          ],
          "name": "stdout"
        }
      ]
    },
    {
      "cell_type": "code",
      "metadata": {
        "id": "PP9guuLDFkQd",
        "colab_type": "code",
        "colab": {}
      },
      "source": [
        "# Compiling the model\n",
        "model1.compile(loss='categorical_crossentropy', optimizer='adam', metrics=['accuracy'])"
      ],
      "execution_count": 0,
      "outputs": []
    },
    {
      "cell_type": "code",
      "metadata": {
        "id": "jo3_ESRbFmde",
        "colab_type": "code",
        "outputId": "01599d45-9578-4d33-baf5-b12e5b0adef2",
        "colab": {
          "base_uri": "https://localhost:8080/",
          "height": 357
        }
      },
      "source": [
        "# Initializing parameters\n",
        "epochs = 10\n",
        "batch_size = 16\n",
        "# Training the model \n",
        "history1= model1.fit(x_train, y_train, batch_size=batch_size, validation_data=(x_test, y_test), epochs=epochs)"
      ],
      "execution_count": 17,
      "outputs": [
        {
          "output_type": "stream",
          "text": [
            "Epoch 1/10\n",
            "460/460 [==============================] - 3s 5ms/step - loss: 2.4361 - accuracy: 0.9744 - val_loss: 0.5410 - val_accuracy: 0.9854\n",
            "Epoch 2/10\n",
            "460/460 [==============================] - 2s 5ms/step - loss: 0.1865 - accuracy: 0.9977 - val_loss: 0.1080 - val_accuracy: 0.9949\n",
            "Epoch 3/10\n",
            "460/460 [==============================] - 2s 5ms/step - loss: 0.0502 - accuracy: 0.9977 - val_loss: 0.0714 - val_accuracy: 0.9959\n",
            "Epoch 4/10\n",
            "460/460 [==============================] - 2s 5ms/step - loss: 0.0376 - accuracy: 0.9980 - val_loss: 0.0709 - val_accuracy: 0.9908\n",
            "Epoch 5/10\n",
            "460/460 [==============================] - 2s 5ms/step - loss: 0.0320 - accuracy: 0.9980 - val_loss: 0.0527 - val_accuracy: 0.9966\n",
            "Epoch 6/10\n",
            "460/460 [==============================] - 2s 5ms/step - loss: 0.0264 - accuracy: 0.9992 - val_loss: 0.0491 - val_accuracy: 0.9946\n",
            "Epoch 7/10\n",
            "460/460 [==============================] - 2s 5ms/step - loss: 0.0249 - accuracy: 0.9982 - val_loss: 0.0415 - val_accuracy: 0.9969\n",
            "Epoch 8/10\n",
            "460/460 [==============================] - 2s 5ms/step - loss: 0.0230 - accuracy: 0.9985 - val_loss: 0.0566 - val_accuracy: 0.9932\n",
            "Epoch 9/10\n",
            "460/460 [==============================] - 2s 5ms/step - loss: 0.0214 - accuracy: 0.9981 - val_loss: 0.0591 - val_accuracy: 0.9959\n",
            "Epoch 10/10\n",
            "460/460 [==============================] - 2s 5ms/step - loss: 0.0199 - accuracy: 0.9986 - val_loss: 0.0307 - val_accuracy: 0.9973\n"
          ],
          "name": "stdout"
        }
      ]
    },
    {
      "cell_type": "code",
      "metadata": {
        "id": "L-HxNWDPI5oX",
        "colab_type": "code",
        "outputId": "9f8f3b27-c2b1-4630-ddff-7f1d8e09c973",
        "colab": {
          "base_uri": "https://localhost:8080/",
          "height": 34
        }
      },
      "source": [
        "score1 = model1.evaluate(x_test, y_test)"
      ],
      "execution_count": 18,
      "outputs": [
        {
          "output_type": "stream",
          "text": [
            "93/93 [==============================] - 0s 3ms/step - loss: 0.0306 - accuracy: 0.9973\n"
          ],
          "name": "stdout"
        }
      ]
    },
    {
      "cell_type": "code",
      "metadata": {
        "id": "sp9c6F2VJGc7",
        "colab_type": "code",
        "colab": {}
      },
      "source": [
        "def plt_dynamic(x, vy, ty, ax, color = 'b'):\n",
        "    ax.plot(x, vy, 'b', label = 'Validation Loss')\n",
        "    ax.plot(x, vy, 'b', label = 'Validation Loss')\n",
        "    ax.plot(x, ty, 'r', label = 'Train Loss')\n",
        "    plt.grid()\n",
        "    plt.legend()\n",
        "    fig.canvas.draw()"
      ],
      "execution_count": 0,
      "outputs": []
    },
    {
      "cell_type": "code",
      "metadata": {
        "id": "WuYsQzX3I3hM",
        "colab_type": "code",
        "outputId": "b7624559-c2ef-41d0-a03a-9e3ef287d962",
        "colab": {
          "base_uri": "https://localhost:8080/",
          "height": 404
        }
      },
      "source": [
        "fig, ax = plt.subplots(1,1, figsize = (6, 6))\n",
        "ax.set_xlabel('epoch')\n",
        "ax.set_ylabel('Categorical Crossentropy Loss')\n",
        "plt.title('Relu + Dropout')\n",
        "\n",
        "# list of epoch numbers: epoch = 10\n",
        "x = list(range(1,10+1))\n",
        "vy = history1.history['val_loss']\n",
        "ty = history1.history['loss']\n",
        "plt_dynamic(x, vy, ty, ax) "
      ],
      "execution_count": 20,
      "outputs": [
        {
          "output_type": "display_data",
          "data": {
            "image/png": "[encoded data removed]",
            "text/plain": [
              "<Figure size 432x432 with 1 Axes>"
            ]
          },
          "metadata": {
            "tags": [],
            "needs_background": "light"
          }
        }
      ]
    },
    {
      "cell_type": "code",
      "metadata": {
        "id": "NeMvnolGJaUx",
        "colab_type": "code",
        "outputId": "fe1a265b-1891-4daa-e426-6356baa4afc0",
        "colab": {
          "base_uri": "https://localhost:8080/",
          "height": 105
        }
      },
      "source": [
        "import pickle\n",
        "model1.save('model1')"
      ],
      "execution_count": 21,
      "outputs": [
        {
          "output_type": "stream",
          "text": [
            "WARNING:tensorflow:From /usr/local/lib/python3.6/dist-packages/tensorflow/python/ops/resource_variable_ops.py:1817: calling BaseResourceVariable.__init__ (from tensorflow.python.ops.resource_variable_ops) with constraint is deprecated and will be removed in a future version.\n",
            "Instructions for updating:\n",
            "If using Keras pass *_constraint arguments to layers.\n",
            "INFO:tensorflow:Assets written to: model1/assets\n"
          ],
          "name": "stdout"
        }
      ]
    },
    {
      "cell_type": "markdown",
      "metadata": {
        "id": "NK9EiA9BooL_",
        "colab_type": "text"
      },
      "source": [
        "**Static Activities**"
      ]
    },
    {
      "cell_type": "code",
      "metadata": {
        "id": "UkcJccXcofSn",
        "colab_type": "code",
        "colab": {}
      },
      "source": [
        "def data_load(subset):\n",
        "    ''' This function is to load the data'''\n",
        "    SIGNALS = [\"body_acc_x\",\"body_acc_y\",\"body_acc_z\",\"body_gyro_x\",\"body_gyro_y\",\"body_gyro_z\",\"total_acc_x\",\"total_acc_y\",\"total_acc_z\"]\n",
        "    signals_data = []\n",
        "    for signal in SIGNALS:\n",
        "        filename = f'/content/drive/My Drive/HumanActivityRecognition.zip (Unzipped Files)/HAR/UCI_HAR_Dataset/{subset}/Inertial Signals/{signal}_{subset}.txt'\n",
        "        signals_data.append(pd.read_csv(filename, delim_whitespace=True, header=None).values) \n",
        "    data = np.transpose(signals_data, (1, 2, 0)) \n",
        "    return data "
      ],
      "execution_count": 0,
      "outputs": []
    },
    {
      "cell_type": "code",
      "metadata": {
        "id": "6mFfPbdCrP4x",
        "colab_type": "code",
        "colab": {}
      },
      "source": [
        "# Labelling the classes in 'y' after OHE\n",
        "\n",
        "label = {0:'SITTING', 1:'STANDING', 2:'LAYING'}\n",
        "\n",
        "def load_y_static(subset):\n",
        "  filename = f'/content/drive/My Drive/HumanActivityRecognition.zip (Unzipped Files)/HAR/UCI_HAR_Dataset/{subset}/y_{subset}.txt'\n",
        "  y = pd.read_csv(filename, delim_whitespace=True, header=None)[0]\n",
        "  y_subset = y>3\n",
        "  y = y[y_subset] \n",
        "  return pd.get_dummies(y).values,y_subset "
      ],
      "execution_count": 0,
      "outputs": []
    },
    {
      "cell_type": "code",
      "metadata": {
        "id": "xV4zdmffs6be",
        "colab_type": "code",
        "colab": {}
      },
      "source": [
        "def load_data():\n",
        "    \"\"\"\n",
        "    Obtain the dataset from multiple files.\n",
        "    Returns: X_train, X_test, y_train, y_test\n",
        "    \"\"\"\n",
        "    X_train, X_test = data_load('train'), data_load('test')\n",
        "    y_train, y_train1 = load_y_static('train')\n",
        "    y_test, y_test1 =  load_y_static('test')\n",
        "\n",
        "    X_train = X_train[y_train1]\n",
        "\n",
        "    X_test = X_test[y_test1]\n",
        "    \n",
        "    return X_train, X_test, y_train, y_test "
      ],
      "execution_count": 0,
      "outputs": []
    },
    {
      "cell_type": "code",
      "metadata": {
        "id": "WYM3EtrZtitm",
        "colab_type": "code",
        "outputId": "0930c936-59a4-4e39-cbc5-93c2b2e086b7",
        "colab": {
          "base_uri": "https://localhost:8080/",
          "height": 85
        }
      },
      "source": [
        "# Loading the train and test data\n",
        "X_train, X_test, Y_train, Y_test = load_data()\n",
        "\n",
        "print('X_train shape is: ',X_train.shape)\n",
        "print('Y_train shape is: ',Y_train.shape)\n",
        "print('X_test shape is: ',X_test.shape)\n",
        "print('Y_test shape is: ',Y_test.shape) "
      ],
      "execution_count": 25,
      "outputs": [
        {
          "output_type": "stream",
          "text": [
            "X_train shape is:  (4067, 128, 9)\n",
            "Y_train shape is:  (4067, 3)\n",
            "X_test shape is:  (1560, 128, 9)\n",
            "Y_test shape is:  (1560, 3)\n"
          ],
          "name": "stdout"
        }
      ]
    },
    {
      "cell_type": "code",
      "metadata": {
        "id": "8fhJzc0JuWHC",
        "colab_type": "code",
        "outputId": "4a721c4b-c69b-4dff-906d-8669b9a1936a",
        "colab": {
          "base_uri": "https://localhost:8080/",
          "height": 68
        }
      },
      "source": [
        "timesteps = len(X_train[0])\n",
        "input_dim = len(X_train[0][0])\n",
        "\n",
        "\n",
        "print('Timesteps:', timesteps)\n",
        "print('Input Dim:', input_dim)\n",
        "print('No. of Train datapoints:', len(X_train))"
      ],
      "execution_count": 26,
      "outputs": [
        {
          "output_type": "stream",
          "text": [
            "Timesteps: 128\n",
            "Input Dim: 9\n",
            "No. of Train datapoints: 4067\n"
          ],
          "name": "stdout"
        }
      ]
    },
    {
      "cell_type": "code",
      "metadata": {
        "id": "kwvNrpmuudvr",
        "colab_type": "code",
        "outputId": "534e6f35-0d81-486b-860a-9a50c760e001",
        "colab": {
          "base_uri": "https://localhost:8080/",
          "height": 629
        }
      },
      "source": [
        "model_s= Sequential()\n",
        "model_s.add(Conv1D(filters= 64, kernel_size= 5, activation= 'relu', kernel_initializer= 'he_uniform', input_shape=(timesteps, input_dim)))\n",
        "model_s.add(Conv1D(filters= 64, kernel_size= 5, activation= 'relu', kernel_initializer= 'he_uniform'))\n",
        "model_s.add(MaxPooling1D(pool_size= 2, padding= 'same'))\n",
        "model_s.add(Dropout(0.40))\n",
        "model_s.add(Conv1D(filters= 32, kernel_size= 5, activation= 'relu', kernel_initializer= 'he_uniform'))\n",
        "model_s.add(Conv1D(filters= 32, kernel_size= 5, activation= 'relu', kernel_initializer= 'he_uniform',))\n",
        "\n",
        "# https://stackoverflow.com/a/49089027/10219869\n",
        "# https://stackoverflow.com/a/58498450/10219869\n",
        "\n",
        "model_s.add(MaxPooling1D(pool_size= 2, padding= 'same'))\n",
        "model_s.add(BatchNormalization())\n",
        "model_s.add(Dropout(0.40))\n",
        "model_s.add(Flatten())\n",
        "model_s.add(Dense(units= 100, activation= 'relu'))\n",
        "model_s.add(BatchNormalization())           \n",
        "model_s.add(Dropout(0.40))\n",
        "model_s.add(Dense(units= 3, activation= 'softmax'))\n",
        "model_s.summary()"
      ],
      "execution_count": 27,
      "outputs": [
        {
          "output_type": "stream",
          "text": [
            "Model: \"sequential_1\"\n",
            "_________________________________________________________________\n",
            "Layer (type)                 Output Shape              Param #   \n",
            "=================================================================\n",
            "conv1d_1 (Conv1D)            (None, 124, 64)           2944      \n",
            "_________________________________________________________________\n",
            "conv1d_2 (Conv1D)            (None, 120, 64)           20544     \n",
            "_________________________________________________________________\n",
            "max_pooling1d_1 (MaxPooling1 (None, 60, 64)            0         \n",
            "_________________________________________________________________\n",
            "dropout_1 (Dropout)          (None, 60, 64)            0         \n",
            "_________________________________________________________________\n",
            "conv1d_3 (Conv1D)            (None, 56, 32)            10272     \n",
            "_________________________________________________________________\n",
            "conv1d_4 (Conv1D)            (None, 52, 32)            5152      \n",
            "_________________________________________________________________\n",
            "max_pooling1d_2 (MaxPooling1 (None, 26, 32)            0         \n",
            "_________________________________________________________________\n",
            "batch_normalization (BatchNo (None, 26, 32)            128       \n",
            "_________________________________________________________________\n",
            "dropout_2 (Dropout)          (None, 26, 32)            0         \n",
            "_________________________________________________________________\n",
            "flatten_1 (Flatten)          (None, 832)               0         \n",
            "_________________________________________________________________\n",
            "dense_1 (Dense)              (None, 100)               83300     \n",
            "_________________________________________________________________\n",
            "batch_normalization_1 (Batch (None, 100)               400       \n",
            "_________________________________________________________________\n",
            "dropout_3 (Dropout)          (None, 100)               0         \n",
            "_________________________________________________________________\n",
            "dense_2 (Dense)              (None, 3)                 303       \n",
            "=================================================================\n",
            "Total params: 123,043\n",
            "Trainable params: 122,779\n",
            "Non-trainable params: 264\n",
            "_________________________________________________________________\n"
          ],
          "name": "stdout"
        }
      ]
    },
    {
      "cell_type": "code",
      "metadata": {
        "id": "e3QI8JgDvHs8",
        "colab_type": "code",
        "colab": {}
      },
      "source": [
        "# Compiling the model\n",
        "model_s.compile(loss='categorical_crossentropy', optimizer='adam', metrics=['accuracy']) "
      ],
      "execution_count": 0,
      "outputs": []
    },
    {
      "cell_type": "code",
      "metadata": {
        "id": "7mve5LRgvNj6",
        "colab_type": "code",
        "outputId": "18020a8c-273e-4479-97b0-1d3ff5888b57",
        "colab": {
          "base_uri": "https://localhost:8080/",
          "height": 1000
        }
      },
      "source": [
        "# Initializing parameters\n",
        "epochs =100\n",
        "batch_size =20\n",
        "# Training the model \n",
        "history_s= model_s.fit(X_train, Y_train, batch_size=batch_size, validation_data=(X_test, Y_test), epochs=epochs) "
      ],
      "execution_count": 29,
      "outputs": [
        {
          "output_type": "stream",
          "text": [
            "Epoch 1/100\n",
            "204/204 [==============================] - 2s 10ms/step - loss: 0.3618 - accuracy: 0.8648 - val_loss: 0.3792 - val_accuracy: 0.8679\n",
            "Epoch 2/100\n",
            "204/204 [==============================] - 2s 8ms/step - loss: 0.2646 - accuracy: 0.8921 - val_loss: 0.3223 - val_accuracy: 0.8859\n",
            "Epoch 3/100\n",
            "204/204 [==============================] - 2s 8ms/step - loss: 0.2446 - accuracy: 0.9014 - val_loss: 0.3441 - val_accuracy: 0.8686\n",
            "Epoch 4/100\n",
            "204/204 [==============================] - 2s 8ms/step - loss: 0.2315 - accuracy: 0.9093 - val_loss: 0.2821 - val_accuracy: 0.8917\n",
            "Epoch 5/100\n",
            "204/204 [==============================] - 2s 9ms/step - loss: 0.2249 - accuracy: 0.9026 - val_loss: 0.2798 - val_accuracy: 0.8923\n",
            "Epoch 6/100\n",
            "204/204 [==============================] - 2s 8ms/step - loss: 0.2095 - accuracy: 0.9112 - val_loss: 0.2947 - val_accuracy: 0.8917\n",
            "Epoch 7/100\n",
            "204/204 [==============================] - 2s 8ms/step - loss: 0.1985 - accuracy: 0.9120 - val_loss: 0.4637 - val_accuracy: 0.7250\n",
            "Epoch 8/100\n",
            "204/204 [==============================] - 2s 8ms/step - loss: 0.1991 - accuracy: 0.9147 - val_loss: 0.3748 - val_accuracy: 0.7705\n",
            "Epoch 9/100\n",
            "204/204 [==============================] - 2s 8ms/step - loss: 0.1907 - accuracy: 0.9112 - val_loss: 0.3474 - val_accuracy: 0.8827\n",
            "Epoch 10/100\n",
            "204/204 [==============================] - 2s 8ms/step - loss: 0.1754 - accuracy: 0.9203 - val_loss: 0.3375 - val_accuracy: 0.8763\n",
            "Epoch 11/100\n",
            "204/204 [==============================] - 2s 9ms/step - loss: 0.1956 - accuracy: 0.9154 - val_loss: 0.3326 - val_accuracy: 0.8885\n",
            "Epoch 12/100\n",
            "204/204 [==============================] - 2s 8ms/step - loss: 0.1635 - accuracy: 0.9240 - val_loss: 0.3918 - val_accuracy: 0.8699\n",
            "Epoch 13/100\n",
            "204/204 [==============================] - 2s 8ms/step - loss: 0.1947 - accuracy: 0.9162 - val_loss: 0.3130 - val_accuracy: 0.9006\n",
            "Epoch 14/100\n",
            "204/204 [==============================] - 2s 8ms/step - loss: 0.1580 - accuracy: 0.9277 - val_loss: 0.3041 - val_accuracy: 0.8891\n",
            "Epoch 15/100\n",
            "204/204 [==============================] - 2s 8ms/step - loss: 0.1851 - accuracy: 0.9176 - val_loss: 0.3466 - val_accuracy: 0.8974\n",
            "Epoch 16/100\n",
            "204/204 [==============================] - 2s 8ms/step - loss: 0.1597 - accuracy: 0.9253 - val_loss: 0.3321 - val_accuracy: 0.8455\n",
            "Epoch 17/100\n",
            "204/204 [==============================] - 2s 8ms/step - loss: 0.1570 - accuracy: 0.9314 - val_loss: 0.3255 - val_accuracy: 0.8904\n",
            "Epoch 18/100\n",
            "204/204 [==============================] - 2s 8ms/step - loss: 0.1482 - accuracy: 0.9262 - val_loss: 0.3069 - val_accuracy: 0.8936\n",
            "Epoch 19/100\n",
            "204/204 [==============================] - 2s 8ms/step - loss: 0.1467 - accuracy: 0.9368 - val_loss: 0.3417 - val_accuracy: 0.8410\n",
            "Epoch 20/100\n",
            "204/204 [==============================] - 2s 8ms/step - loss: 0.1355 - accuracy: 0.9380 - val_loss: 0.4114 - val_accuracy: 0.8718\n",
            "Epoch 21/100\n",
            "204/204 [==============================] - 2s 8ms/step - loss: 0.1309 - accuracy: 0.9422 - val_loss: 0.3806 - val_accuracy: 0.8962\n",
            "Epoch 22/100\n",
            "204/204 [==============================] - 2s 8ms/step - loss: 0.1345 - accuracy: 0.9432 - val_loss: 0.3956 - val_accuracy: 0.8878\n",
            "Epoch 23/100\n",
            "204/204 [==============================] - 2s 8ms/step - loss: 0.1203 - accuracy: 0.9425 - val_loss: 0.4944 - val_accuracy: 0.8590\n",
            "Epoch 24/100\n",
            "204/204 [==============================] - 2s 8ms/step - loss: 0.1209 - accuracy: 0.9491 - val_loss: 0.4382 - val_accuracy: 0.8750\n",
            "Epoch 25/100\n",
            "204/204 [==============================] - 2s 8ms/step - loss: 0.1171 - accuracy: 0.9489 - val_loss: 0.5230 - val_accuracy: 0.8833\n",
            "Epoch 26/100\n",
            "204/204 [==============================] - 2s 8ms/step - loss: 0.1035 - accuracy: 0.9528 - val_loss: 0.4884 - val_accuracy: 0.8750\n",
            "Epoch 27/100\n",
            "204/204 [==============================] - 2s 8ms/step - loss: 0.1168 - accuracy: 0.9498 - val_loss: 0.3873 - val_accuracy: 0.8929\n",
            "Epoch 28/100\n",
            "204/204 [==============================] - 2s 8ms/step - loss: 0.1127 - accuracy: 0.9501 - val_loss: 0.4350 - val_accuracy: 0.9064\n",
            "Epoch 29/100\n",
            "204/204 [==============================] - 2s 8ms/step - loss: 0.1018 - accuracy: 0.9577 - val_loss: 0.4536 - val_accuracy: 0.9000\n",
            "Epoch 30/100\n",
            "204/204 [==============================] - 2s 8ms/step - loss: 0.1034 - accuracy: 0.9577 - val_loss: 0.3705 - val_accuracy: 0.8885\n",
            "Epoch 31/100\n",
            "204/204 [==============================] - 2s 8ms/step - loss: 0.0981 - accuracy: 0.9572 - val_loss: 0.4651 - val_accuracy: 0.8808\n",
            "Epoch 32/100\n",
            "204/204 [==============================] - 2s 8ms/step - loss: 0.0884 - accuracy: 0.9631 - val_loss: 0.4097 - val_accuracy: 0.8962\n",
            "Epoch 33/100\n",
            "204/204 [==============================] - 2s 8ms/step - loss: 0.0937 - accuracy: 0.9612 - val_loss: 0.3760 - val_accuracy: 0.9038\n",
            "Epoch 34/100\n",
            "204/204 [==============================] - 2s 8ms/step - loss: 0.0817 - accuracy: 0.9641 - val_loss: 0.4294 - val_accuracy: 0.8917\n",
            "Epoch 35/100\n",
            "204/204 [==============================] - 2s 8ms/step - loss: 0.0826 - accuracy: 0.9666 - val_loss: 0.5202 - val_accuracy: 0.8872\n",
            "Epoch 36/100\n",
            "204/204 [==============================] - 2s 8ms/step - loss: 0.0840 - accuracy: 0.9619 - val_loss: 0.5858 - val_accuracy: 0.8679\n",
            "Epoch 37/100\n",
            "204/204 [==============================] - 2s 8ms/step - loss: 0.0716 - accuracy: 0.9702 - val_loss: 0.5628 - val_accuracy: 0.8788\n",
            "Epoch 38/100\n",
            "204/204 [==============================] - 2s 8ms/step - loss: 0.0779 - accuracy: 0.9666 - val_loss: 0.5540 - val_accuracy: 0.9032\n",
            "Epoch 39/100\n",
            "204/204 [==============================] - 2s 8ms/step - loss: 0.0721 - accuracy: 0.9683 - val_loss: 0.4252 - val_accuracy: 0.9167\n",
            "Epoch 40/100\n",
            "204/204 [==============================] - 2s 8ms/step - loss: 0.0762 - accuracy: 0.9683 - val_loss: 0.4747 - val_accuracy: 0.9013\n",
            "Epoch 41/100\n",
            "204/204 [==============================] - 2s 8ms/step - loss: 0.0725 - accuracy: 0.9712 - val_loss: 0.4844 - val_accuracy: 0.8974\n",
            "Epoch 42/100\n",
            "204/204 [==============================] - 2s 8ms/step - loss: 0.0749 - accuracy: 0.9698 - val_loss: 0.7187 - val_accuracy: 0.8718\n",
            "Epoch 43/100\n",
            "204/204 [==============================] - 2s 8ms/step - loss: 0.0611 - accuracy: 0.9739 - val_loss: 0.4535 - val_accuracy: 0.9147\n",
            "Epoch 44/100\n",
            "204/204 [==============================] - 2s 8ms/step - loss: 0.0643 - accuracy: 0.9717 - val_loss: 0.6184 - val_accuracy: 0.8987\n",
            "Epoch 45/100\n",
            "204/204 [==============================] - 2s 8ms/step - loss: 0.0626 - accuracy: 0.9742 - val_loss: 0.4271 - val_accuracy: 0.8737\n",
            "Epoch 46/100\n",
            "204/204 [==============================] - 2s 8ms/step - loss: 0.0563 - accuracy: 0.9779 - val_loss: 0.4767 - val_accuracy: 0.9058\n",
            "Epoch 47/100\n",
            "204/204 [==============================] - 2s 8ms/step - loss: 0.0609 - accuracy: 0.9781 - val_loss: 0.4441 - val_accuracy: 0.9038\n",
            "Epoch 48/100\n",
            "204/204 [==============================] - 2s 8ms/step - loss: 0.0565 - accuracy: 0.9771 - val_loss: 0.5007 - val_accuracy: 0.9064\n",
            "Epoch 49/100\n",
            "204/204 [==============================] - 2s 8ms/step - loss: 0.0494 - accuracy: 0.9803 - val_loss: 0.4703 - val_accuracy: 0.8859\n",
            "Epoch 50/100\n",
            "204/204 [==============================] - 2s 8ms/step - loss: 0.0399 - accuracy: 0.9857 - val_loss: 0.5312 - val_accuracy: 0.8949\n",
            "Epoch 51/100\n",
            "204/204 [==============================] - 2s 8ms/step - loss: 0.0596 - accuracy: 0.9764 - val_loss: 0.4503 - val_accuracy: 0.9192\n",
            "Epoch 52/100\n",
            "204/204 [==============================] - 2s 8ms/step - loss: 0.0477 - accuracy: 0.9803 - val_loss: 0.6705 - val_accuracy: 0.9032\n",
            "Epoch 53/100\n",
            "204/204 [==============================] - 2s 8ms/step - loss: 0.0489 - accuracy: 0.9823 - val_loss: 0.5595 - val_accuracy: 0.8897\n",
            "Epoch 54/100\n",
            "204/204 [==============================] - 2s 8ms/step - loss: 0.0483 - accuracy: 0.9818 - val_loss: 0.4750 - val_accuracy: 0.9000\n",
            "Epoch 55/100\n",
            "204/204 [==============================] - 2s 8ms/step - loss: 0.0561 - accuracy: 0.9793 - val_loss: 0.5473 - val_accuracy: 0.8917\n",
            "Epoch 56/100\n",
            "204/204 [==============================] - 2s 8ms/step - loss: 0.0472 - accuracy: 0.9828 - val_loss: 0.5218 - val_accuracy: 0.9096\n",
            "Epoch 57/100\n",
            "204/204 [==============================] - 2s 8ms/step - loss: 0.0387 - accuracy: 0.9848 - val_loss: 0.5581 - val_accuracy: 0.9122\n",
            "Epoch 58/100\n",
            "204/204 [==============================] - 2s 8ms/step - loss: 0.0426 - accuracy: 0.9843 - val_loss: 0.5903 - val_accuracy: 0.8872\n",
            "Epoch 59/100\n",
            "204/204 [==============================] - 2s 8ms/step - loss: 0.0336 - accuracy: 0.9889 - val_loss: 0.6742 - val_accuracy: 0.8833\n",
            "Epoch 60/100\n",
            "204/204 [==============================] - 2s 8ms/step - loss: 0.0458 - accuracy: 0.9833 - val_loss: 0.5150 - val_accuracy: 0.8955\n",
            "Epoch 61/100\n",
            "204/204 [==============================] - 2s 8ms/step - loss: 0.0469 - accuracy: 0.9843 - val_loss: 0.4853 - val_accuracy: 0.9038\n",
            "Epoch 62/100\n",
            "204/204 [==============================] - 2s 8ms/step - loss: 0.0508 - accuracy: 0.9835 - val_loss: 0.5122 - val_accuracy: 0.9090\n",
            "Epoch 63/100\n",
            "204/204 [==============================] - 2s 8ms/step - loss: 0.0377 - accuracy: 0.9875 - val_loss: 0.4954 - val_accuracy: 0.8859\n",
            "Epoch 64/100\n",
            "204/204 [==============================] - 2s 8ms/step - loss: 0.0326 - accuracy: 0.9872 - val_loss: 0.5599 - val_accuracy: 0.8962\n",
            "Epoch 65/100\n",
            "204/204 [==============================] - 2s 8ms/step - loss: 0.0392 - accuracy: 0.9862 - val_loss: 0.5793 - val_accuracy: 0.8968\n",
            "Epoch 66/100\n",
            "204/204 [==============================] - 2s 8ms/step - loss: 0.0370 - accuracy: 0.9852 - val_loss: 0.5392 - val_accuracy: 0.8942\n",
            "Epoch 67/100\n",
            "204/204 [==============================] - 2s 8ms/step - loss: 0.0273 - accuracy: 0.9899 - val_loss: 0.5820 - val_accuracy: 0.8904\n",
            "Epoch 68/100\n",
            "204/204 [==============================] - 2s 8ms/step - loss: 0.0327 - accuracy: 0.9880 - val_loss: 0.5235 - val_accuracy: 0.9013\n",
            "Epoch 69/100\n",
            "204/204 [==============================] - 2s 8ms/step - loss: 0.0387 - accuracy: 0.9880 - val_loss: 0.6118 - val_accuracy: 0.9064\n",
            "Epoch 70/100\n",
            "204/204 [==============================] - 2s 8ms/step - loss: 0.0465 - accuracy: 0.9857 - val_loss: 0.5888 - val_accuracy: 0.9045\n",
            "Epoch 71/100\n",
            "204/204 [==============================] - 2s 8ms/step - loss: 0.0458 - accuracy: 0.9838 - val_loss: 0.5338 - val_accuracy: 0.8923\n",
            "Epoch 72/100\n",
            "204/204 [==============================] - 2s 8ms/step - loss: 0.0385 - accuracy: 0.9860 - val_loss: 0.5074 - val_accuracy: 0.9218\n",
            "Epoch 73/100\n",
            "204/204 [==============================] - 2s 8ms/step - loss: 0.0321 - accuracy: 0.9897 - val_loss: 0.6245 - val_accuracy: 0.8936\n",
            "Epoch 74/100\n",
            "204/204 [==============================] - 2s 8ms/step - loss: 0.0435 - accuracy: 0.9855 - val_loss: 0.6730 - val_accuracy: 0.8942\n",
            "Epoch 75/100\n",
            "204/204 [==============================] - 2s 8ms/step - loss: 0.0304 - accuracy: 0.9911 - val_loss: 0.7452 - val_accuracy: 0.8679\n",
            "Epoch 76/100\n",
            "204/204 [==============================] - 2s 8ms/step - loss: 0.0372 - accuracy: 0.9867 - val_loss: 0.5693 - val_accuracy: 0.8833\n",
            "Epoch 77/100\n",
            "204/204 [==============================] - 2s 8ms/step - loss: 0.0427 - accuracy: 0.9857 - val_loss: 0.5557 - val_accuracy: 0.9096\n",
            "Epoch 78/100\n",
            "204/204 [==============================] - 2s 8ms/step - loss: 0.0418 - accuracy: 0.9880 - val_loss: 0.5122 - val_accuracy: 0.8968\n",
            "Epoch 79/100\n",
            "204/204 [==============================] - 2s 8ms/step - loss: 0.0569 - accuracy: 0.9779 - val_loss: 0.4199 - val_accuracy: 0.9071\n",
            "Epoch 80/100\n",
            "204/204 [==============================] - 2s 8ms/step - loss: 0.0281 - accuracy: 0.9904 - val_loss: 0.5035 - val_accuracy: 0.9013\n",
            "Epoch 81/100\n",
            "204/204 [==============================] - 2s 9ms/step - loss: 0.0231 - accuracy: 0.9916 - val_loss: 0.4881 - val_accuracy: 0.9064\n",
            "Epoch 82/100\n",
            "204/204 [==============================] - 2s 9ms/step - loss: 0.0208 - accuracy: 0.9934 - val_loss: 0.4814 - val_accuracy: 0.9147\n",
            "Epoch 83/100\n",
            "204/204 [==============================] - 2s 9ms/step - loss: 0.0360 - accuracy: 0.9865 - val_loss: 0.4840 - val_accuracy: 0.9096\n",
            "Epoch 84/100\n",
            "204/204 [==============================] - 2s 9ms/step - loss: 0.0198 - accuracy: 0.9934 - val_loss: 0.6188 - val_accuracy: 0.8872\n",
            "Epoch 85/100\n",
            "204/204 [==============================] - 2s 9ms/step - loss: 0.0306 - accuracy: 0.9894 - val_loss: 0.5949 - val_accuracy: 0.8949\n",
            "Epoch 86/100\n",
            "204/204 [==============================] - 2s 8ms/step - loss: 0.0424 - accuracy: 0.9872 - val_loss: 0.6443 - val_accuracy: 0.8897\n",
            "Epoch 87/100\n",
            "204/204 [==============================] - 2s 8ms/step - loss: 0.0428 - accuracy: 0.9857 - val_loss: 0.6167 - val_accuracy: 0.8808\n",
            "Epoch 88/100\n",
            "204/204 [==============================] - 2s 8ms/step - loss: 0.0268 - accuracy: 0.9911 - val_loss: 0.4552 - val_accuracy: 0.9064\n",
            "Epoch 89/100\n",
            "204/204 [==============================] - 2s 8ms/step - loss: 0.0179 - accuracy: 0.9941 - val_loss: 0.5015 - val_accuracy: 0.8974\n",
            "Epoch 90/100\n",
            "204/204 [==============================] - 2s 8ms/step - loss: 0.0161 - accuracy: 0.9951 - val_loss: 0.5779 - val_accuracy: 0.9090\n",
            "Epoch 91/100\n",
            "204/204 [==============================] - 2s 8ms/step - loss: 0.0566 - accuracy: 0.9855 - val_loss: 0.4685 - val_accuracy: 0.8987\n",
            "Epoch 92/100\n",
            "204/204 [==============================] - 2s 8ms/step - loss: 0.0276 - accuracy: 0.9904 - val_loss: 0.6556 - val_accuracy: 0.8904\n",
            "Epoch 93/100\n",
            "204/204 [==============================] - 2s 8ms/step - loss: 0.0340 - accuracy: 0.9892 - val_loss: 0.6625 - val_accuracy: 0.8897\n",
            "Epoch 94/100\n",
            "204/204 [==============================] - 2s 8ms/step - loss: 0.0305 - accuracy: 0.9939 - val_loss: 0.4868 - val_accuracy: 0.9115\n",
            "Epoch 95/100\n",
            "204/204 [==============================] - 2s 8ms/step - loss: 0.0335 - accuracy: 0.9889 - val_loss: 0.6124 - val_accuracy: 0.8942\n",
            "Epoch 96/100\n",
            "204/204 [==============================] - 2s 8ms/step - loss: 0.0204 - accuracy: 0.9929 - val_loss: 0.6752 - val_accuracy: 0.8737\n",
            "Epoch 97/100\n",
            "204/204 [==============================] - 2s 8ms/step - loss: 0.0199 - accuracy: 0.9939 - val_loss: 0.6532 - val_accuracy: 0.8949\n",
            "Epoch 98/100\n",
            "204/204 [==============================] - 2s 8ms/step - loss: 0.0210 - accuracy: 0.9929 - val_loss: 0.6500 - val_accuracy: 0.8974\n",
            "Epoch 99/100\n",
            "204/204 [==============================] - 2s 8ms/step - loss: 0.0133 - accuracy: 0.9953 - val_loss: 0.6491 - val_accuracy: 0.9115\n",
            "Epoch 100/100\n",
            "204/204 [==============================] - 2s 8ms/step - loss: 0.0263 - accuracy: 0.9909 - val_loss: 0.6171 - val_accuracy: 0.9103\n"
          ],
          "name": "stdout"
        }
      ]
    },
    {
      "cell_type": "code",
      "metadata": {
        "id": "FOAggXVJvfjq",
        "colab_type": "code",
        "outputId": "2ebc4e15-a446-4c80-e05d-5c5acb3f98f5",
        "colab": {
          "base_uri": "https://localhost:8080/",
          "height": 51
        }
      },
      "source": [
        "model_s.evaluate(X_test, Y_test) "
      ],
      "execution_count": 30,
      "outputs": [
        {
          "output_type": "stream",
          "text": [
            "49/49 [==============================] - 0s 5ms/step - loss: 0.6140 - accuracy: 0.9103\n"
          ],
          "name": "stdout"
        },
        {
          "output_type": "execute_result",
          "data": {
            "text/plain": [
              "[0.6139529347419739, 0.9102563858032227]"
            ]
          },
          "metadata": {
            "tags": []
          },
          "execution_count": 30
        }
      ]
    },
    {
      "cell_type": "code",
      "metadata": {
        "id": "SAOSZNKEwLdJ",
        "colab_type": "code",
        "colab": {}
      },
      "source": [
        "def plt_dynamic(x, vy, ty, ax, color = 'b'):\n",
        "    ax.plot(x, vy, 'b', label = 'Validation Loss')\n",
        "    ax.plot(x, ty, 'r', label = 'Train Loss')\n",
        "    plt.grid()\n",
        "    plt.legend()\n",
        "    fig.canvas.draw()"
      ],
      "execution_count": 0,
      "outputs": []
    },
    {
      "cell_type": "code",
      "metadata": {
        "id": "zDGjNyZNwBhS",
        "colab_type": "code",
        "outputId": "d7800895-bc1f-4ed2-bf8f-6d73ab989cc7",
        "colab": {
          "base_uri": "https://localhost:8080/",
          "height": 404
        }
      },
      "source": [
        "fig, ax = plt.subplots(1,1, figsize = (6, 6))\n",
        "ax.set_xlabel('epoch')\n",
        "ax.set_ylabel('Categorical Crossentropy Loss')\n",
        "plt.title('Relu + Dropout')\n",
        "\n",
        "# list of epoch numbers: epoch = 100\n",
        "x = list(range(1,epochs+1))\n",
        "vy = history_s.history['val_loss']\n",
        "ty = history_s.history['loss']\n",
        "plt_dynamic(x, vy, ty, ax)"
      ],
      "execution_count": 32,
      "outputs": [
        {
          "output_type": "display_data",
          "data": {
            "image/png": "[encoded data removed]",
            "text/plain": [
              "<Figure size 432x432 with 1 Axes>"
            ]
          },
          "metadata": {
            "tags": [],
            "needs_background": "light"
          }
        }
      ]
    },
    {
      "cell_type": "code",
      "metadata": {
        "id": "3TXkvdeewN3g",
        "colab_type": "code",
        "colab": {}
      },
      "source": [
        "def confusion_matrix(Y_true, Y_pred):\n",
        "    Y_true = pd.Series([label[y] for y in np.argmax(Y_true, axis=1)])\n",
        "    Y_pred = pd.Series([label[y] for y in np.argmax(Y_pred, axis=1)])\n",
        "    c_m = pd.crosstab(Y_true, Y_pred, rownames=['True'], colnames=['Pred'])\n",
        "\n",
        "    plt.figure(figsize= (6, 6))\n",
        "    c_m = sns.heatmap(c_m, annot=True, cmap= sns.light_palette(\"blue\"), fmt=\".3f\", xticklabels=label.values(), yticklabels= label.values())\n",
        "    plt.xlabel('Predicted Class')\n",
        "    plt.ylabel('Original Class')\n",
        "    plt.title(\"Confusion matrix\")\n",
        "    \n",
        "    \n",
        "    return c_m"
      ],
      "execution_count": 0,
      "outputs": []
    },
    {
      "cell_type": "code",
      "metadata": {
        "id": "2WM3hEzey2vR",
        "colab_type": "code",
        "outputId": "06030b0d-d559-47e2-f1ff-ce1a4ae4103b",
        "colab": {
          "base_uri": "https://localhost:8080/",
          "height": 421
        }
      },
      "source": [
        "confusion_matrix(Y_test, model_s.predict(X_test))"
      ],
      "execution_count": 34,
      "outputs": [
        {
          "output_type": "execute_result",
          "data": {
            "text/plain": [
              "<matplotlib.axes._subplots.AxesSubplot at 0x7fa250099c50>"
            ]
          },
          "metadata": {
            "tags": []
          },
          "execution_count": 34
        },
        {
          "output_type": "display_data",
          "data": {
            "image/png": "[encoded data removed]",
            "text/plain": [
              "<Figure size 432x432 with 2 Axes>"
            ]
          },
          "metadata": {
            "tags": [],
            "needs_background": "light"
          }
        }
      ]
    },
    {
      "cell_type": "code",
      "metadata": {
        "id": "SNdnL3Ia0IWC",
        "colab_type": "code",
        "outputId": "5031553f-f1ce-48bb-d59c-5f971771964a",
        "colab": {
          "base_uri": "https://localhost:8080/",
          "height": 34
        }
      },
      "source": [
        "import pickle\n",
        "model_s.save('model_s')"
      ],
      "execution_count": 35,
      "outputs": [
        {
          "output_type": "stream",
          "text": [
            "INFO:tensorflow:Assets written to: model_s/assets\n"
          ],
          "name": "stdout"
        }
      ]
    },
    {
      "cell_type": "markdown",
      "metadata": {
        "id": "rtO9Zou64W4W",
        "colab_type": "text"
      },
      "source": [
        "**Dynamic Activities**"
      ]
    },
    {
      "cell_type": "code",
      "metadata": {
        "id": "b3-suku94itO",
        "colab_type": "code",
        "colab": {}
      },
      "source": [
        "# Labelling the classes in 'y' after OHE\n",
        "\n",
        "label = {0:'WALKING', 1:'WALKING_UPSTAIRS', 2:'WALKING_DOWNSTAIRS'}\n",
        "\n",
        "def load_y_Dynamic(subset):\n",
        "  filename = f'/content/drive/My Drive/HumanActivityRecognition.zip (Unzipped Files)/HAR/UCI_HAR_Dataset/{subset}/y_{subset}.txt'\n",
        "  y = pd.read_csv(filename, delim_whitespace=True, header=None)[0]\n",
        "  y_subset = y<=3\n",
        "  y = y[y_subset] \n",
        "  return pd.get_dummies(y).values,y_subset "
      ],
      "execution_count": 0,
      "outputs": []
    },
    {
      "cell_type": "code",
      "metadata": {
        "id": "ES3vwU9C4wZT",
        "colab_type": "code",
        "colab": {}
      },
      "source": [
        "def load_data():\n",
        "    \"\"\"\n",
        "    Obtain the dataset from multiple files.\n",
        "    Returns: X_train, X_test, y_train, y_test\n",
        "    \"\"\"\n",
        "    X_train, X_test = data_load('train'), data_load('test')\n",
        "    y_train, y_train1 = load_y_Dynamic('train')\n",
        "    y_test, y_test1 =  load_y_Dynamic('test')\n",
        "\n",
        "    X_train = X_train[y_train1]\n",
        "\n",
        "    X_test = X_test[y_test1]\n",
        "    \n",
        "    return X_train, X_test, y_train, y_test "
      ],
      "execution_count": 0,
      "outputs": []
    },
    {
      "cell_type": "code",
      "metadata": {
        "id": "07R-KTJn5Ckf",
        "colab_type": "code",
        "outputId": "2cd09dd3-d824-4782-b59c-9d4301894b98",
        "colab": {
          "base_uri": "https://localhost:8080/",
          "height": 85
        }
      },
      "source": [
        "# Loading the train and test data\n",
        "X_train, X_test, Y_train, Y_test = load_data()\n",
        "\n",
        "print('X_train shape is: ',X_train.shape)\n",
        "print('Y_train shape is: ',Y_train.shape)\n",
        "print('X_test shape is: ',X_test.shape)\n",
        "print('Y_test shape is: ',Y_test.shape)"
      ],
      "execution_count": 38,
      "outputs": [
        {
          "output_type": "stream",
          "text": [
            "X_train shape is:  (3285, 128, 9)\n",
            "Y_train shape is:  (3285, 3)\n",
            "X_test shape is:  (1387, 128, 9)\n",
            "Y_test shape is:  (1387, 3)\n"
          ],
          "name": "stdout"
        }
      ]
    },
    {
      "cell_type": "code",
      "metadata": {
        "id": "YdnE-rdh5iob",
        "colab_type": "code",
        "outputId": "2ea545fc-499a-4b51-dea9-b8bdec3781e9",
        "colab": {
          "base_uri": "https://localhost:8080/",
          "height": 68
        }
      },
      "source": [
        "input_dim = len(X_train[0][0])\n",
        "\n",
        "print('Timesteps:', timesteps)\n",
        "print('Input Dim:', input_dim)\n",
        "print('No. of Train datapoints:', len(X_train))\n"
      ],
      "execution_count": 39,
      "outputs": [
        {
          "output_type": "stream",
          "text": [
            "Timesteps: 128\n",
            "Input Dim: 9\n",
            "No. of Train datapoints: 3285\n"
          ],
          "name": "stdout"
        }
      ]
    },
    {
      "cell_type": "code",
      "metadata": {
        "id": "5okGDBBf5qk4",
        "colab_type": "code",
        "outputId": "e03b08bc-48ba-4f1f-d4b8-c921e3e208a3",
        "colab": {
          "base_uri": "https://localhost:8080/",
          "height": 629
        }
      },
      "source": [
        "model_d= Sequential()\n",
        "model_d.add(Conv1D(filters= 64, kernel_size= 5, activation= 'relu', kernel_initializer= 'he_uniform', \n",
        "                  input_shape=(timesteps, input_dim)))\n",
        "model_d.add(Conv1D(filters= 64, kernel_size= 5, activation= 'relu', kernel_initializer= 'he_uniform'))\n",
        "model_d.add(MaxPooling1D(pool_size= 2, padding= 'same'))\n",
        "model_d.add(Dropout(0.40))\n",
        "model_d.add(Conv1D(filters= 32, kernel_size= 5, activation= 'relu', kernel_initializer= 'he_uniform'))\n",
        "model_d.add(Conv1D(filters= 32, kernel_size= 5, activation= 'relu', kernel_initializer= 'he_uniform',))\n",
        "\n",
        "# https://stackoverflow.com/a/49089027/10219869\n",
        "# https://stackoverflow.com/a/58498450/10219869\n",
        "model_d.add(MaxPooling1D(pool_size= 2, padding= 'same'))\n",
        "model_d.add(BatchNormalization())\n",
        "model_d.add(Dropout(0.40))\n",
        "model_d.add(Flatten())\n",
        "model_d.add(Dense(units= 100, activation= 'relu'))\n",
        "model_d.add(BatchNormalization())           \n",
        "model_d.add(Dropout(0.40))\n",
        "model_d.add(Dense(units= 3, activation= 'softmax'))\n",
        "model_d.summary()"
      ],
      "execution_count": 40,
      "outputs": [
        {
          "output_type": "stream",
          "text": [
            "Model: \"sequential_2\"\n",
            "_________________________________________________________________\n",
            "Layer (type)                 Output Shape              Param #   \n",
            "=================================================================\n",
            "conv1d_5 (Conv1D)            (None, 124, 64)           2944      \n",
            "_________________________________________________________________\n",
            "conv1d_6 (Conv1D)            (None, 120, 64)           20544     \n",
            "_________________________________________________________________\n",
            "max_pooling1d_3 (MaxPooling1 (None, 60, 64)            0         \n",
            "_________________________________________________________________\n",
            "dropout_4 (Dropout)          (None, 60, 64)            0         \n",
            "_________________________________________________________________\n",
            "conv1d_7 (Conv1D)            (None, 56, 32)            10272     \n",
            "_________________________________________________________________\n",
            "conv1d_8 (Conv1D)            (None, 52, 32)            5152      \n",
            "_________________________________________________________________\n",
            "max_pooling1d_4 (MaxPooling1 (None, 26, 32)            0         \n",
            "_________________________________________________________________\n",
            "batch_normalization_2 (Batch (None, 26, 32)            128       \n",
            "_________________________________________________________________\n",
            "dropout_5 (Dropout)          (None, 26, 32)            0         \n",
            "_________________________________________________________________\n",
            "flatten_2 (Flatten)          (None, 832)               0         \n",
            "_________________________________________________________________\n",
            "dense_3 (Dense)              (None, 100)               83300     \n",
            "_________________________________________________________________\n",
            "batch_normalization_3 (Batch (None, 100)               400       \n",
            "_________________________________________________________________\n",
            "dropout_6 (Dropout)          (None, 100)               0         \n",
            "_________________________________________________________________\n",
            "dense_4 (Dense)              (None, 3)                 303       \n",
            "=================================================================\n",
            "Total params: 123,043\n",
            "Trainable params: 122,779\n",
            "Non-trainable params: 264\n",
            "_________________________________________________________________\n"
          ],
          "name": "stdout"
        }
      ]
    },
    {
      "cell_type": "code",
      "metadata": {
        "id": "1nAWGiAw6aKC",
        "colab_type": "code",
        "colab": {}
      },
      "source": [
        "# Compiling the model \n",
        "model_d.compile(loss='categorical_crossentropy', optimizer='adam', metrics=['accuracy']) "
      ],
      "execution_count": 0,
      "outputs": []
    },
    {
      "cell_type": "code",
      "metadata": {
        "id": "6xo2l5tb6n1w",
        "colab_type": "code",
        "outputId": "45793501-2b5f-433f-de03-864591bb9980",
        "colab": {
          "base_uri": "https://localhost:8080/",
          "height": 1000
        }
      },
      "source": [
        "# Initializing parameters\n",
        "epochs =100\n",
        "batch_size =20\n",
        "# Training the model \n",
        "history_d= model_d.fit(X_train, Y_train, batch_size=batch_size, validation_data=(X_test, Y_test), epochs=epochs) "
      ],
      "execution_count": 42,
      "outputs": [
        {
          "output_type": "stream",
          "text": [
            "Epoch 1/100\n",
            "165/165 [==============================] - 2s 10ms/step - loss: 1.1062 - accuracy: 0.5723 - val_loss: 0.9853 - val_accuracy: 0.6222\n",
            "Epoch 2/100\n",
            "165/165 [==============================] - 1s 8ms/step - loss: 0.2503 - accuracy: 0.9096 - val_loss: 0.7093 - val_accuracy: 0.7549\n",
            "Epoch 3/100\n",
            "165/165 [==============================] - 1s 9ms/step - loss: 0.0826 - accuracy: 0.9726 - val_loss: 0.3539 - val_accuracy: 0.8745\n",
            "Epoch 4/100\n",
            "165/165 [==============================] - 2s 9ms/step - loss: 0.0512 - accuracy: 0.9857 - val_loss: 0.1500 - val_accuracy: 0.9416\n",
            "Epoch 5/100\n",
            "165/165 [==============================] - 1s 9ms/step - loss: 0.0384 - accuracy: 0.9930 - val_loss: 0.0685 - val_accuracy: 0.9748\n",
            "Epoch 6/100\n",
            "165/165 [==============================] - 1s 8ms/step - loss: 0.0283 - accuracy: 0.9896 - val_loss: 0.0892 - val_accuracy: 0.9690\n",
            "Epoch 7/100\n",
            "165/165 [==============================] - 1s 9ms/step - loss: 0.0254 - accuracy: 0.9912 - val_loss: 0.0634 - val_accuracy: 0.9733\n",
            "Epoch 8/100\n",
            "165/165 [==============================] - 1s 8ms/step - loss: 0.0194 - accuracy: 0.9930 - val_loss: 0.0823 - val_accuracy: 0.9712\n",
            "Epoch 9/100\n",
            "165/165 [==============================] - 1s 8ms/step - loss: 0.0204 - accuracy: 0.9948 - val_loss: 0.2586 - val_accuracy: 0.9164\n",
            "Epoch 10/100\n",
            "165/165 [==============================] - 1s 8ms/step - loss: 0.0299 - accuracy: 0.9915 - val_loss: 0.1549 - val_accuracy: 0.9466\n",
            "Epoch 11/100\n",
            "165/165 [==============================] - 1s 8ms/step - loss: 0.0368 - accuracy: 0.9875 - val_loss: 0.2452 - val_accuracy: 0.9373\n",
            "Epoch 12/100\n",
            "165/165 [==============================] - 1s 9ms/step - loss: 0.0222 - accuracy: 0.9939 - val_loss: 0.2536 - val_accuracy: 0.9178\n",
            "Epoch 13/100\n",
            "165/165 [==============================] - 1s 8ms/step - loss: 0.0357 - accuracy: 0.9881 - val_loss: 0.1340 - val_accuracy: 0.9503\n",
            "Epoch 14/100\n",
            "165/165 [==============================] - 1s 8ms/step - loss: 0.0182 - accuracy: 0.9939 - val_loss: 0.0814 - val_accuracy: 0.9769\n",
            "Epoch 15/100\n",
            "165/165 [==============================] - 1s 8ms/step - loss: 0.0056 - accuracy: 0.9991 - val_loss: 0.0944 - val_accuracy: 0.9668\n",
            "Epoch 16/100\n",
            "165/165 [==============================] - 1s 8ms/step - loss: 0.0075 - accuracy: 0.9976 - val_loss: 0.1121 - val_accuracy: 0.9632\n",
            "Epoch 17/100\n",
            "165/165 [==============================] - 1s 9ms/step - loss: 0.0111 - accuracy: 0.9957 - val_loss: 0.1214 - val_accuracy: 0.9690\n",
            "Epoch 18/100\n",
            "165/165 [==============================] - 1s 8ms/step - loss: 0.0186 - accuracy: 0.9954 - val_loss: 0.2404 - val_accuracy: 0.9279\n",
            "Epoch 19/100\n",
            "165/165 [==============================] - 1s 8ms/step - loss: 0.0137 - accuracy: 0.9951 - val_loss: 0.1193 - val_accuracy: 0.9546\n",
            "Epoch 20/100\n",
            "165/165 [==============================] - 1s 9ms/step - loss: 0.0091 - accuracy: 0.9967 - val_loss: 0.4119 - val_accuracy: 0.8882\n",
            "Epoch 21/100\n",
            "165/165 [==============================] - 1s 8ms/step - loss: 0.0174 - accuracy: 0.9945 - val_loss: 0.0876 - val_accuracy: 0.9784\n",
            "Epoch 22/100\n",
            "165/165 [==============================] - 1s 8ms/step - loss: 0.0328 - accuracy: 0.9948 - val_loss: 0.0680 - val_accuracy: 0.9841\n",
            "Epoch 23/100\n",
            "165/165 [==============================] - 1s 8ms/step - loss: 0.0410 - accuracy: 0.9860 - val_loss: 0.0802 - val_accuracy: 0.9683\n",
            "Epoch 24/100\n",
            "165/165 [==============================] - 1s 8ms/step - loss: 0.0255 - accuracy: 0.9927 - val_loss: 0.2028 - val_accuracy: 0.9445\n",
            "Epoch 25/100\n",
            "165/165 [==============================] - 1s 9ms/step - loss: 0.0094 - accuracy: 0.9960 - val_loss: 0.0608 - val_accuracy: 0.9820\n",
            "Epoch 26/100\n",
            "165/165 [==============================] - 1s 8ms/step - loss: 0.0075 - accuracy: 0.9982 - val_loss: 0.0867 - val_accuracy: 0.9712\n",
            "Epoch 27/100\n",
            "165/165 [==============================] - 1s 8ms/step - loss: 0.0071 - accuracy: 0.9982 - val_loss: 0.1124 - val_accuracy: 0.9676\n",
            "Epoch 28/100\n",
            "165/165 [==============================] - 1s 9ms/step - loss: 0.0083 - accuracy: 0.9979 - val_loss: 0.0686 - val_accuracy: 0.9719\n",
            "Epoch 29/100\n",
            "165/165 [==============================] - 1s 8ms/step - loss: 0.0062 - accuracy: 0.9982 - val_loss: 0.0368 - val_accuracy: 0.9841\n",
            "Epoch 30/100\n",
            "165/165 [==============================] - 1s 8ms/step - loss: 0.0049 - accuracy: 0.9991 - val_loss: 0.1020 - val_accuracy: 0.9640\n",
            "Epoch 31/100\n",
            "165/165 [==============================] - 1s 8ms/step - loss: 0.0049 - accuracy: 0.9997 - val_loss: 0.0396 - val_accuracy: 0.9877\n",
            "Epoch 32/100\n",
            "165/165 [==============================] - 1s 8ms/step - loss: 0.0032 - accuracy: 0.9991 - val_loss: 0.0475 - val_accuracy: 0.9849\n",
            "Epoch 33/100\n",
            "165/165 [==============================] - 1s 8ms/step - loss: 0.0091 - accuracy: 0.9979 - val_loss: 0.0780 - val_accuracy: 0.9697\n",
            "Epoch 34/100\n",
            "165/165 [==============================] - 1s 8ms/step - loss: 0.0096 - accuracy: 0.9976 - val_loss: 0.0739 - val_accuracy: 0.9740\n",
            "Epoch 35/100\n",
            "165/165 [==============================] - 1s 8ms/step - loss: 0.0085 - accuracy: 0.9973 - val_loss: 0.1377 - val_accuracy: 0.9776\n",
            "Epoch 36/100\n",
            "165/165 [==============================] - 1s 8ms/step - loss: 0.0186 - accuracy: 0.9939 - val_loss: 0.0633 - val_accuracy: 0.9813\n",
            "Epoch 37/100\n",
            "165/165 [==============================] - 1s 8ms/step - loss: 0.0041 - accuracy: 0.9991 - val_loss: 0.0589 - val_accuracy: 0.9755\n",
            "Epoch 38/100\n",
            "165/165 [==============================] - 1s 8ms/step - loss: 0.0465 - accuracy: 0.9970 - val_loss: 0.1433 - val_accuracy: 0.9791\n",
            "Epoch 39/100\n",
            "165/165 [==============================] - 1s 8ms/step - loss: 0.0264 - accuracy: 0.9927 - val_loss: 0.0367 - val_accuracy: 0.9877\n",
            "Epoch 40/100\n",
            "165/165 [==============================] - 1s 9ms/step - loss: 0.0132 - accuracy: 0.9963 - val_loss: 0.0346 - val_accuracy: 0.9863\n",
            "Epoch 41/100\n",
            "165/165 [==============================] - 1s 8ms/step - loss: 0.0243 - accuracy: 0.9921 - val_loss: 0.0561 - val_accuracy: 0.9762\n",
            "Epoch 42/100\n",
            "165/165 [==============================] - 1s 9ms/step - loss: 0.0137 - accuracy: 0.9945 - val_loss: 0.0519 - val_accuracy: 0.9791\n",
            "Epoch 43/100\n",
            "165/165 [==============================] - 1s 9ms/step - loss: 0.0065 - accuracy: 0.9973 - val_loss: 0.1025 - val_accuracy: 0.9668\n",
            "Epoch 44/100\n",
            "165/165 [==============================] - 1s 8ms/step - loss: 0.0100 - accuracy: 0.9979 - val_loss: 0.0578 - val_accuracy: 0.9755\n",
            "Epoch 45/100\n",
            "165/165 [==============================] - 1s 8ms/step - loss: 0.0202 - accuracy: 0.9979 - val_loss: 0.1024 - val_accuracy: 0.9712\n",
            "Epoch 46/100\n",
            "165/165 [==============================] - 1s 8ms/step - loss: 0.0125 - accuracy: 0.9970 - val_loss: 0.0673 - val_accuracy: 0.9748\n",
            "Epoch 47/100\n",
            "165/165 [==============================] - 1s 9ms/step - loss: 0.0203 - accuracy: 0.9954 - val_loss: 0.0266 - val_accuracy: 0.9899\n",
            "Epoch 48/100\n",
            "165/165 [==============================] - 1s 9ms/step - loss: 0.0024 - accuracy: 0.9994 - val_loss: 0.0284 - val_accuracy: 0.9928\n",
            "Epoch 49/100\n",
            "165/165 [==============================] - 1s 9ms/step - loss: 0.0033 - accuracy: 0.9994 - val_loss: 0.0220 - val_accuracy: 0.9928\n",
            "Epoch 50/100\n",
            "165/165 [==============================] - 2s 9ms/step - loss: 0.0049 - accuracy: 0.9985 - val_loss: 0.0437 - val_accuracy: 0.9856\n",
            "Epoch 51/100\n",
            "165/165 [==============================] - 1s 9ms/step - loss: 0.0102 - accuracy: 0.9982 - val_loss: 0.0456 - val_accuracy: 0.9863\n",
            "Epoch 52/100\n",
            "165/165 [==============================] - 1s 9ms/step - loss: 0.0093 - accuracy: 0.9976 - val_loss: 0.0502 - val_accuracy: 0.9834\n",
            "Epoch 53/100\n",
            "165/165 [==============================] - 1s 8ms/step - loss: 0.0096 - accuracy: 0.9976 - val_loss: 0.1020 - val_accuracy: 0.9676\n",
            "Epoch 54/100\n",
            "165/165 [==============================] - 1s 8ms/step - loss: 0.0098 - accuracy: 0.9988 - val_loss: 0.0822 - val_accuracy: 0.9748\n",
            "Epoch 55/100\n",
            "165/165 [==============================] - 1s 8ms/step - loss: 0.0106 - accuracy: 0.9948 - val_loss: 0.0587 - val_accuracy: 0.9820\n",
            "Epoch 56/100\n",
            "165/165 [==============================] - 1s 8ms/step - loss: 0.0035 - accuracy: 0.9982 - val_loss: 0.1049 - val_accuracy: 0.9683\n",
            "Epoch 57/100\n",
            "165/165 [==============================] - 1s 8ms/step - loss: 0.0028 - accuracy: 0.9994 - val_loss: 0.0583 - val_accuracy: 0.9841\n",
            "Epoch 58/100\n",
            "165/165 [==============================] - 1s 8ms/step - loss: 0.0014 - accuracy: 0.9997 - val_loss: 0.0502 - val_accuracy: 0.9834\n",
            "Epoch 59/100\n",
            "165/165 [==============================] - 1s 8ms/step - loss: 0.0071 - accuracy: 0.9979 - val_loss: 0.0250 - val_accuracy: 0.9921\n",
            "Epoch 60/100\n",
            "165/165 [==============================] - 1s 8ms/step - loss: 0.0014 - accuracy: 0.9997 - val_loss: 0.0382 - val_accuracy: 0.9877\n",
            "Epoch 61/100\n",
            "165/165 [==============================] - 1s 8ms/step - loss: 0.0071 - accuracy: 0.9985 - val_loss: 0.0738 - val_accuracy: 0.9726\n",
            "Epoch 62/100\n",
            "165/165 [==============================] - 1s 8ms/step - loss: 0.0041 - accuracy: 0.9991 - val_loss: 0.1250 - val_accuracy: 0.9762\n",
            "Epoch 63/100\n",
            "165/165 [==============================] - 1s 8ms/step - loss: 0.0066 - accuracy: 0.9982 - val_loss: 0.0968 - val_accuracy: 0.9740\n",
            "Epoch 64/100\n",
            "165/165 [==============================] - 1s 9ms/step - loss: 0.0138 - accuracy: 0.9948 - val_loss: 0.2894 - val_accuracy: 0.9402\n",
            "Epoch 65/100\n",
            "165/165 [==============================] - 1s 8ms/step - loss: 0.0095 - accuracy: 0.9967 - val_loss: 0.0374 - val_accuracy: 0.9885\n",
            "Epoch 66/100\n",
            "165/165 [==============================] - 1s 8ms/step - loss: 0.0056 - accuracy: 0.9979 - val_loss: 0.0494 - val_accuracy: 0.9834\n",
            "Epoch 67/100\n",
            "165/165 [==============================] - 1s 9ms/step - loss: 0.0047 - accuracy: 0.9985 - val_loss: 0.0822 - val_accuracy: 0.9748\n",
            "Epoch 68/100\n",
            "165/165 [==============================] - 1s 8ms/step - loss: 0.0014 - accuracy: 0.9997 - val_loss: 0.0916 - val_accuracy: 0.9784\n",
            "Epoch 69/100\n",
            "165/165 [==============================] - 1s 8ms/step - loss: 5.0931e-04 - accuracy: 1.0000 - val_loss: 0.0699 - val_accuracy: 0.9784\n",
            "Epoch 70/100\n",
            "165/165 [==============================] - 1s 8ms/step - loss: 7.8539e-04 - accuracy: 0.9997 - val_loss: 0.0510 - val_accuracy: 0.9856\n",
            "Epoch 71/100\n",
            "165/165 [==============================] - 1s 8ms/step - loss: 0.0015 - accuracy: 0.9997 - val_loss: 0.0999 - val_accuracy: 0.9805\n",
            "Epoch 72/100\n",
            "165/165 [==============================] - 1s 8ms/step - loss: 5.6427e-04 - accuracy: 1.0000 - val_loss: 0.0671 - val_accuracy: 0.9849\n",
            "Epoch 73/100\n",
            "165/165 [==============================] - 1s 8ms/step - loss: 0.0033 - accuracy: 0.9988 - val_loss: 0.0870 - val_accuracy: 0.9805\n",
            "Epoch 74/100\n",
            "165/165 [==============================] - 1s 8ms/step - loss: 0.0152 - accuracy: 0.9960 - val_loss: 0.0986 - val_accuracy: 0.9798\n",
            "Epoch 75/100\n",
            "165/165 [==============================] - 1s 9ms/step - loss: 0.0072 - accuracy: 0.9982 - val_loss: 0.0855 - val_accuracy: 0.9769\n",
            "Epoch 76/100\n",
            "165/165 [==============================] - 1s 8ms/step - loss: 0.0049 - accuracy: 0.9988 - val_loss: 0.0424 - val_accuracy: 0.9827\n",
            "Epoch 77/100\n",
            "165/165 [==============================] - 1s 8ms/step - loss: 0.0143 - accuracy: 0.9991 - val_loss: 0.0389 - val_accuracy: 0.9870\n",
            "Epoch 78/100\n",
            "165/165 [==============================] - 1s 8ms/step - loss: 0.0134 - accuracy: 0.9970 - val_loss: 0.2074 - val_accuracy: 0.9430\n",
            "Epoch 79/100\n",
            "165/165 [==============================] - 1s 9ms/step - loss: 0.0227 - accuracy: 0.9979 - val_loss: 0.0488 - val_accuracy: 0.9841\n",
            "Epoch 80/100\n",
            "165/165 [==============================] - 1s 8ms/step - loss: 0.0151 - accuracy: 0.9948 - val_loss: 0.0366 - val_accuracy: 0.9913\n",
            "Epoch 81/100\n",
            "165/165 [==============================] - 1s 8ms/step - loss: 0.0021 - accuracy: 0.9991 - val_loss: 0.0248 - val_accuracy: 0.9928\n",
            "Epoch 82/100\n",
            "165/165 [==============================] - 1s 8ms/step - loss: 0.0024 - accuracy: 0.9994 - val_loss: 0.0299 - val_accuracy: 0.9899\n",
            "Epoch 83/100\n",
            "165/165 [==============================] - 1s 8ms/step - loss: 0.0080 - accuracy: 0.9991 - val_loss: 0.0607 - val_accuracy: 0.9827\n",
            "Epoch 84/100\n",
            "165/165 [==============================] - 1s 8ms/step - loss: 0.0166 - accuracy: 0.9948 - val_loss: 0.1378 - val_accuracy: 0.9596\n",
            "Epoch 85/100\n",
            "165/165 [==============================] - 1s 8ms/step - loss: 0.0051 - accuracy: 0.9985 - val_loss: 0.1307 - val_accuracy: 0.9625\n",
            "Epoch 86/100\n",
            "165/165 [==============================] - 1s 8ms/step - loss: 0.0043 - accuracy: 0.9994 - val_loss: 0.0929 - val_accuracy: 0.9697\n",
            "Epoch 87/100\n",
            "165/165 [==============================] - 1s 8ms/step - loss: 0.0021 - accuracy: 0.9994 - val_loss: 0.1296 - val_accuracy: 0.9676\n",
            "Epoch 88/100\n",
            "165/165 [==============================] - 1s 8ms/step - loss: 0.0065 - accuracy: 0.9985 - val_loss: 0.0858 - val_accuracy: 0.9805\n",
            "Epoch 89/100\n",
            "165/165 [==============================] - 1s 8ms/step - loss: 9.1152e-04 - accuracy: 0.9997 - val_loss: 0.0822 - val_accuracy: 0.9762\n",
            "Epoch 90/100\n",
            "165/165 [==============================] - 1s 8ms/step - loss: 0.0014 - accuracy: 0.9994 - val_loss: 0.0801 - val_accuracy: 0.9755\n",
            "Epoch 91/100\n",
            "165/165 [==============================] - 1s 8ms/step - loss: 0.0013 - accuracy: 0.9994 - val_loss: 0.1277 - val_accuracy: 0.9690\n",
            "Epoch 92/100\n",
            "165/165 [==============================] - 1s 9ms/step - loss: 0.0018 - accuracy: 0.9994 - val_loss: 0.1663 - val_accuracy: 0.9640\n",
            "Epoch 93/100\n",
            "165/165 [==============================] - 1s 8ms/step - loss: 0.0010 - accuracy: 0.9997 - val_loss: 0.0354 - val_accuracy: 0.9856\n",
            "Epoch 94/100\n",
            "165/165 [==============================] - 1s 9ms/step - loss: 7.4337e-04 - accuracy: 0.9997 - val_loss: 0.0607 - val_accuracy: 0.9849\n",
            "Epoch 95/100\n",
            "165/165 [==============================] - 1s 8ms/step - loss: 0.0016 - accuracy: 0.9994 - val_loss: 0.0337 - val_accuracy: 0.9841\n",
            "Epoch 96/100\n",
            "165/165 [==============================] - 1s 8ms/step - loss: 0.0012 - accuracy: 0.9994 - val_loss: 0.0436 - val_accuracy: 0.9885\n",
            "Epoch 97/100\n",
            "165/165 [==============================] - 1s 9ms/step - loss: 5.3329e-04 - accuracy: 0.9997 - val_loss: 0.0431 - val_accuracy: 0.9870\n",
            "Epoch 98/100\n",
            "165/165 [==============================] - 1s 8ms/step - loss: 5.8772e-04 - accuracy: 1.0000 - val_loss: 0.0499 - val_accuracy: 0.9856\n",
            "Epoch 99/100\n",
            "165/165 [==============================] - 1s 8ms/step - loss: 0.0063 - accuracy: 0.9988 - val_loss: 0.1438 - val_accuracy: 0.9712\n",
            "Epoch 100/100\n",
            "165/165 [==============================] - 1s 8ms/step - loss: 0.0046 - accuracy: 0.9988 - val_loss: 0.0717 - val_accuracy: 0.9740\n"
          ],
          "name": "stdout"
        }
      ]
    },
    {
      "cell_type": "code",
      "metadata": {
        "id": "fcNTI1PA6yzo",
        "colab_type": "code",
        "outputId": "8f28b860-0961-4798-dd53-d209962b7cfe",
        "colab": {
          "base_uri": "https://localhost:8080/",
          "height": 51
        }
      },
      "source": [
        "model_d.evaluate(X_test, Y_test) "
      ],
      "execution_count": 43,
      "outputs": [
        {
          "output_type": "stream",
          "text": [
            "44/44 [==============================] - 0s 5ms/step - loss: 0.0713 - accuracy: 0.9740\n"
          ],
          "name": "stdout"
        },
        {
          "output_type": "execute_result",
          "data": {
            "text/plain": [
              "[0.07126739621162415, 0.974044680595398]"
            ]
          },
          "metadata": {
            "tags": []
          },
          "execution_count": 43
        }
      ]
    },
    {
      "cell_type": "code",
      "metadata": {
        "id": "X06gtLra7J49",
        "colab_type": "code",
        "outputId": "811fc25e-41ed-41f2-b9f2-b7f3ec0afcf6",
        "colab": {
          "base_uri": "https://localhost:8080/",
          "height": 513
        }
      },
      "source": [
        "fig, ax = plt.subplots(1,1, figsize = (12, 8))\n",
        "ax.set_xlabel('epoch')\n",
        "ax.set_ylabel('Categorical Crossentropy Loss')\n",
        "plt.title('Relu + Dropout')\n",
        "\n",
        "# list of epoch numbers: epoch = 100\n",
        "x = list(range(1,100+1))\n",
        "vy = history_d.history['val_loss']\n",
        "ty = history_d.history['loss']\n",
        "plt_dynamic(x, vy, ty, ax)"
      ],
      "execution_count": 44,
      "outputs": [
        {
          "output_type": "display_data",
          "data": {
            "image/png": "[encoded data removed]",
            "text/plain": [
              "<Figure size 864x576 with 1 Axes>"
            ]
          },
          "metadata": {
            "tags": [],
            "needs_background": "light"
          }
        }
      ]
    },
    {
      "cell_type": "code",
      "metadata": {
        "id": "u8kP5dev7V3N",
        "colab_type": "code",
        "outputId": "aeda1963-e91e-4236-a131-fe32b0abe9c7",
        "colab": {
          "base_uri": "https://localhost:8080/",
          "height": 530
        }
      },
      "source": [
        "confusion_matrix(Y_test, model_s.predict(X_test))"
      ],
      "execution_count": 45,
      "outputs": [
        {
          "output_type": "execute_result",
          "data": {
            "text/plain": [
              "<matplotlib.axes._subplots.AxesSubplot at 0x7fa1ea7d8cc0>"
            ]
          },
          "metadata": {
            "tags": []
          },
          "execution_count": 45
        },
        {
          "output_type": "display_data",
          "data": {
            "image/png": "[encoded data removed]",
            "text/plain": [
              "<Figure size 432x432 with 2 Axes>"
            ]
          },
          "metadata": {
            "tags": [],
            "needs_background": "light"
          }
        }
      ]
    },
    {
      "cell_type": "code",
      "metadata": {
        "id": "8dRYdfb97xk8",
        "colab_type": "code",
        "outputId": "a76ba83a-611a-4e78-9f50-543e1db963a4",
        "colab": {
          "base_uri": "https://localhost:8080/",
          "height": 34
        }
      },
      "source": [
        "model_d.save('model_d')"
      ],
      "execution_count": 46,
      "outputs": [
        {
          "output_type": "stream",
          "text": [
            "INFO:tensorflow:Assets written to: model_d/assets\n"
          ],
          "name": "stdout"
        }
      ]
    },
    {
      "cell_type": "code",
      "metadata": {
        "id": "Crr4ff_1p0hz",
        "colab_type": "code",
        "outputId": "c9283aa0-793b-4daf-f8b9-12ef4ab0882c",
        "colab": {
          "base_uri": "https://localhost:8080/",
          "height": 85
        }
      },
      "source": [
        "\n",
        "print('X_train shape is: ',X_train_full.shape)\n",
        "print('Y_train shape is: ',Y_train_full.shape)\n",
        "print('X_test shape is: ',X_test_full.shape)\n",
        "print('Y_test shape is: ',Y_test_full.shape)"
      ],
      "execution_count": 47,
      "outputs": [
        {
          "output_type": "stream",
          "text": [
            "X_train shape is:  (7352, 128, 9)\n",
            "Y_train shape is:  (7352, 6)\n",
            "X_test shape is:  (2947, 128, 9)\n",
            "Y_test shape is:  (2947, 6)\n"
          ],
          "name": "stdout"
        }
      ]
    },
    {
      "cell_type": "code",
      "metadata": {
        "id": "1ncrsZWXwxYN",
        "colab_type": "code",
        "outputId": "7e75630b-1508-40a7-d591-756fc1013dfb",
        "colab": {
          "base_uri": "https://localhost:8080/",
          "height": 68
        }
      },
      "source": [
        "timesteps = len(X_train_full[0])\n",
        "input_dim = len(X_train_full[0][0])\n",
        "print(timesteps)\n",
        "print(input_dim)\n",
        "print(len(X_train_full))"
      ],
      "execution_count": 48,
      "outputs": [
        {
          "output_type": "stream",
          "text": [
            "128\n",
            "9\n",
            "7352\n"
          ],
          "name": "stdout"
        }
      ]
    },
    {
      "cell_type": "code",
      "metadata": {
        "id": "O0jHc5D_ZXfW",
        "colab_type": "code",
        "colab": {}
      },
      "source": [
        "predict_binary = model1.predict(X_test_full)\n",
        "f_predict_binary = np.argmax(predict_binary, axis=1)"
      ],
      "execution_count": 0,
      "outputs": []
    },
    {
      "cell_type": "code",
      "metadata": {
        "id": "bjISHFWvZil1",
        "colab_type": "code",
        "colab": {}
      },
      "source": [
        "X_dynamic= X_test_full[f_predict_binary==0] "
      ],
      "execution_count": 0,
      "outputs": []
    },
    {
      "cell_type": "code",
      "metadata": {
        "id": "-oG-lqWDa-Vi",
        "colab_type": "code",
        "colab": {
          "base_uri": "https://localhost:8080/",
          "height": 51
        },
        "outputId": "2ba54c71-966a-4dd2-8972-fa012c165069"
      },
      "source": [
        "X_dynamic[0][0]"
      ],
      "execution_count": 74,
      "outputs": [
        {
          "output_type": "execute_result",
          "data": {
            "text/plain": [
              "array([-0.03167277, -0.08279653, -0.06853677, -0.6562038 ,  0.5171189 ,\n",
              "       -0.2085947 ,  0.9455455 , -0.4315797 , -0.05446144])"
            ]
          },
          "metadata": {
            "tags": []
          },
          "execution_count": 74
        }
      ]
    },
    {
      "cell_type": "code",
      "metadata": {
        "id": "NPXfpNOtascg",
        "colab_type": "code",
        "colab": {}
      },
      "source": [
        "predict_dynamic = model_d.predict(X_dynamic)\n",
        "f_predict_dynamic = np.argmax(predict_dynamic,axis=1)"
      ],
      "execution_count": 0,
      "outputs": []
    },
    {
      "cell_type": "code",
      "metadata": {
        "id": "90c06rMJbICo",
        "colab_type": "code",
        "colab": {
          "base_uri": "https://localhost:8080/",
          "height": 34
        },
        "outputId": "bf7d7653-ecc9-4321-86d5-6b38aeab550e"
      },
      "source": [
        "f_predict_dynamic+1"
      ],
      "execution_count": 81,
      "outputs": [
        {
          "output_type": "execute_result",
          "data": {
            "text/plain": [
              "array([1, 1, 1, ..., 2, 2, 2])"
            ]
          },
          "metadata": {
            "tags": []
          },
          "execution_count": 81
        }
      ]
    },
    {
      "cell_type": "code",
      "metadata": {
        "id": "BNwnZyAGcG59",
        "colab_type": "code",
        "colab": {}
      },
      "source": [
        ""
      ],
      "execution_count": 0,
      "outputs": []
    },
    {
      "cell_type": "code",
      "metadata": {
        "id": "JfwQGnGlxrFM",
        "colab_type": "code",
        "colab": {}
      },
      "source": [
        "def predict(X):\n",
        "    ##predicting whether dynamic or static\n",
        "    predict_binary = model1.predict(X)\n",
        "    f_predict_binary = np.argmax(predict_binary, axis=1)\n",
        "    \n",
        "    #static data filter\n",
        "    X_static = X[f_predict_binary==1]\n",
        "    \n",
        "    #dynamic data filter\n",
        "    X_dynamic = X[f_predict_binary==0]\n",
        "    \n",
        "    #predicting static activities\n",
        "    predict_static = model_s.predict(X_static)\n",
        "    f_predict_static = np.argmax(predict_static,axis=1)\n",
        "    \n",
        "    #adding 3 because need to get inital prediction lable as output \n",
        "    f_predict_static = f_predict_static + 3\n",
        "    \n",
        "    #predicting dynamic activites\n",
        "    predict_dynamic = model_d.predict(X_dynamic)\n",
        "    f_predict_dynamic = np.argmax(predict_dynamic,axis=1)\n",
        "    \n",
        "    # lable of dynamic activites is given as fellowes {0: 'WALKING',1: 'WALKING_UPSTAIRS',2: 'WALKING_DOWNSTAIRS',3: 'SITTING',4: 'STANDING',5: 'LAYING'},so No need add any prediction lable as output.\n",
        "    f_predict_dynamic = f_predict_dynamic\n",
        "    \n",
        "    ##appending final output to one list in the same sequence of input data\n",
        "    i,j = 0,0\n",
        "    final_predict = []\n",
        "    \n",
        "    for q_p in f_predict_binary:\n",
        "        if q_p == 1:\n",
        "            final_predict.append(f_predict_static[i])\n",
        "            i = i + 1\n",
        "        else:\n",
        "            final_predict.append(f_predict_dynamic[j])\n",
        "            j = j + 1\n",
        "    \n",
        "    return final_predict"
      ],
      "execution_count": 0,
      "outputs": []
    },
    {
      "cell_type": "code",
      "metadata": {
        "id": "m2I4VR_nx7ob",
        "colab_type": "code",
        "outputId": "5b2cfe0f-7e84-4033-f816-821cf4a59d4e",
        "colab": {
          "base_uri": "https://localhost:8080/",
          "height": 51
        }
      },
      "source": [
        "from sklearn.metrics import accuracy_score\n",
        "\n",
        "train_pred = predict(X_train_full)\n",
        "test_pred = predict(X_test_full)\n",
        "\n",
        "print('Accuracy of train data',accuracy_score(np.argmax(Y_train_full,axis=1),train_pred))\n",
        "print('Accuracy of validation data',accuracy_score(np.argmax(Y_test_full,axis=1),test_pred))"
      ],
      "execution_count": 93,
      "outputs": [
        {
          "output_type": "stream",
          "text": [
            "Accuracy of train data 0.9949673558215452\n",
            "Accuracy of validation data 0.9382422802850356\n"
          ],
          "name": "stdout"
        }
      ]
    },
    {
      "cell_type": "code",
      "metadata": {
        "id": "cbEU2evPyMGx",
        "colab_type": "code",
        "outputId": "e00471df-ea9e-4209-bf4a-6cfb0928e771",
        "colab": {
          "base_uri": "https://localhost:8080/",
          "height": 530
        }
      },
      "source": [
        "ACTIVITIES = {0: 'WALKING',1: 'WALKING_UPSTAIRS',2: 'WALKING_DOWNSTAIRS',3: 'SITTING',4: 'STANDING',5: 'LAYING'}\n",
        "from sklearn.metrics import confusion_matrix\n",
        "cm = confusion_matrix(np.argmax(Y_test_full,axis=1), test_pred)\n",
        "plt.figure(figsize= (8, 6))\n",
        "sns.heatmap(cm, annot=True, cmap= sns.light_palette(\"blue\"), fmt=\".3f\", xticklabels=ACTIVITIES.values(), \n",
        "                      yticklabels= ACTIVITIES.values())\n",
        "plt.xlabel('Predicted Class')\n",
        "plt.ylabel('Original Class')\n",
        "plt.title(\"Confusion matrix\")"
      ],
      "execution_count": 95,
      "outputs": [
        {
          "output_type": "execute_result",
          "data": {
            "text/plain": [
              "Text(0.5, 1.0, 'Confusion matrix')"
            ]
          },
          "metadata": {
            "tags": []
          },
          "execution_count": 95
        },
        {
          "output_type": "display_data",
          "data": {
            "image/png": "[encoded data removed]",
            "text/plain": [
              "<Figure size 576x432 with 2 Axes>"
            ]
          },
          "metadata": {
            "tags": [],
            "needs_background": "light"
          }
        }
      ]
    },
    {
      "cell_type": "code",
      "metadata": {
        "id": "Fg057y_GyVkS",
        "colab_type": "code",
        "outputId": "83669ac4-bdec-49e1-9506-a782c2d3af1e",
        "colab": {
          "base_uri": "https://localhost:8080/",
          "height": 119
        }
      },
      "source": [
        "from prettytable import PrettyTable\n",
        "x = PrettyTable()\n",
        "\n",
        "x.field_names = ['Rank', 'Model', \"Test Accuracy\"]\n",
        "\n",
        "x.add_row([1, \"Divide + Conquer Model\", \"0.9949673558215452\"])\n",
        "x.add_row([2, \"32 LSTM Base Model\", \"0.9382422802850356\"])\n",
        "\n",
        "print(x)"
      ],
      "execution_count": 96,
      "outputs": [
        {
          "output_type": "stream",
          "text": [
            "+------+------------------------+--------------------+\n",
            "| Rank |         Model          |   Test Accuracy    |\n",
            "+------+------------------------+--------------------+\n",
            "|  1   | Divide + Conquer Model | 0.9949673558215452 |\n",
            "|  2   |   32 LSTM Base Model   | 0.9382422802850356 |\n",
            "+------+------------------------+--------------------+\n"
          ],
          "name": "stdout"
        }
      ]
    }
  ]
}